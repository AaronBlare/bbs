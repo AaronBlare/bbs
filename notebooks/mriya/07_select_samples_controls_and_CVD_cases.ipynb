{
 "cells": [
  {
   "cell_type": "markdown",
   "metadata": {
    "collapsed": false
   },
   "source": [
    "# Debugging autoreload"
   ]
  },
  {
   "cell_type": "code",
   "execution_count": null,
   "metadata": {
    "collapsed": false
   },
   "outputs": [],
   "source": [
    "%load_ext autoreload\n",
    "%autoreload 2"
   ]
  },
  {
   "cell_type": "markdown",
   "metadata": {
    "collapsed": false
   },
   "source": [
    "# Load packages"
   ]
  },
  {
   "cell_type": "code",
   "execution_count": 4,
   "metadata": {
    "ExecuteTime": {
     "end_time": "2024-07-01T14:29:22.801727Z",
     "start_time": "2024-07-01T14:29:18.695223Z"
    },
    "collapsed": false
   },
   "outputs": [],
   "source": [
    "from pytorch_tabular.utils import load_covertype_dataset\n",
    "from rich.pretty import pprint\n",
    "from sklearn.model_selection import BaseCrossValidator, ParameterGrid, ParameterSampler\n",
    "import torch\n",
    "import pickle\n",
    "import shutil\n",
    "from scipy import stats\n",
    "import shap\n",
    "from sklearn.model_selection import RepeatedStratifiedKFold\n",
    "from glob import glob\n",
    "import ast\n",
    "import matplotlib.pyplot as plt\n",
    "import seaborn as sns\n",
    "import copy\n",
    "import itertools\n",
    "from sklearn.model_selection import train_test_split\n",
    "import numpy as np\n",
    "from sklearn.metrics import mean_absolute_error\n",
    "from pytorch_tabular import MODEL_SWEEP_PRESETS\n",
    "import pandas as pd\n",
    "from pytorch_tabular import model_sweep\n",
    "from src.pt.model_sweep import model_sweep_custom\n",
    "import warnings\n",
    "from src.utils.configs import read_parse_config\n",
    "from src.pt.hyper_opt import train_hyper_opt\n",
    "from src.utils.hash import dict_hash\n",
    "import pathlib\n",
    "from tqdm import tqdm\n",
    "import distinctipy\n",
    "import matplotlib.patheffects as pe\n",
    "import matplotlib.colors as mcolors\n",
    "from statannotations.Annotator import Annotator\n",
    "from scipy.stats import mannwhitneyu\n",
    "from plottable import ColumnDefinition, Table\n",
    "from plottable.plots import bar\n",
    "from plottable.cmap import normed_cmap, centered_cmap\n",
    "import optuna\n",
    "from matplotlib.colors import LinearSegmentedColormap\n",
    "import matplotlib.cm\n",
    "import matplotlib as mpl\n",
    "from statsmodels.stats.multitest import multipletests\n",
    "import re\n",
    "from itertools import chain\n",
    "from pathlib import Path\n",
    "import requests\n",
    "from matplotlib.ticker import MaxNLocator\n",
    "from regression_bias_corrector import LinearBiasCorrector\n",
    "from scipy.stats import mannwhitneyu, variation, levene\n",
    "from copy import deepcopy\n",
    "import functools\n",
    "\n",
    "\n",
    "def conjunction(conditions):\n",
    "    return functools.reduce(np.logical_and, conditions)\n",
    "\n",
    "\n",
    "def disjunction(conditions):\n",
    "    return functools.reduce(np.logical_or, conditions)"
   ]
  },
  {
   "cell_type": "markdown",
   "metadata": {
    "collapsed": false
   },
   "source": [
    "# Load data"
   ]
  },
  {
   "cell_type": "code",
   "execution_count": 7,
   "metadata": {},
   "outputs": [],
   "source": [
    "path = f\"E:/YandexDisk/Work/bbd/mriya\"\n",
    "\n",
    "df = pd.read_excel(f\"{path}/data_bioage_all.xlsx\", index_col=0)\n",
    "df_icd = pd.read_excel(f\"{path}/ICD10.xlsx\", index_col=0)\n",
    "\n",
    "cvds = [\n",
    "    \"E78.9\", # Дислипидемия\n",
    "    \"I11.9\", # гипертония\n",
    "    \"E66.0\", # Ожирение\n",
    "    # \"G43.9\", # Мигрень\n",
    "    # \"K26.9\", # Язвенная болезнь\n",
    "    # \"K25.9\", # Язвенная болезнь\n",
    "    # \"J45.9\", # бронхиальная астма\n",
    "    # \"M06.9\", # Ревматоидный артрит\n",
    "    # \"K76.0\", # Жировая дегенерация печени\n",
    "    \"I48.9\", # Фибрилляция предсердий и трепетание предсердий\n",
    "    # \"N11\", # Хронический тубулоинтерстициальный нефрит\n",
    "    # \"M10.9\", # Подагра\n",
    "    \"I25.9\", # Хроническая ишемическая болезнь сердца\n",
    "    # \"L40.9\", # Псориаз\n",
    "    # \"N18.9\", # Хроническая болезнь почек\n",
    "    # \"J44.9\", # Хроническая обструктивная легочная болезнь\n",
    "    # \"E47.3\", # Недостаточность питания\n",
    "    # \"N48.4\", # Импотенция органического происхождения\n",
    "    \"I25.2\", # Перенесенный в прошлом инфаркт миокарда\n",
    "    \"I50.9\", # Сердечная недостаточность\n",
    "    # \"I69.4\", # Последствия инсульта\n",
    "]\n",
    "df['CVD'] = np.where(disjunction([df[m] == 1 for m in cvds]), 1, 0)\n",
    "df['Heatlhy'] = np.where(conjunction([df[m] == 0 for m in df_icd.index]), 1, 0)\n",
    "\n",
    "df.to_excel(f\"{path}/07_select_samples_controls_and_CVD_cases/df.xlsx\")\n"
   ]
  }
 ],
 "metadata": {
  "kernelspec": {
   "display_name": "py311",
   "language": "python",
   "name": "python3"
  },
  "language_info": {
   "codemirror_mode": {
    "name": "ipython",
    "version": 3
   },
   "file_extension": ".py",
   "mimetype": "text/x-python",
   "name": "python",
   "nbconvert_exporter": "python",
   "pygments_lexer": "ipython3",
   "version": "3.11.11"
  }
 },
 "nbformat": 4,
 "nbformat_minor": 0
}
