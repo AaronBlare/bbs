{
 "cells": [
  {
   "cell_type": "markdown",
   "metadata": {
    "collapsed": false
   },
   "source": [
    "# Debugging autoreload"
   ]
  },
  {
   "cell_type": "code",
   "execution_count": null,
   "metadata": {
    "collapsed": false
   },
   "outputs": [],
   "source": [
    "%load_ext autoreload\n",
    "%autoreload 2"
   ]
  },
  {
   "cell_type": "markdown",
   "metadata": {
    "collapsed": false
   },
   "source": [
    "# Load packages"
   ]
  },
  {
   "cell_type": "code",
   "execution_count": 31,
   "metadata": {
    "ExecuteTime": {
     "end_time": "2024-07-01T14:29:22.801727Z",
     "start_time": "2024-07-01T14:29:18.695223Z"
    },
    "collapsed": false
   },
   "outputs": [],
   "source": [
    "from pytorch_tabular.utils import load_covertype_dataset\n",
    "from rich.pretty import pprint\n",
    "from sklearn.model_selection import BaseCrossValidator, ParameterGrid, ParameterSampler\n",
    "import torch\n",
    "import pickle\n",
    "import shutil\n",
    "from scipy import stats\n",
    "import shap\n",
    "from sklearn.model_selection import RepeatedStratifiedKFold\n",
    "from glob import glob\n",
    "import ast\n",
    "import matplotlib.pyplot as plt\n",
    "import seaborn as sns\n",
    "import copy\n",
    "import itertools\n",
    "from sklearn.model_selection import train_test_split\n",
    "import numpy as np\n",
    "from pytorch_tabular.utils import make_mixed_dataset, print_metrics\n",
    "from pytorch_tabular import available_models\n",
    "from pytorch_tabular import TabularModel\n",
    "from pytorch_tabular.models import CategoryEmbeddingModelConfig, GANDALFConfig, TabNetModelConfig, FTTransformerConfig, DANetConfig\n",
    "from pytorch_tabular.config import DataConfig, OptimizerConfig, TrainerConfig\n",
    "from pytorch_tabular.models.common.heads import LinearHeadConfig\n",
    "from pytorch_tabular.tabular_model_tuner import TabularModelTuner\n",
    "from torchmetrics.functional.regression import mean_absolute_error, pearson_corrcoef\n",
    "from pytorch_tabular import MODEL_SWEEP_PRESETS\n",
    "import pandas as pd\n",
    "from pytorch_tabular import model_sweep\n",
    "from src.pt.model_sweep import model_sweep_custom\n",
    "import warnings\n",
    "from src.utils.configs import read_parse_config\n",
    "from src.pt.hyper_opt import train_hyper_opt\n",
    "from src.utils.hash import dict_hash\n",
    "import pathlib\n",
    "from tqdm import tqdm\n",
    "import distinctipy\n",
    "import matplotlib.patheffects as pe\n",
    "import matplotlib.colors as mcolors\n",
    "from statannotations.Annotator import Annotator\n",
    "from scipy.stats import mannwhitneyu\n",
    "from plottable import ColumnDefinition, Table\n",
    "from plottable.plots import bar\n",
    "from plottable.cmap import normed_cmap, centered_cmap\n",
    "import optuna\n",
    "from matplotlib.colors import LinearSegmentedColormap\n",
    "import matplotlib.cm\n",
    "import matplotlib as mpl\n",
    "from statsmodels.stats.multitest import multipletests\n",
    "import re\n",
    "import matplotlib.lines as mlines\n",
    "\n",
    "def make_rgb_transparent(rgb, bg_rgb, alpha):\n",
    "    return [alpha * c1 + (1 - alpha) * c2 for (c1, c2) in zip(rgb, bg_rgb)]\n",
    "\n",
    "def form_bar(base):\n",
    "    def formatter(x):\n",
    "        return f'{str(int(round(x * base)))}/{base}'\n",
    "    return formatter\n"
   ]
  },
  {
   "cell_type": "markdown",
   "metadata": {
    "collapsed": false
   },
   "source": [
    "# Load data"
   ]
  },
  {
   "cell_type": "code",
   "execution_count": 23,
   "metadata": {
    "ExecuteTime": {
     "end_time": "2024-07-01T14:29:45.850727Z",
     "start_time": "2024-07-01T14:29:22.801727Z"
    }
   },
   "outputs": [],
   "source": [
    "path = f\"D:/YandexDisk/Work/bbd\"\n",
    "\n",
    "df_subject = pd.read_csv(f\"{path}/ipop/subject.txt\", index_col=0, delimiter=\"\\t\")\n",
    "df_visit = pd.read_csv(f\"{path}/ipop/visit.txt\", index_col=0, delimiter=\"\\t\")\n",
    "feats_visit = ['CollectionDate', 'Event', 'Event_Note1', 'Event_Note2', 'Event_Note3', 'SubStudy']\n",
    "df_imm_sml = pd.read_csv(f\"{path}/ipop/Targeted Assays/Targ.proteomics.csv\", index_col=0)\n",
    "df_imm_big = pd.read_csv(f\"{path}/ipop/Targeted Assays/cytokine_abundance.txt\", index_col=0, delimiter=\"\\t\")\n",
    "\n",
    "feats_aliases = pd.read_excel(f\"{path}/ipop/Targeted Assays/feats_aliases.xlsx\", index_col=0)\n",
    "feats_aliases.dropna(axis=0, how='any', inplace=True)\n",
    "feats_aliases_dict = dict(zip(feats_aliases['ipop'], feats_aliases['gene']))\n",
    "df_imm_big.rename(columns=feats_aliases_dict, inplace=True)\n",
    "df_imm_sml.rename(columns=feats_aliases_dict, inplace=True)\n",
    "\n",
    "feats_imm_slctd = pd.read_excel(f\"{path}/immunology//feats_selected.xlsx\", index_col=0).index.values\n",
    "feats_cmn = list(set.intersection(set(feats_aliases_dict.values()), set(feats_imm_slctd)))\n",
    "\n",
    "df_imm_big = df_imm_big.loc[:, feats_cmn]\n",
    "df_imm_sml = df_imm_sml.loc[:, feats_cmn]\n",
    "\n",
    "df_imm_big['Subject_ID'] = df_imm_big.index.str.split('-').str[0]\n",
    "df_imm_sml['Subject_ID'] = df_imm_sml.index.str.split('-').str[0]\n",
    "\n",
    "pheno_samples_sml = list(set.intersection(set(df_imm_sml['Subject_ID'].unique()), set(df_subject.index)))\n",
    "for s in pheno_samples_sml:\n",
    "    df_imm_sml.loc[df_imm_sml['Subject_ID'] == s, df_subject.columns.values] = df_subject.loc[s, df_subject.columns.values].values\n",
    "pheno_ids_sml = df_imm_sml.index.intersection(df_visit.index).values\n",
    "df_imm_sml.loc[pheno_ids_sml, feats_visit] = df_visit.loc[pheno_ids_sml, feats_visit]\n",
    "\n",
    "pheno_samples_big = list(set.intersection(set(df_imm_big['Subject_ID'].unique()), set(df_subject.index)))\n",
    "for s in pheno_samples_big:\n",
    "    df_imm_big.loc[df_imm_big['Subject_ID'] == s, df_subject.columns.values] = df_subject.loc[s, df_subject.columns.values].values\n",
    "pheno_ids_big = df_imm_big.index.intersection(df_visit.index).values\n",
    "df_imm_big.loc[pheno_ids_big, feats_visit] = df_visit.loc[pheno_ids_big, feats_visit]\n",
    "\n",
    "df_imm_our = pd.read_excel(f\"{path}/immunology/002_central_vs_yakutia/data.xlsx\", index_col=0)"
   ]
  },
  {
   "cell_type": "markdown",
   "metadata": {},
   "source": [
    "# Big VS Our data"
   ]
  },
  {
   "cell_type": "code",
   "execution_count": 24,
   "metadata": {},
   "outputs": [],
   "source": [
    "path_save = f\"{path}/ipop/Targeted Assays/big_vs_our\"\n",
    "pathlib.Path(f\"{path_save}\").mkdir(parents=True, exist_ok=True)\n",
    "\n",
    "df_imm_big = df_imm_big.loc[df_imm_big['Event'] == 'Healthy', :]\n",
    "df_imm_big = df_imm_big[~df_imm_big.index.duplicated(keep='first')]\n",
    "df_imm_our['Part'] = 'UNN'\n",
    "df_imm_big['Part'] = 'IPOP'\n",
    "df_imm = pd.concat([df_imm_our, df_imm_big])"
   ]
  },
  {
   "cell_type": "code",
   "execution_count": null,
   "metadata": {},
   "outputs": [],
   "source": [
    "groups_ids = {\n",
    "    'UNN': df_imm.index[(df_imm['Part'] == 'UNN')].values,\n",
    "    'IPOP': df_imm.index[(df_imm['Part'] == 'IPOP')].values,\n",
    "}\n",
    "\n",
    "hist_bins = np.linspace(5, 115, 23)\n",
    "\n",
    "n_rows = 2\n",
    "n_cols = 1\n",
    "fig_width = 5\n",
    "fig_height = 6\n",
    "\n",
    "sns.set_theme(style='ticks')\n",
    "fig, axs = plt.subplots(n_rows, n_cols, figsize=(fig_width, fig_height), gridspec_kw={}, sharex=True, sharey=False)\n",
    "\n",
    "for group_id, group in enumerate(groups_ids.keys()):\n",
    "    row_id, col_id = divmod(group_id, n_cols)\n",
    "    \n",
    "    histplot = sns.histplot(\n",
    "        data=df_imm.loc[groups_ids[group], :],\n",
    "        bins=hist_bins,\n",
    "        edgecolor='k',\n",
    "        linewidth=1,\n",
    "        x=\"Age\",\n",
    "        hue='Sex',\n",
    "        palette={'F': 'crimson', 'M': 'dodgerblue'},\n",
    "        hue_order=['F', 'M'],\n",
    "        ax=axs[row_id]\n",
    "    )\n",
    "    axs[row_id].set(xlim=(0, 120))\n",
    "    axs[row_id].set_title(f\"{group} ({len(groups_ids[group])})\")\n",
    "plt.savefig(f\"{path_save}/hist_age.png\", bbox_inches='tight', dpi=200)\n",
    "plt.savefig(f\"{path_save}/hist_age.pdf\", bbox_inches='tight')\n",
    "plt.close(fig)"
   ]
  },
  {
   "cell_type": "markdown",
   "metadata": {},
   "source": [
    "## Select our data with same age distribution"
   ]
  },
  {
   "cell_type": "code",
   "execution_count": 26,
   "metadata": {},
   "outputs": [],
   "source": [
    "ids_to = groups_ids['IPOP']\n",
    "ids_from = groups_ids['UNN']\n",
    "\n",
    "hist_bins = np.linspace(5, 115, 23)\n",
    "age_counts, age_bin_edges = np.histogram(df_imm.loc[ids_to, 'Age'].values, bins=hist_bins)\n",
    "age_prob = age_counts / len(df_imm.loc[ids_to, 'Age'].values)\n",
    "bin_diff = age_bin_edges[1] - age_bin_edges[0]\n",
    "df_imm.loc[ids_from, 'Prob Age (IPOP)'] = age_prob[np.rint((df_imm.loc[ids_from, 'Age'].values - age_bin_edges[0]) / (bin_diff + 0.0001)).astype(int)]\n",
    "\n",
    "n_same_age = 200\n",
    "index_from_to = df_imm.loc[ids_from, :].sample(n=n_same_age, replace=False, weights='Prob Age (IPOP)', random_state=1337).index\n",
    "if index_from_to.is_unique:\n",
    "    ids_from_to = index_from_to.values\n",
    "else:\n",
    "    print(\"Not unique index\")"
   ]
  },
  {
   "cell_type": "code",
   "execution_count": null,
   "metadata": {},
   "outputs": [],
   "source": [
    "df_imm.loc[ids_from_to, 'Part'] = 'UNN (same age)'\n",
    "\n",
    "groups_ids = {\n",
    "    'UNN (same age)': df_imm.index[(df_imm['Part'] == 'UNN (same age)')].values,\n",
    "    'IPOP': df_imm.index[(df_imm['Part'] == 'IPOP')].values,\n",
    "}\n",
    "\n",
    "hist_bins = np.linspace(5, 115, 23)\n",
    "\n",
    "n_rows = 2\n",
    "n_cols = 1\n",
    "fig_width = 5\n",
    "fig_height = 6\n",
    "\n",
    "sns.set_theme(style='ticks')\n",
    "fig, axs = plt.subplots(n_rows, n_cols, figsize=(fig_width, fig_height), gridspec_kw={}, sharex=True, sharey=False)\n",
    "\n",
    "for group_id, group in enumerate(groups_ids.keys()):\n",
    "    row_id, col_id = divmod(group_id, n_cols)\n",
    "    \n",
    "    histplot = sns.histplot(\n",
    "        data=df_imm.loc[groups_ids[group], :],\n",
    "        bins=hist_bins,\n",
    "        edgecolor='k',\n",
    "        linewidth=1,\n",
    "        x=\"Age\",\n",
    "        hue='Sex',\n",
    "        palette={'F': 'crimson', 'M': 'dodgerblue'},\n",
    "        hue_order=['F', 'M'],\n",
    "        ax=axs[row_id]\n",
    "    )\n",
    "    axs[row_id].set(xlim=(0, 120))\n",
    "    axs[row_id].set_title(f\"{group} ({len(groups_ids[group])})\")\n",
    "plt.savefig(f\"{path_save}/hist_age_same.png\", bbox_inches='tight', dpi=200)\n",
    "plt.savefig(f\"{path_save}/hist_age_same.pdf\", bbox_inches='tight')\n",
    "plt.close(fig)"
   ]
  },
  {
   "cell_type": "markdown",
   "metadata": {},
   "source": [
    "### Calculate statistics"
   ]
  },
  {
   "cell_type": "code",
   "execution_count": 29,
   "metadata": {},
   "outputs": [],
   "source": [
    "df_stat = pd.DataFrame(index=list(feats_cmn))\n",
    "for feat in list(feats_cmn):\n",
    "    vals = {}\n",
    "    for group, ids in groups_ids.items():\n",
    "        vals[group] = df_imm.loc[ids, feat].values\n",
    "        df_stat.at[feat, f\"mean_{group}\"] = np.mean(vals[group])\n",
    "        df_stat.at[feat, f\"median_{group}\"] = np.median(vals[group])\n",
    "        df_stat.at[feat, f\"q75_{group}\"], df_stat.at[feat, f\"q25_{group}\"] = np.percentile(vals[group], [75 , 25])\n",
    "        df_stat.at[feat, f\"iqr_{group}\"] = df_stat.at[feat, f\"q75_{group}\"] - df_stat.at[feat, f\"q25_{group}\"]\n",
    "    _, df_stat.at[feat, \"mw_pval\"] = mannwhitneyu(vals['UNN (same age)'], vals['IPOP'], alternative='two-sided')\n",
    "\n",
    "_, df_stat.loc[feats_cmn, \"mw_pval_fdr_bh\"], _, _ = multipletests(df_stat.loc[feats_cmn, \"mw_pval\"], 0.05, method='fdr_bh')\n",
    "df_stat.sort_values([f\"mw_pval_fdr_bh\"], ascending=[True], inplace=True)\n",
    "df_stat.to_excel(f\"{path_save}/mw_same.xlsx\", index_label='Features')"
   ]
  },
  {
   "cell_type": "code",
   "execution_count": null,
   "metadata": {},
   "outputs": [],
   "source": [
    "df_stat['mw_pval_fdr_bh_log'] = -np.log10(df_stat['mw_pval_fdr_bh'])\n",
    "df_stat['color'] = 'pink'\n",
    "df_stat.loc[df_stat['mw_pval_fdr_bh'] < 0.05, 'color'] = 'red'\n",
    "sns.set_theme(style='whitegrid')\n",
    "fig, ax = plt.subplots(figsize=(4, 8))\n",
    "barplot = sns.barplot(\n",
    "    data=df_stat,\n",
    "    y=df_stat.index.values,\n",
    "    x='mw_pval_fdr_bh_log',\n",
    "    edgecolor='black',\n",
    "    palette=df_stat['color'].values,\n",
    "    dodge=True,\n",
    "    ax=ax\n",
    ")\n",
    "ax.set_xlabel(r\"$-\\log_{10}(\\mathrm{p-value})$\", fontsize=18)\n",
    "ax.set_ylabel('', fontsize=20)\n",
    "ax.set_xticklabels([f\"{int(tick):d}\" for tick in ax.get_xticks()], fontsize=16)\n",
    "ax.set_yticklabels(ax.get_yticklabels(), fontsize = 16)\n",
    "plt.savefig(f\"{path_save}/mw_same.png\", bbox_inches='tight', dpi=200)\n",
    "plt.savefig(f\"{path_save}/mw_same.pdf\", bbox_inches='tight')\n",
    "plt.close(fig)"
   ]
  },
  {
   "cell_type": "code",
   "execution_count": null,
   "metadata": {},
   "outputs": [],
   "source": [
    "n_rows = 5\n",
    "n_cols = 5\n",
    "fig_width = 15\n",
    "fig_height = 10\n",
    "\n",
    "groups_colors = {\n",
    "    'UNN (same age)': 'darkorange',\n",
    "    'IPOP': 'forestgreen',\n",
    "}\n",
    "\n",
    "df_fig = df_imm.loc[list(set.union(set(groups_ids['UNN (same age)']), set(groups_ids['IPOP']))), :]\n",
    "\n",
    "sns.set_theme(style='ticks')\n",
    "fig, axs = plt.subplots(n_rows, n_cols, figsize=(fig_width, fig_height), gridspec_kw={})\n",
    "feats_sorted = df_stat.index.values\n",
    "for f_id, f in enumerate(feats_sorted):\n",
    "    row_id, col_id = divmod(f_id, n_cols)\n",
    "    \n",
    "    q01 = df_fig[f].quantile(0.01)\n",
    "    q99 = df_fig[f].quantile(0.99)\n",
    "    sns.violinplot(\n",
    "        data=df_fig.loc[(df_fig[f] > q01) & (df_fig[f] < q99), :],\n",
    "        x='Part',\n",
    "        y=f,\n",
    "        palette=groups_colors,\n",
    "        scale='width',\n",
    "        order=list(groups_colors.keys()),\n",
    "        saturation=0.75,\n",
    "        cut=0,\n",
    "        linewidth=1.0,\n",
    "        ax=axs[row_id, col_id],\n",
    "        legend=False,\n",
    "    )\n",
    "    axs[row_id, col_id].set_ylabel(f)\n",
    "    axs[row_id, col_id].set_xlabel('')\n",
    "    axs[row_id, col_id].set(xticklabels=[]) \n",
    "    mw_pval = df_stat.at[f, \"mw_pval_fdr_bh\"]\n",
    "    pval_formatted = [f'{mw_pval:.2e}']\n",
    "    annotator = Annotator(\n",
    "        axs[row_id, col_id],\n",
    "        pairs=[('UNN (same age)', 'IPOP')],\n",
    "        data=df_fig,\n",
    "        x='Part',\n",
    "        y=f,\n",
    "        order=list(groups_colors.keys()),\n",
    "    )\n",
    "    annotator.set_custom_annotations(pval_formatted)\n",
    "    annotator.configure(loc='outside')\n",
    "    annotator.annotate()\n",
    "\n",
    "legend_handles = [\n",
    "    mlines.Line2D([], [], marker='o', linestyle='None', markeredgecolor='k', markerfacecolor=groups_colors['UNN (same age)'], markersize=10, label='UNN (same age)'),\n",
    "    mlines.Line2D([], [], marker='o', linestyle='None', markeredgecolor='k', markerfacecolor=groups_colors['IPOP'], markersize=10, label='IPOP')\n",
    "]\n",
    "fig.legend(handles=legend_handles, bbox_to_anchor=(0.5, 1.0), loc=\"lower center\", ncol=2, frameon=False, fontsize='large')\n",
    "fig.tight_layout()    \n",
    "plt.savefig(f\"{path_save}/violins_same.png\", bbox_inches='tight', dpi=200)\n",
    "plt.savefig(f\"{path_save}/violins_same.pdf\", bbox_inches='tight')\n",
    "plt.close(fig)\n",
    "    "
   ]
  }
 ],
 "metadata": {
  "kernelspec": {
   "display_name": "Python 3 (ipykernel)",
   "language": "python",
   "name": "python3"
  },
  "language_info": {
   "codemirror_mode": {
    "name": "ipython",
    "version": 3
   },
   "file_extension": ".py",
   "mimetype": "text/x-python",
   "name": "python",
   "nbconvert_exporter": "python",
   "pygments_lexer": "ipython3",
   "version": "3.11.8"
  }
 },
 "nbformat": 4,
 "nbformat_minor": 0
}
