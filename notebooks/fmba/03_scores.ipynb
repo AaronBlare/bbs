{
 "cells": [
  {
   "cell_type": "markdown",
   "id": "6a54b8f5",
   "metadata": {},
   "source": [
    "# Debugging autoreload"
   ]
  },
  {
   "cell_type": "code",
   "execution_count": null,
   "id": "42ac9e1f",
   "metadata": {},
   "outputs": [],
   "source": [
    "%load_ext autoreload\n",
    "%autoreload 2"
   ]
  },
  {
   "cell_type": "markdown",
   "id": "37c6edd9",
   "metadata": {},
   "source": [
    "# Load packages"
   ]
  },
  {
   "cell_type": "code",
   "execution_count": 1,
   "id": "1ffa4636",
   "metadata": {},
   "outputs": [],
   "source": [
    "import numpy as np\n",
    "import pandas as pd\n",
    "import statsmodels.formula.api as smf\n",
    "from scipy.stats import pearsonr, mannwhitneyu, levene"
   ]
  },
  {
   "cell_type": "markdown",
   "id": "0a39c0a9",
   "metadata": {},
   "source": [
    "# Load data"
   ]
  },
  {
   "cell_type": "code",
   "execution_count": 2,
   "id": "5a320591",
   "metadata": {},
   "outputs": [
    {
     "name": "stderr",
     "output_type": "stream",
     "text": [
      "C:\\Users\\alena\\AppData\\Local\\Temp\\ipykernel_10244\\2202026920.py:64: FutureWarning: Downcasting behavior in `replace` is deprecated and will be removed in a future version. To retain the old behavior, explicitly call `result.infer_objects(copy=False)`. To opt-in to the future behavior, set `pd.set_option('future.no_silent_downcasting', True)`\n",
      "  df['smoking'] = df['smoking'].replace({True: 1, False: 0})\n"
     ]
    }
   ],
   "source": [
    "path = f\"E:/YandexDisk/bbd/fmba\"\n",
    "path_pyaging = \"E:/YandexDisk/pydnameth/datasets/pyaging\"\n",
    "\n",
    "epi_ages = []\n",
    "\n",
    "df_pheno = pd.read_excel(f\"{path}/pheno_fixed.xlsx\", index_col=0)\n",
    "df_pheno.index = df_pheno.index.astype(str)\n",
    "\n",
    "df_ages = pd.read_excel(f\"{path}/PhenoAge_CognitiveAge/df.xlsx\", index_col=0)\n",
    "df_ages.index = df_ages.index.astype(str)\n",
    "linreg_pheno = smf.ols(formula=\"PhenoAge ~ Q('Chronological Age (PhenoAge)')\", data=df_ages).fit()\n",
    "df_ages[\"PhenoAge linear pred\"] = linreg_pheno.predict(df_ages)\n",
    "df_ages[\"PhenoAge acceleration lin\"] = df_ages[\"PhenoAge\"] - df_ages[\"PhenoAge linear pred\"]\n",
    "linreg_cogn = smf.ols(formula=\"CognitiveAge ~ Q('Chronological Age (CognitiveAge)')\", data=df_ages).fit()\n",
    "df_ages[\"CognitiveAge linear pred\"] = linreg_cogn.predict(df_ages)\n",
    "df_ages[\"CognitiveAge acceleration lin\"] = df_ages[\"CognitiveAge\"] - df_ages[\"CognitiveAge linear pred\"]\n",
    "df_ages[\"CognitiveAge acceleration lin\"] = df_ages[\"CognitiveAge\"] - linreg_cogn.predict(df_ages)\n",
    "cols_ages = [\n",
    "    'Chronological Age (PhenoAge)',\n",
    "    'PhenoAge',\n",
    "    'Chronological Age (CognitiveAge)',\n",
    "    'CognitiveAge',\n",
    "    'PhenoAge acceleration',\n",
    "    'CognitiveAge acceleration',\n",
    "    'PhenoAge linear pred',\n",
    "    'CognitiveAge linear pred',\n",
    "    'PhenoAge acceleration lin',\n",
    "    'CognitiveAge acceleration lin'\n",
    "]\n",
    "\n",
    "df_phenoage_nmk = pd.read_excel(f\"{path}/03_pheno_age/data_PhenoAge.xlsx\", index_col=0)\n",
    "df_phenoage_nmk.index = df_phenoage_nmk.index.astype(str)\n",
    "df_phenoage_nmk.rename(columns={\n",
    "    'PhenoAge': 'PhenoAge nmk',\n",
    "    'PhenoAge acceleration': 'PhenoAge acceleration nmk',\n",
    "    'PhenoAge Linear Pred': 'PhenoAge linear pred nmk',\n",
    "    'PhenoAge acceleration corrected': 'PhenoAge acceleration lin nmk',\n",
    "    }, inplace=True\n",
    ")\n",
    "cols_phenoage_nmk = [\n",
    "    'PhenoAge nmk',\n",
    "    'PhenoAge acceleration nmk',\n",
    "    'PhenoAge linear pred nmk',\n",
    "    'PhenoAge acceleration lin nmk'\n",
    "]\n",
    "\n",
    "df_epi_age_pf = pd.read_excel(f\"{path}/individual/EpiAgeScore/data.xlsx\", index_col=0)\n",
    "df_epi_age_pf.index = df_epi_age_pf.index.astype(str)\n",
    "\n",
    "pyaging_meta = pd.read_excel(f\"{path_pyaging}/clocks_meta.xlsx\", index_col='Clock Name')\n",
    "pyaging_meta['Clock Name'] = pyaging_meta.index\n",
    "pyaging_meta.drop(index=['Knight', 'LeeControl', 'LeeRefinedRobust', 'LeeRobust', 'PedBE', 'RepliTali', 'ENCen100'], inplace=True)\n",
    "epi_ages = pyaging_meta[pyaging_meta['Type'] == 'Age'].index.to_list()\n",
    "cols_epi_age_pf = [f\"{x} acceleration\" for x in epi_ages] + [f\"{x} corrected\" for x in epi_ages]\n",
    "\n",
    "dfs = [df_pheno, df_ages[cols_ages], df_phenoage_nmk[cols_phenoage_nmk], df_epi_age_pf[cols_epi_age_pf]]\n",
    "df = pd.concat(dfs, axis=1)\n",
    "df.rename(columns={f\"{x} corrected\": x for x in epi_ages}, inplace=True)\n",
    "\n",
    "df['дата рождения'] = pd.to_datetime(df['дата рождения'])\n",
    "df['Age'] = (pd.to_datetime(\"2024-11-11\") - df['дата рождения']) / np.timedelta64(1, 'D') / 365.25\n",
    "\n",
    "df['smoking'] = df['терапевт - фактор_риска'].str.contains('Курение табака')\n",
    "df['smoking'] = df['smoking'].replace({True: 1, False: 0})\n",
    "\n",
    "result_indexes = [f\"{x} acceleration\" for x in epi_ages] + ['PhenoAge acceleration', 'PhenoAge acceleration lin', 'PhenoAge acceleration nmk', 'PhenoAge acceleration lin nmk'] + ['CognitiveAge acceleration', 'CognitiveAge acceleration lin']\n",
    "df_result = pd.DataFrame(index=result_indexes)"
   ]
  },
  {
   "cell_type": "markdown",
   "id": "73e26956",
   "metadata": {},
   "source": [
    "# SCORE"
   ]
  },
  {
   "cell_type": "code",
   "execution_count": 3,
   "id": "6b314557",
   "metadata": {},
   "outputs": [
    {
     "name": "stderr",
     "output_type": "stream",
     "text": [
      "C:\\Users\\alena\\AppData\\Local\\Temp\\ipykernel_10244\\2545352864.py:8: FutureWarning: Downcasting behavior in `replace` is deprecated and will be removed in a future version. To retain the old behavior, explicitly call `result.infer_objects(copy=False)`. To opt-in to the future behavior, set `pd.set_option('future.no_silent_downcasting', True)`\n",
      "  df[col] = df[col].replace('норма', np.nan)\n"
     ]
    }
   ],
   "source": [
    "cols_for_score = [\"терапевт - артериальное давление верхнее\",\n",
    "                  \"биохимический анализ крови - холестерин\",\n",
    "                  \"smoking\",\n",
    "                  \"Age\"\n",
    "]\n",
    "for col in cols_for_score:\n",
    "    df[col] = df[col].replace('нет', np.nan)\n",
    "    df[col] = df[col].replace('норма', np.nan)\n",
    "    df[col] = pd.to_numeric(df[col])\n",
    "\n",
    "chd_s0_age = np.exp(-np.exp(-21.0) * np.power((df['Age'] - 20.0), 4.62))\n",
    "chd_s0_age_10 = np.exp(-np.exp(-21.0) * np.power((df['Age'] - 10.0), 4.62))\n",
    "chd_w = 0.24 * (df['биохимический анализ крови - холестерин'] - 6.0) + 0.018 * (df['терапевт - артериальное давление верхнее'] - 120.0) + 0.71 * df['smoking']\n",
    "chd_s_age = np.power(chd_s0_age, np.exp(chd_w))\n",
    "chd_s_age_10 = np.power(chd_s0_age_10, np.exp(chd_w))\n",
    "chd_s10_age = chd_s_age_10 / chd_s_age\n",
    "chd_risk_10 = 1.0 - chd_s10_age\n",
    "\n",
    "nchd_s0_age = np.exp(-np.exp(-25.7) * np.power((df['Age'] - 20.0), 5.47))\n",
    "nchd_s0_age_10 = np.exp(-np.exp(-25.7) * np.power((df['Age'] - 10.0), 5.47))\n",
    "nchd_w = 0.02 * (df['биохимический анализ крови - холестерин'] - 6.0) + 0.022 * (df['терапевт - артериальное давление верхнее'] - 120.0) + 0.63 * df['smoking']\n",
    "nchd_s_age = np.power(nchd_s0_age, np.exp(nchd_w))\n",
    "nchd_s_age_10 = np.power(nchd_s0_age_10, np.exp(nchd_w))\n",
    "nchd_s10_age = nchd_s_age_10 / nchd_s_age\n",
    "nchd_risk_10 = 1.0 - nchd_s10_age\n",
    "\n",
    "risk_10_age = chd_risk_10 + nchd_risk_10\n",
    "\n",
    "df['SCORE'] = risk_10_age\n",
    "df['SCORE group'] = np.where(df['SCORE']>=0.02, 'High', 'Low')"
   ]
  },
  {
   "cell_type": "code",
   "execution_count": 4,
   "id": "b27bb18d",
   "metadata": {},
   "outputs": [],
   "source": [
    "for clock in result_indexes:\n",
    "    filtered_df = df.dropna(subset=[clock, 'SCORE'])\n",
    "    rho, pval = pearsonr(filtered_df[clock].values, filtered_df['SCORE'].values)\n",
    "    df_result.at[clock, 'SCORE Pearson Rho'] = rho\n",
    "    df_result.at[clock, 'SCORE Pearson pval'] = pval\n",
    "    vals = {}\n",
    "    for group in ['High', 'Low']:\n",
    "        vals[group] = filtered_df.loc[filtered_df['SCORE group'] == group, clock].values\n",
    "    _, df_result.at[clock, \"SCORE Mann-Whitney pval\"] = mannwhitneyu(vals['High'], vals['Low'], alternative='two-sided')\n",
    "    _, df_result.at[clock, \"SCORE Levene pval\"] = levene(vals['High'], vals['Low'])"
   ]
  }
 ],
 "metadata": {
  "kernelspec": {
   "display_name": "py312",
   "language": "python",
   "name": "python3"
  },
  "language_info": {
   "codemirror_mode": {
    "name": "ipython",
    "version": 3
   },
   "file_extension": ".py",
   "mimetype": "text/x-python",
   "name": "python",
   "nbconvert_exporter": "python",
   "pygments_lexer": "ipython3",
   "version": "3.12.9"
  }
 },
 "nbformat": 4,
 "nbformat_minor": 5
}
