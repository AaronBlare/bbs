{
 "cells": [
  {
   "cell_type": "markdown",
   "metadata": {
    "collapsed": false
   },
   "source": [
    "# Debugging autoreload"
   ]
  },
  {
   "cell_type": "code",
   "execution_count": null,
   "metadata": {
    "collapsed": false
   },
   "outputs": [],
   "source": [
    "%load_ext autoreload\n",
    "%autoreload 2"
   ]
  },
  {
   "cell_type": "markdown",
   "metadata": {
    "collapsed": false
   },
   "source": [
    "# Load packages"
   ]
  },
  {
   "cell_type": "code",
   "execution_count": 1,
   "metadata": {
    "ExecuteTime": {
     "end_time": "2024-07-01T14:29:22.801727Z",
     "start_time": "2024-07-01T14:29:18.695223Z"
    },
    "collapsed": false
   },
   "outputs": [],
   "source": [
    "from pytorch_tabular.utils import load_covertype_dataset\n",
    "from rich.pretty import pprint\n",
    "from sklearn.model_selection import BaseCrossValidator, ParameterGrid, ParameterSampler\n",
    "import torch\n",
    "import pickle\n",
    "import shutil\n",
    "from scipy import stats\n",
    "import shap\n",
    "from sklearn.model_selection import RepeatedStratifiedKFold\n",
    "from glob import glob\n",
    "import ast\n",
    "import matplotlib.pyplot as plt\n",
    "import seaborn as sns\n",
    "import copy\n",
    "import itertools\n",
    "from sklearn.model_selection import train_test_split\n",
    "import numpy as np\n",
    "from pytorch_tabular.utils import make_mixed_dataset, print_metrics\n",
    "from pytorch_tabular import available_models\n",
    "from pytorch_tabular import TabularModel\n",
    "from pytorch_tabular.models import CategoryEmbeddingModelConfig, GANDALFConfig, TabNetModelConfig, FTTransformerConfig, DANetConfig\n",
    "from pytorch_tabular.config import DataConfig, OptimizerConfig, TrainerConfig\n",
    "from pytorch_tabular.models.common.heads import LinearHeadConfig\n",
    "from pytorch_tabular.tabular_model_tuner import TabularModelTuner\n",
    "from torchmetrics.functional.regression import mean_absolute_error, pearson_corrcoef\n",
    "from pytorch_tabular import MODEL_SWEEP_PRESETS\n",
    "import pandas as pd\n",
    "from pytorch_tabular import model_sweep\n",
    "from src.pt.model_sweep import model_sweep_custom\n",
    "import warnings\n",
    "from src.utils.configs import read_parse_config\n",
    "from src.pt.hyper_opt import train_hyper_opt\n",
    "from src.utils.hash import dict_hash\n",
    "import pathlib\n",
    "from tqdm import tqdm\n",
    "import distinctipy\n",
    "import matplotlib.patheffects as pe\n",
    "import matplotlib.colors as mcolors\n",
    "from statannotations.Annotator import Annotator\n",
    "from scipy.stats import mannwhitneyu\n",
    "from plottable import ColumnDefinition, Table\n",
    "from plottable.plots import bar\n",
    "from plottable.cmap import normed_cmap, centered_cmap\n",
    "import optuna\n",
    "from matplotlib.colors import LinearSegmentedColormap\n",
    "import matplotlib.cm\n",
    "import matplotlib as mpl\n",
    "from statsmodels.stats.multitest import multipletests\n",
    "import re\n",
    "import datetime\n",
    "from collections import Counter\n",
    "\n",
    "def make_rgb_transparent(rgb, bg_rgb, alpha):\n",
    "    return [alpha * c1 + (1 - alpha) * c2 for (c1, c2) in zip(rgb, bg_rgb)]\n",
    "\n",
    "def form_bar(base):\n",
    "    def formatter(x):\n",
    "        return f'{str(int(round(x * base)))}/{base}'\n",
    "    return formatter\n"
   ]
  },
  {
   "cell_type": "markdown",
   "metadata": {
    "collapsed": false
   },
   "source": [
    "# Load data"
   ]
  },
  {
   "cell_type": "code",
   "execution_count": 2,
   "metadata": {
    "ExecuteTime": {
     "end_time": "2024-07-01T14:29:45.850727Z",
     "start_time": "2024-07-01T14:29:22.801727Z"
    }
   },
   "outputs": [],
   "source": [
    "path = f\"D:/YandexDisk/Work/bbd/fmba\"\n",
    "path_save = f\"{path}/01_test_data\"\n",
    "\n",
    "# data_raw = pd.read_excel(f\"{path}/2024-08-30 Пример 1000 за 2023 г в формате широких данных.xlsx\", index_col=0)\n",
    "data_raw = pd.read_excel(f\"{path}/2024-10-11 1114 за 2023 г в формате широких данных.xlsx\", index_col=0)\n",
    "data = data_raw"
   ]
  },
  {
   "cell_type": "markdown",
   "metadata": {},
   "source": [
    "# NaNs analysis"
   ]
  },
  {
   "cell_type": "code",
   "execution_count": 3,
   "metadata": {},
   "outputs": [
    {
     "name": "stdout",
     "output_type": "stream",
     "text": [
      "39.217187099256215\n"
     ]
    }
   ],
   "source": [
    "nan_pct = data.isna().sum().sum() / data.size * 100\n",
    "print(nan_pct)"
   ]
  },
  {
   "cell_type": "code",
   "execution_count": 4,
   "metadata": {},
   "outputs": [],
   "source": [
    "nan_feats = data.isna().sum(axis=0).to_frame(name=\"Number of NaNs\")\n",
    "nan_feats[\"% of NaNs\"] = nan_feats[\"Number of NaNs\"] / data.shape[0] * 100\n",
    "nan_feats[\"Number of not-NaNs\"] = data.notna().sum(axis=0)\n",
    "nan_feats.sort_values([\"% of NaNs\"], ascending=[False], inplace=True)\n",
    "nan_feats.to_excel(f\"{path_save}/nan_feats.xlsx\", index_label=\"Features\")"
   ]
  },
  {
   "cell_type": "markdown",
   "metadata": {},
   "source": [
    "# Age and sex analysis"
   ]
  },
  {
   "cell_type": "code",
   "execution_count": 5,
   "metadata": {},
   "outputs": [
    {
     "name": "stderr",
     "output_type": "stream",
     "text": [
      "c:\\Users\\user\\anaconda3\\envs\\py311\\Lib\\site-packages\\seaborn\\_oldcore.py:1119: FutureWarning: use_inf_as_na option is deprecated and will be removed in a future version. Convert inf values to NaN before operating instead.\n",
      "  with pd.option_context('mode.use_inf_as_na', True):\n",
      "c:\\Users\\user\\anaconda3\\envs\\py311\\Lib\\site-packages\\seaborn\\_oldcore.py:1075: FutureWarning: When grouping with a length-1 list-like, you will need to pass a length-1 tuple to get_group in a future version of pandas. Pass `(name,)` instead of `name` to silence this warning.\n",
      "  data_subset = grouped_data.get_group(pd_key)\n",
      "c:\\Users\\user\\anaconda3\\envs\\py311\\Lib\\site-packages\\seaborn\\_oldcore.py:1075: FutureWarning: When grouping with a length-1 list-like, you will need to pass a length-1 tuple to get_group in a future version of pandas. Pass `(name,)` instead of `name` to silence this warning.\n",
      "  data_subset = grouped_data.get_group(pd_key)\n"
     ]
    },
    {
     "data": {
      "image/png": "[encoded data removed]",
      "text/plain": [
       "<Figure size 640x480 with 1 Axes>"
      ]
     },
     "metadata": {},
     "output_type": "display_data"
    }
   ],
   "source": [
    "data['дата рождения'] = pd.to_datetime(data['дата рождения'])\n",
    "data['date_now'] = pd.to_datetime(\"2024-01-01\")\n",
    "data['age'] = (data['date_now'] - data['дата рождения']) / np.timedelta64(1, 'D') / 365.25\n",
    "hp = sns.histplot(data=data, x='age', hue=\"пол\", binwidth=1, multiple=\"stack\")\n",
    "figure = hp.get_figure()    \n",
    "figure.savefig(f'{path_save}/age_hist.png')"
   ]
  },
  {
   "cell_type": "code",
   "execution_count": null,
   "metadata": {},
   "outputs": [],
   "source": [
    "data_vred = data[data['Текущая основная вредность - Физические факторы'] == 'Ионизирующие излученияК, радиоактивные веществаК;']\n",
    "hpv = sns.histplot(data=data_vred, x='age', hue=\"пол\", binwidth=1, multiple=\"stack\").set_title(\"Ионизирующие излучения\")\n",
    "figure = hpv.get_figure()    \n",
    "figure.savefig(f'{path_save}/ion_age_hist.png')"
   ]
  },
  {
   "cell_type": "code",
   "execution_count": null,
   "metadata": {},
   "outputs": [],
   "source": [
    "data_no_vred = data[data['Текущая основная вредность - Физические факторы'] != 'Ионизирующие излученияК, радиоактивные веществаК;']\n",
    "hpv = sns.histplot(data=data_no_vred, x='age', hue=\"пол\", binwidth=1, multiple=\"stack\").set_title(\"Без ионизирующих излучений\")\n",
    "figure = hpv.get_figure()    \n",
    "figure.savefig(f'{path_save}/no_ion_age_hist.png')"
   ]
  },
  {
   "cell_type": "markdown",
   "metadata": {},
   "source": [
    "# Diseases statistics"
   ]
  },
  {
   "cell_type": "code",
   "execution_count": null,
   "metadata": {},
   "outputs": [],
   "source": [
    "data['терапевт - код_заболевания'].replace({None: 'Healthy'}, inplace=True)\n",
    "\n",
    "subsets = {\n",
    "    'Все данные': data.index.values,\n",
    "    'Женщины': data.index[data['пол'] == 'Ж'].values,\n",
    "    'Мужчины': data.index[data['пол'] == 'М'].values,\n",
    "    'Ионизирующие излучения': data.index[data['Текущая основная вредность - Физические факторы'] == 'Ионизирующие излученияК, радиоактивные веществаК;'].values,\n",
    "    'Ионизирующие излучения\\nЖенщины': data.index[(data['Текущая основная вредность - Физические факторы'] == 'Ионизирующие излученияК, радиоактивные веществаК;') & (data['пол'] == 'Ж')].values,\n",
    "    'Ионизирующие излучения\\nМужчины': data.index[(data['Текущая основная вредность - Физические факторы'] == 'Ионизирующие излученияК, радиоактивные веществаК;') & (data['пол'] == 'М')].values,\n",
    "    'Нет излучения': data.index[data['Текущая основная вредность - Физические факторы'] != 'Ионизирующие излученияК, радиоактивные веществаК;'].values,\n",
    "    'Нет излучения\\nЖенщины': data.index[(data['Текущая основная вредность - Физические факторы'] != 'Ионизирующие излученияК, радиоактивные веществаК;') & (data['пол'] == 'Ж')].values,\n",
    "    'Нет излучения\\nМужчины': data.index[(data['Текущая основная вредность - Физические факторы'] != 'Ионизирующие излученияК, радиоактивные веществаК;') & (data['пол'] == 'М')].values,\n",
    "}"
   ]
  },
  {
   "cell_type": "code",
   "execution_count": null,
   "metadata": {},
   "outputs": [],
   "source": [
    "statuses = np.concatenate(data['терапевт - код_заболевания'].str.split(';').values)\n",
    "statuses = statuses[statuses != '']\n",
    "statuses_counter = Counter(statuses)\n",
    "df_statuses_counter = pd.DataFrame.from_dict(statuses_counter, orient='index', columns=['Count'])\n",
    "df_statuses_counter.sort_values(['Count'], ascending=[False], inplace=True)\n",
    "colors = distinctipy.get_colors(df_statuses_counter.shape[0], [mcolors.hex2color(mcolors.CSS4_COLORS['white']), mcolors.hex2color(mcolors.CSS4_COLORS['black'])], rng=1337)\n",
    "colors_statuses = {status: colors[status_id] for status_id, status in enumerate(df_statuses_counter.index.values)}"
   ]
  },
  {
   "cell_type": "code",
   "execution_count": null,
   "metadata": {},
   "outputs": [],
   "source": [
    "sns.set_theme(style='ticks')\n",
    "fig, axs = plt.subplots(1, 9, figsize=(30, 20), gridspec_kw={'wspace':0.4},sharey=False, sharex=False)\n",
    "\n",
    "for subset_id, (subset, subset_ids) in enumerate(subsets.items()):\n",
    "    df_data_subset = data.loc[subset_ids, :]\n",
    "    print(f\"{subset}: {len(df_data_subset)}\")\n",
    "    statuses = np.concatenate(df_data_subset['терапевт - код_заболевания'].str.split(';').values)\n",
    "    statuses = statuses[statuses != '']\n",
    "    statuses_counter = Counter(statuses)\n",
    "    df_statuses_counter = pd.DataFrame.from_dict(statuses_counter, orient='index', columns=['Count'])\n",
    "    df_statuses_counter.sort_values(['Count'], ascending=[False], inplace=True)\n",
    "\n",
    "    df_fig = df_statuses_counter.head(50)\n",
    "    df_fig['Status'] = df_fig.index.values\n",
    "    barplot = sns.barplot(\n",
    "        data=df_fig,\n",
    "        x='Count',\n",
    "        y='Status',\n",
    "        hue='Status',\n",
    "        palette=colors_statuses,\n",
    "        edgecolor='black',\n",
    "        dodge=False,\n",
    "        ax=axs[subset_id]\n",
    "    )\n",
    "    for container in barplot.containers:\n",
    "        barplot.bar_label(container, label_type='edge', fmt='%.d', fontsize=12, padding=2.0)\n",
    "    axs[subset_id].set_title(subset, fontsize='large')\n",
    "    axs[subset_id].set_ylabel('')\n",
    "    axs[subset_id].get_legend().remove()\n",
    "plt.savefig(f\"{path_save}/barplot_icd.png\", bbox_inches='tight', dpi=200)\n",
    "plt.savefig(f\"{path_save}/barplot_icd.pdf\", bbox_inches='tight')\n",
    "plt.close(fig)"
   ]
  }
 ],
 "metadata": {
  "kernelspec": {
   "display_name": "py311",
   "language": "python",
   "name": "python3"
  },
  "language_info": {
   "codemirror_mode": {
    "name": "ipython",
    "version": 3
   },
   "file_extension": ".py",
   "mimetype": "text/x-python",
   "name": "python",
   "nbconvert_exporter": "python",
   "pygments_lexer": "ipython3",
   "version": "3.11.8"
  }
 },
 "nbformat": 4,
 "nbformat_minor": 0
}
