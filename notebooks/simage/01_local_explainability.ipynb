{
 "cells": [
  {
   "cell_type": "markdown",
   "metadata": {
    "collapsed": false
   },
   "source": [
    "# Debugging autoreload"
   ]
  },
  {
   "cell_type": "code",
   "execution_count": null,
   "metadata": {
    "collapsed": false
   },
   "outputs": [],
   "source": [
    "%load_ext autoreload\n",
    "%autoreload 2"
   ]
  },
  {
   "cell_type": "markdown",
   "metadata": {
    "collapsed": false
   },
   "source": [
    "# Load packages"
   ]
  },
  {
   "cell_type": "code",
   "execution_count": null,
   "metadata": {
    "ExecuteTime": {
     "end_time": "2024-07-01T14:29:22.801727Z",
     "start_time": "2024-07-01T14:29:18.695223Z"
    },
    "collapsed": false
   },
   "outputs": [],
   "source": [
    "from pytorch_tabular.utils import load_covertype_dataset\n",
    "from rich.pretty import pprint\n",
    "from plotly.subplots import make_subplots\n",
    "from pytorch_tabular import TabularModel\n",
    "import torch\n",
    "import plotly.graph_objects as go\n",
    "from scipy import stats\n",
    "import shap\n",
    "from sklearn.model_selection import RepeatedStratifiedKFold\n",
    "from sklearn.impute import KNNImputer\n",
    "from glob import glob\n",
    "import ast\n",
    "import matplotlib.pyplot as plt\n",
    "import seaborn as sns\n",
    "import copy\n",
    "import itertools\n",
    "from sklearn.model_selection import train_test_split\n",
    "import numpy as np\n",
    "import pandas as pd\n",
    "from pytorch_tabular import model_sweep\n",
    "from src.pt.model_sweep import model_sweep_custom\n",
    "import warnings\n",
    "from src.utils.configs import read_parse_config\n",
    "from src.pt.hyper_opt import train_hyper_opt\n",
    "from src.utils.hash import dict_hash\n",
    "import pathlib\n",
    "from tqdm import tqdm\n",
    "import distinctipy\n",
    "import matplotlib.patheffects as pe\n",
    "import matplotlib.colors as mcolors\n",
    "from statannotations.Annotator import Annotator\n",
    "from scipy.stats import mannwhitneyu\n",
    "from plottable import ColumnDefinition, Table\n",
    "from plottable.plots import bar\n",
    "from plottable.cmap import normed_cmap, centered_cmap\n",
    "import optuna\n",
    "from matplotlib.colors import LinearSegmentedColormap\n",
    "import matplotlib.cm\n",
    "import matplotlib as mpl\n",
    "from statsmodels.stats.multitest import multipletests\n",
    "import re\n",
    "import datetime\n",
    "from collections import Counter\n",
    "from matplotlib.ticker import MaxNLocator\n",
    "from itertools import chain\n",
    "from sklearn.metrics import mean_absolute_error\n",
    "import pyaging as pya\n",
    "import matplotlib.lines as mlines\n",
    "from src.models.simage.tabular.widedeep.ft_transformer import WDFTTransformerModel\n",
    "import statsmodels.formula.api as smf\n",
    "from itertools import chain\n",
    "from pingouin import ancova\n",
    "from sklearn.preprocessing import LabelEncoder \n",
    "import upsetplot"
   ]
  },
  {
   "cell_type": "markdown",
   "metadata": {},
   "source": [
    "# Load data and model"
   ]
  },
  {
   "cell_type": "code",
   "execution_count": null,
   "metadata": {},
   "outputs": [],
   "source": [
    "path_save = f\"E:/YandexDisk/Work/bbd/simage/01_local_explainability\"\n",
    "path_load = f\"E:/YandexDisk/Work/pydnameth/datasets/GPL21145/GSEUNN/data/immuno/models/SImAge\"\n",
    "\n",
    "model = WDFTTransformerModel.load_from_checkpoint(checkpoint_path=f\"{path_load}/best_fold_0002.ckpt\")\n",
    "model.eval()\n",
    "model.freeze()\n",
    "model.to('cpu')\n",
    "\n",
    "data = pd.read_excel(f\"{path_load}/data.xlsx\", index_col=0)\n",
    "data_ctrl = data[data['Status'] == 'Control']\n",
    "feats = pd.read_excel(f\"{path_load}/feats_con_top10.xlsx\", index_col=0).index.values\n",
    "\n",
    "def predict_func(x):\n",
    "    batch = {\n",
    "        'all': torch.from_numpy(np.float32(x)),\n",
    "        'continuous': torch.from_numpy(np.float32(x)),\n",
    "        'categorical': torch.from_numpy(np.int32(x[:, []])),\n",
    "    }\n",
    "    return model(batch).cpu().detach().numpy()"
   ]
  },
  {
   "cell_type": "markdown",
   "metadata": {},
   "source": [
    "# Local explainability"
   ]
  },
  {
   "cell_type": "code",
   "execution_count": null,
   "metadata": {},
   "outputs": [],
   "source": [
    "samples = {\n",
    "    'control_negative_aa': 'trn_val_142',\n",
    "    'control_positive_aa': 'tst_ctrl_004',\n",
    "    'control_zero_aa': 'trn_val_254',\n",
    "    'esrd_positive_aa': 'tst_esrd_002'\n",
    "}\n",
    "\n",
    "for sample_type, sample_id in samples.items():\n",
    "\n",
    "    trgt_age = data.at[sample_id, 'Age']\n",
    "    trgt_pred = data.at[sample_id, 'SImAge']\n",
    "    trgt_aa = trgt_pred - trgt_age\n",
    "    print(trgt_age)\n",
    "    print(trgt_pred)\n",
    "\n",
    "    n_closest = 32\n",
    "    data_closest = data_ctrl.iloc[(data_ctrl['SImAge'] - trgt_age).abs().argsort()[:n_closest]]\n",
    "\n",
    "    explainer = shap.SamplingExplainer(predict_func, data_closest.loc[:, feats].values)\n",
    "    print(explainer.expected_value)\n",
    "    shap_values = explainer.shap_values(data.loc[[sample_id], feats].values)[0]\n",
    "    shap_values = shap_values * (trgt_pred - trgt_age) / (trgt_pred - explainer.expected_value)\n",
    "\n",
    "    shap.plots.waterfall(\n",
    "        shap.Explanation(\n",
    "            values=shap_values,\n",
    "            base_values=trgt_age,\n",
    "            data=data.loc[sample_id, feats].values,\n",
    "            feature_names=feats\n",
    "        ),\n",
    "        max_display=len(feats),\n",
    "        show=False,\n",
    "    )\n",
    "    fig = plt.gcf()\n",
    "    fig.savefig(f\"{path_save}/{sample_type}.pdf\", bbox_inches='tight')\n",
    "    fig.savefig(f\"{path_save}/{sample_type}.png\", bbox_inches='tight')\n",
    "    plt.close()"
   ]
  }
 ],
 "metadata": {
  "kernelspec": {
   "display_name": "py311",
   "language": "python",
   "name": "python3"
  },
  "language_info": {
   "codemirror_mode": {
    "name": "ipython",
    "version": 3
   },
   "file_extension": ".py",
   "mimetype": "text/x-python",
   "name": "python",
   "nbconvert_exporter": "python",
   "pygments_lexer": "ipython3",
   "version": "3.11.11"
  }
 },
 "nbformat": 4,
 "nbformat_minor": 0
}
