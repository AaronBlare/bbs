{
 "cells": [
  {
   "cell_type": "markdown",
   "metadata": {
    "collapsed": false
   },
   "source": [
    "# Debugging autoreload"
   ]
  },
  {
   "cell_type": "code",
   "execution_count": 1,
   "metadata": {
    "collapsed": false
   },
   "outputs": [],
   "source": [
    "%load_ext autoreload\n",
    "%autoreload 2"
   ]
  },
  {
   "cell_type": "markdown",
   "metadata": {
    "collapsed": false
   },
   "source": [
    "# Load packages"
   ]
  },
  {
   "cell_type": "code",
   "execution_count": 1,
   "metadata": {
    "ExecuteTime": {
     "end_time": "2024-07-01T14:29:22.801727Z",
     "start_time": "2024-07-01T14:29:18.695223Z"
    },
    "collapsed": false
   },
   "outputs": [],
   "source": [
    "from pytorch_tabular.utils import load_covertype_dataset\n",
    "from rich.pretty import pprint\n",
    "from sklearn.model_selection import BaseCrossValidator, ParameterGrid, ParameterSampler\n",
    "import torch\n",
    "import pickle\n",
    "import shutil\n",
    "import shap\n",
    "from sklearn.model_selection import RepeatedStratifiedKFold\n",
    "from glob import glob\n",
    "import ast\n",
    "import matplotlib.pyplot as plt\n",
    "import seaborn as sns\n",
    "import copy\n",
    "import itertools\n",
    "from sklearn.model_selection import train_test_split\n",
    "import numpy as np\n",
    "from pytorch_tabular.utils import make_mixed_dataset, print_metrics\n",
    "from pytorch_tabular import available_models\n",
    "from pytorch_tabular import TabularModel\n",
    "from pytorch_tabular.models import CategoryEmbeddingModelConfig, GANDALFConfig, TabNetModelConfig, FTTransformerConfig, DANetConfig\n",
    "from pytorch_tabular.config import DataConfig, OptimizerConfig, TrainerConfig\n",
    "from pytorch_tabular.models.common.heads import LinearHeadConfig\n",
    "from pytorch_tabular.tabular_model_tuner import TabularModelTuner\n",
    "from torchmetrics.functional.regression import mean_absolute_error, pearson_corrcoef\n",
    "from pytorch_tabular import MODEL_SWEEP_PRESETS\n",
    "import pandas as pd\n",
    "from pytorch_tabular import model_sweep\n",
    "from src.pt.model_sweep import model_sweep_custom\n",
    "import warnings\n",
    "from src.utils.configs import read_parse_config\n",
    "from src.pt.hyper_opt import train_hyper_opt\n",
    "from src.utils.hash import dict_hash\n",
    "import pathlib\n",
    "from tqdm import tqdm\n",
    "import distinctipy\n",
    "import matplotlib.patheffects as pe\n",
    "import matplotlib.colors as mcolors\n",
    "from statannotations.Annotator import Annotator\n",
    "from scipy.stats import mannwhitneyu\n",
    "from plottable import ColumnDefinition, Table\n",
    "from plottable.plots import bar\n",
    "from plottable.cmap import normed_cmap, centered_cmap\n",
    "import optuna\n",
    "from matplotlib.colors import LinearSegmentedColormap\n",
    "import matplotlib.cm\n",
    "import matplotlib as mpl\n",
    "from statsmodels.stats.multitest import multipletests\n",
    "import re\n",
    "\n",
    "def make_rgb_transparent(rgb, bg_rgb, alpha):\n",
    "    return [alpha * c1 + (1 - alpha) * c2 for (c1, c2) in zip(rgb, bg_rgb)]\n",
    "\n",
    "def form_bar(base):\n",
    "    def formatter(x):\n",
    "        return f'{str(int(round(x * base)))}/{base}'\n",
    "    return formatter\n"
   ]
  },
  {
   "cell_type": "markdown",
   "metadata": {
    "collapsed": false
   },
   "source": [
    "# Load data"
   ]
  },
  {
   "cell_type": "code",
   "execution_count": 57,
   "metadata": {
    "ExecuteTime": {
     "end_time": "2024-07-01T14:29:45.850727Z",
     "start_time": "2024-07-01T14:29:22.801727Z"
    }
   },
   "outputs": [],
   "source": [
    "path = f\"D:/YandexDisk/Work/bbd/atlas\"\n",
    "\n",
    "data_raw = pd.read_excel(f\"{path}/Биологический возраст.xlsx\", skiprows=6)\n",
    "\n",
    "data_raw['Age'] = pd.to_numeric(data_raw['Возраст пациента'].str.split(' ').str[0])\n",
    "data_raw['Sex'] = data_raw['Пол пациента'].replace({'жен': 'F', 'муж': 'M'})\n",
    "for f in['Рост', 'Вес', 'ИМТ']:\n",
    "    data_raw[f] = data_raw[f].astype(str).str.replace(',', '.')\n",
    "data_raw[['Рост', 'Вес', 'ИМТ']] = data_raw[['Рост', 'Вес', 'ИМТ']].apply(pd.to_numeric, errors='coerce', axis=1)\n",
    "hrs = data_raw['ЧСС'].astype(str).str.extract(r\"^(\\d+)\\D*(\\d*)$\")\n",
    "hrs = hrs.apply(pd.to_numeric, errors='coerce', axis=1)\n",
    "hrs['HR'] = hrs[0]\n",
    "hrs.loc[hrs[1].notna(), 'HR'] = 0.5 * (hrs.loc[hrs[1].notna(), 0] + hrs.loc[hrs[1].notna(), 1])\n",
    "data_raw['Heart rate'] = hrs['HR']\n",
    "data_raw['Единицы измерения'] = data_raw['Единицы измерения'].replace({'%': np.nan})\n",
    "data_raw['Feature'] = data_raw['Название параметра'].astype(str) + ' ' + data_raw['Единицы измерения'].astype(str).replace({'nan': ''})\n",
    "data_raw.loc[data_raw['Единицы измерения'].notna(), 'Feature'] = data_raw.loc[data_raw['Единицы измерения'].notna(), 'Название параметра'].astype(str) + ', ' + data_raw.loc[data_raw['Единицы измерения'].notna(),'Единицы измерения'].astype(str).replace({'nan': ''})\n",
    "\n",
    "data = data_raw.pivot(index='№ карты', columns='Feature', values='Значение параметра')\n",
    "data = data.apply(pd.to_numeric, errors='coerce', axis=1)\n",
    "\n",
    "feats_add = ['Age', 'Sex', 'Рост', 'Вес', 'ИМТ', 'Heart rate']\n",
    "for sample_id in data.index.values:\n",
    "    for f in feats_add:\n",
    "        f_vals = data_raw.loc[data_raw['№ карты'] == sample_id, f].unique()\n",
    "        if len(f_vals) > 1:\n",
    "            print(f_vals)\n",
    "        else:\n",
    "            data.at[sample_id, f] = f_vals[0]"
   ]
  },
  {
   "cell_type": "code",
   "execution_count": 73,
   "metadata": {},
   "outputs": [],
   "source": [
    "nan_feats = data.isna().sum(axis=0).to_frame(name=\"Number of NaNs\")\n",
    "nan_feats[\"% of NaNs\"] = nan_feats[\"Number of NaNs\"] / data.shape[0] * 100\n",
    "nan_feats[\"Number of not-NaNs\"] = data.notna().sum(axis=0)\n",
    "nan_feats.sort_values([\"% of NaNs\"], ascending=[False], inplace=True)\n",
    "nan_feats.to_excel(f\"{path}/nan_feats.xlsx\", index_label=\"Features\")\n",
    "\n",
    "sns.set_theme(style='ticks')\n",
    "plt.figure(figsize=(4, 25))\n",
    "barplot = sns.barplot(\n",
    "    data=nan_feats,\n",
    "    x=f\"% of NaNs\",\n",
    "    y=nan_feats.index,\n",
    "    edgecolor='black',\n",
    "    dodge=False,\n",
    ")\n",
    "for container in barplot.containers:\n",
    "    barplot.bar_label(container, label_type='edge', fmt='%.2f', fontsize=6, padding=2.5)\n",
    "plt.savefig(f\"{path}/feats_barplot.png\", bbox_inches='tight', dpi=200)\n",
    "plt.savefig(f\"{path}/feats_barplot.pdf\", bbox_inches='tight')\n",
    "plt.close()\n"
   ]
  }
 ],
 "metadata": {
  "kernelspec": {
   "display_name": "Python 3 (ipykernel)",
   "language": "python",
   "name": "python3"
  },
  "language_info": {
   "codemirror_mode": {
    "name": "ipython",
    "version": 3
   },
   "file_extension": ".py",
   "mimetype": "text/x-python",
   "name": "python",
   "nbconvert_exporter": "python",
   "pygments_lexer": "ipython3",
   "version": "3.11.8"
  }
 },
 "nbformat": 4,
 "nbformat_minor": 0
}
