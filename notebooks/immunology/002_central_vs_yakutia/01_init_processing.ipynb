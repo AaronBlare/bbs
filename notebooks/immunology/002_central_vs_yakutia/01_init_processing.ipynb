{
 "cells": [
  {
   "cell_type": "markdown",
   "source": [
    "# Debugging autoreload"
   ],
   "metadata": {
    "collapsed": false
   }
  },
  {
   "cell_type": "code",
   "source": [
    "%load_ext autoreload\n",
    "%autoreload 2"
   ],
   "metadata": {
    "collapsed": false
   },
   "outputs": [],
   "execution_count": null
  },
  {
   "cell_type": "markdown",
   "source": [
    "# Load packages"
   ],
   "metadata": {
    "collapsed": false
   }
  },
  {
   "cell_type": "code",
   "source": [
    "from pytorch_tabular.utils import load_covertype_dataset\n",
    "from rich.pretty import pprint\n",
    "from scipy.stats import mannwhitneyu\n",
    "import matplotlib.lines as mlines\n",
    "from statsmodels.stats.multitest import multipletests\n",
    "from sklearn.model_selection import RepeatedStratifiedKFold\n",
    "import statsmodels.formula.api as smf\n",
    "import torch\n",
    "import pathlib\n",
    "from glob import glob\n",
    "import ast\n",
    "import matplotlib.pyplot as plt\n",
    "import seaborn as sns\n",
    "import copy\n",
    "from sklearn.model_selection import train_test_split\n",
    "import numpy as np\n",
    "from pytorch_tabular.utils import make_mixed_dataset, print_metrics\n",
    "from pytorch_tabular import available_models\n",
    "from pytorch_tabular import TabularModel\n",
    "from pytorch_tabular.models import CategoryEmbeddingModelConfig, GANDALFConfig, TabNetModelConfig, FTTransformerConfig, DANetConfig\n",
    "from pytorch_tabular.config import DataConfig, OptimizerConfig, TrainerConfig\n",
    "from pytorch_tabular.models.common.heads import LinearHeadConfig\n",
    "from pytorch_tabular.tabular_model_tuner import TabularModelTuner\n",
    "from torchmetrics.functional.regression import mean_absolute_error, pearson_corrcoef\n",
    "from pytorch_tabular import MODEL_SWEEP_PRESETS\n",
    "import pandas as pd\n",
    "import json\n",
    "from pytorch_tabular import model_sweep\n",
    "from src.pt.model_sweep import model_sweep_custom\n",
    "import warnings\n",
    "from src.utils.configs import read_parse_config\n",
    "from src.utils.hash import dict_hash\n"
   ],
   "metadata": {
    "collapsed": false,
    "ExecuteTime": {
     "end_time": "2024-04-16T20:37:43.584228Z",
     "start_time": "2024-04-16T20:37:40.685191Z"
    }
   },
   "outputs": [],
   "execution_count": 1
  },
  {
   "metadata": {},
   "cell_type": "markdown",
   "source": "# Data preparation"
  },
  {
   "cell_type": "markdown",
   "source": "## Load full immunology data",
   "metadata": {
    "collapsed": false
   }
  },
  {
   "cell_type": "code",
   "source": [
    "path = f\"D:/YandexDisk/Work/pydnameth/datasets/GPL21145/GSEUNN\"\n",
    "path_save = \"D:/YandexDisk/Work/bbd/immunology/002_central_vs_yakutia\"\n",
    "\n",
    "feats = pd.read_excel(f\"{path}/data/immuno/feats_con.xlsx\", index_col=0).index.values\n",
    "feats_fimmu = pd.read_excel(f\"{path}/data/immuno/models/SImAge/feats_con_top10.xlsx\", index_col=0).index.values\n",
    "feats_slctd = pd.read_excel(f\"{path}/special/059_imm_data_selection/feats_selected.xlsx\", index_col=0).index.values\n",
    "\n",
    "df = pd.read_excel(f\"{path}/data/immuno/data.xlsx\", index_col=0)\n",
    "df_w_nans = pd.read_excel(f\"{path}/data/immuno/data_with_nans.xlsx\", index_col=0)"
   ],
   "metadata": {
    "collapsed": false
   },
   "outputs": [],
   "execution_count": null
  },
  {
   "metadata": {},
   "cell_type": "markdown",
   "source": "## Create data with NaNs"
  },
  {
   "metadata": {},
   "cell_type": "code",
   "source": [
    "files = [\n",
    "    \"Aging L, Q, H, I\",\n",
    "    \"Aging-Covid_05.01.2022\",\n",
    "    \"Aging-Covid-05.05.22\",\n",
    "    \"Covid_results_02_2021\",\n",
    "    \"Covid-25.11.20\",\n",
    "    \"MULTIPLEX_20_11_2020_ AGING\",\n",
    "    \"Yakutiya + TR\",\n",
    "    \"Мультиплекс_Agind&Covid\",\n",
    "    \"10-March-2024/48-plex-human-_xPONENT_2024\", \n",
    "]\n",
    "df_imm_genes = pd.read_excel(f\"{path}/data/immuno/immuno_markers_genes.xlsx\")\n",
    "dict_imm_genes = dict(zip(df_imm_genes['immuno_marker'], df_imm_genes['gene']))\n",
    "\n",
    "dfs_files = []\n",
    "nans_by_features = {}\n",
    "for file in files:\n",
    "    if file in [\"10-March-2024/48-plex-human-_xPONENT_2024\", \"10-March-2024/plate_1_analyst_2024\", \"10-March-2024/plate_2_analyst_2024\", \"10-March-2024/plate_3_analyst_2024\"]:\n",
    "        df_file = pd.read_excel(f\"{path}/data/immuno/files/processed/{file}.xlsx\", index_col=0)\n",
    "    else:\n",
    "        df_file = pd.read_excel(f\"{path}/data/immuno/files/processed/{file}.xlsx\", index_col=\"Sample\")\n",
    "    df_file.rename(columns=dict_imm_genes, inplace=True)\n",
    "    df_file = df_file.loc[:, feats]\n",
    "\n",
    "    # duplicates processing\n",
    "    if file == \"MULTIPLEX_20_11_2020_ AGING\":\n",
    "        df_file_doubled_unique = df_file.loc[~df_file.index.duplicated(keep=False), :]\n",
    "        df_file_doubled_1 = df_file.loc[df_file.index.duplicated(keep='first'), :]\n",
    "        df_file_doubled_2 = df_file.loc[df_file.index.duplicated(keep='last'), :]\n",
    "        df_file_duplicates_final = pd.concat([df_file_doubled_2, df_file_doubled_unique], axis=0)\n",
    "        df_file = df_file_duplicates_final\n",
    "    elif file == \"10-March-2024/48-plex-human-_xPONENT_2024\":\n",
    "        df_file = df_file.loc[df_file.index.str.startswith('M', na=False), :]\n",
    "    elif file in [\"10-March-2024/plate_1_analyst_2024\", \"10-March-2024/plate_2_analyst_2024\", \"10-March-2024/plate_3_analyst_2024\"]:\n",
    "        df_file = df_file.loc[df_file.index.str.startswith('M', na=False), :]\n",
    "        df_file.index += '_nlst'\n",
    "    df_file_duplicates = df_file.loc[df_file.index.duplicated(keep=False), :]\n",
    "    if df_file_duplicates.shape[0] > 0:\n",
    "        print(df_file_duplicates.index)\n",
    "        \n",
    "    for feat in df_file:\n",
    "        nan_vals = set(df_file.loc[df_file[feat].astype(str).str.contains(r'^([<>].*)$', regex=True), feat].values)\n",
    "        if len(nan_vals) > 0:\n",
    "            for nv in nan_vals:\n",
    "                if feat in nans_by_features:\n",
    "                    nans_by_features[feat].add(nv)\n",
    "                else:\n",
    "                    nans_by_features[feat] = {nv}\n",
    "    \n",
    "    dfs_files.append(df_file)\n",
    "\n",
    "df_w_nans = pd.concat(dfs_files, verify_integrity=False)\n",
    "df_w_nans.index = df_w_nans.index.map(str)\n",
    "df_w_nans = df_w_nans.loc[df.index.values, :]\n",
    "df_w_nans.replace(r'^([\\<].*)$', 'NaN', inplace=True, regex=True)\n",
    "for feat in feats:\n",
    "    ids_imputed_above = df_w_nans.index[df_w_nans[feat].astype(str).str.contains('>')]\n",
    "    df_w_nans.loc[ids_imputed_above, feat] = df.loc[ids_imputed_above, feat]\n",
    "df_w_nans = df_w_nans.apply(pd.to_numeric, errors='coerce')"
   ],
   "outputs": [],
   "execution_count": null
  },
  {
   "metadata": {},
   "cell_type": "markdown",
   "source": "### Save data with NaNs"
  },
  {
   "metadata": {},
   "cell_type": "code",
   "source": [
    "df_nans_by_features = pd.DataFrame(index=list(nans_by_features.keys()))\n",
    "df_nans_by_features['NaN values'] = list(nans_by_features.values())\n",
    "df_nans_by_features.to_excel(f\"{path}/data/immuno/nans_by_features.xlsx\", index=True, index_label='Feature')\n",
    "df_w_nans.to_excel(f\"{path}/data/immuno/data_with_nans.xlsx\", index=True, index_label='Index')"
   ],
   "outputs": [],
   "execution_count": null
  },
  {
   "metadata": {},
   "cell_type": "markdown",
   "source": "### Select filtered samples"
  },
  {
   "metadata": {},
   "cell_type": "code",
   "source": [
    "ids_target = pd.read_excel(f\"{path}/special/059_imm_data_selection/df_imm.xlsx\", index_col=0).index.values\n",
    "df = df.loc[ids_target, :]\n",
    "df_w_nans = df_w_nans.loc[ids_target, :]\n",
    "df.to_excel(f\"{path_save}/data.xlsx\", index=True, index_label='Index')\n",
    "df_w_nans.to_excel(f\"{path_save}/data_with_nans.xlsx\", index=True, index_label='Index')"
   ],
   "outputs": [],
   "execution_count": null
  },
  {
   "metadata": {},
   "cell_type": "markdown",
   "source": "# Load prepared data"
  },
  {
   "metadata": {
    "ExecuteTime": {
     "end_time": "2024-04-16T20:37:51.126991Z",
     "start_time": "2024-04-16T20:37:50.543511Z"
    }
   },
   "cell_type": "code",
   "source": [
    "path = f\"D:/YandexDisk/Work/pydnameth/datasets/GPL21145/GSEUNN\"\n",
    "path_save = \"D:/YandexDisk/Work/bbd/immunology/002_central_vs_yakutia\"\n",
    "\n",
    "feats = pd.read_excel(f\"{path}/data/immuno/feats_con.xlsx\", index_col=0).index.values\n",
    "feats_fimmu = pd.read_excel(f\"{path}/data/immuno/models/SImAge/feats_con_top10.xlsx\", index_col=0).index.values\n",
    "feats_slctd = pd.read_excel(f\"{path}/special/059_imm_data_selection/feats_selected.xlsx\", index_col=0).index.values\n",
    "\n",
    "df = pd.read_excel(f\"{path_save}/data.xlsx\", index_col=0)\n",
    "df_w_nans = pd.read_excel(f\"{path_save}/data_with_nans.xlsx\", index_col=0)"
   ],
   "outputs": [],
   "execution_count": 2
  },
  {
   "metadata": {},
   "cell_type": "markdown",
   "source": "# Statistics of NaNs"
  },
  {
   "metadata": {
    "ExecuteTime": {
     "end_time": "2024-04-16T20:37:54.196773Z",
     "start_time": "2024-04-16T20:37:53.346087Z"
    }
   },
   "cell_type": "code",
   "source": [
    "df_nan_feats = df_w_nans.loc[:, feats].isna().sum(axis=0).to_frame(name=\"Number of NaNs\")\n",
    "df_nan_feats[\"% of NaNs\"] = df_nan_feats[\"Number of NaNs\"] / df_w_nans.shape[0] * 100\n",
    "df_nan_feats[\"Number of not-NaNs\"] = df_w_nans.loc[:, feats].notna().sum(axis=0)\n",
    "df_nan_feats.sort_values([\"% of NaNs\"], ascending=[False], inplace=True)\n",
    "df_nan_feats.to_excel(f\"{path_save}/nan_feats.xlsx\", index_label=\"Features\")\n",
    "\n",
    "sns.set_theme(style='whitegrid')\n",
    "fig = plt.figure(figsize=(14, 4))\n",
    "plt.xticks(rotation=90)\n",
    "barplot = sns.barplot(\n",
    "    data=df_nan_feats,\n",
    "    x=df_nan_feats.index,\n",
    "    y=f\"% of NaNs\",\n",
    "    edgecolor='black',\n",
    "    dodge=False,\n",
    ")\n",
    "barplot.set_xlabel(\"\")\n",
    "plt.savefig(f\"{path_save}/nan_feats.png\", bbox_inches='tight', dpi=200)\n",
    "plt.savefig(f\"{path_save}/nan_feats.pdf\", bbox_inches='tight')\n",
    "plt.close(fig)\n",
    "\n",
    "thld_nan_in_feat = 25.3\n",
    "feats_imm_good = set(df_nan_feats.index[df_nan_feats['% of NaNs'] <= thld_nan_in_feat].values).union(set(feats_fimmu))\n",
    "print(f\"Number of filtered features: {len(feats_imm_good)}\")\n",
    "print(f\"Intersection with previous: {len(set.intersection(set(feats_imm_good), set(feats_slctd)))}\")"
   ],
   "outputs": [
    {
     "name": "stdout",
     "output_type": "stream",
     "text": [
      "Number of filtered features: 32\n",
      "Intersection with previous: 32\n"
     ]
    }
   ],
   "execution_count": 3
  },
  {
   "metadata": {},
   "cell_type": "markdown",
   "source": "# Basic region-specific analysis"
  },
  {
   "metadata": {
    "ExecuteTime": {
     "end_time": "2024-04-16T20:38:03.599915Z",
     "start_time": "2024-04-16T20:38:03.595669Z"
    }
   },
   "cell_type": "code",
   "source": [
    "colors_region = {'Central': 'gold', 'Yakutia': 'lightslategray'}\n",
    "pathlib.Path(f\"{path_save}/region_specific\").mkdir(parents=True, exist_ok=True)"
   ],
   "outputs": [],
   "execution_count": 4
  },
  {
   "metadata": {},
   "cell_type": "markdown",
   "source": "## Plot distribution"
  },
  {
   "metadata": {
    "ExecuteTime": {
     "end_time": "2024-04-16T20:40:12.206286Z",
     "start_time": "2024-04-16T20:40:11.964024Z"
    }
   },
   "cell_type": "code",
   "source": [
    "hist_bins = np.linspace(5, 115, 23)\n",
    "sns.set_theme(style='whitegrid')\n",
    "fig, ax = plt.subplots(figsize=(4, 3))\n",
    "df_fig = df.loc[:, ['Age', 'Region']].copy()\n",
    "df_fig.rename(columns={'Region': 'Cohort'}, inplace=True)\n",
    "histplot = sns.histplot(\n",
    "    data=df_fig,\n",
    "    bins=hist_bins,\n",
    "    edgecolor='k',\n",
    "    linewidth=1,\n",
    "    x=\"Age\",\n",
    "    hue='Cohort',\n",
    "    palette=colors_region,\n",
    "    hue_order=['Yakutia', 'Central'],\n",
    "    ax=ax\n",
    ")\n",
    "histplot.set(xlim=(0, 120))\n",
    "plt.savefig(f\"{path_save}/region_specific/histplot.png\", bbox_inches='tight', dpi=200)\n",
    "plt.savefig(f\"{path_save}/region_specific/histplot.pdf\", bbox_inches='tight')\n",
    "plt.close(fig)"
   ],
   "outputs": [],
   "execution_count": 6
  },
  {
   "metadata": {},
   "cell_type": "markdown",
   "source": "## Calculate statistics"
  },
  {
   "metadata": {
    "ExecuteTime": {
     "end_time": "2024-04-16T20:41:20.761300Z",
     "start_time": "2024-04-16T20:41:20.693307Z"
    }
   },
   "cell_type": "code",
   "source": [
    "df_stat = pd.DataFrame(index=list(feats_slctd))\n",
    "for feat in list(feats_slctd):\n",
    "    vals = {}\n",
    "    for group in ['Central', 'Yakutia']:\n",
    "        vals[group] = df.loc[df['Region'] == group, feat].values\n",
    "        df_stat.at[feat, f\"mean_{group}\"] = np.mean(vals[group])\n",
    "        df_stat.at[feat, f\"median_{group}\"] = np.median(vals[group])\n",
    "        df_stat.at[feat, f\"q75_{group}\"], df_stat.at[feat, f\"q25_{group}\"] = np.percentile(vals[group], [75 , 25])\n",
    "        df_stat.at[feat, f\"iqr_{group}\"] = df_stat.at[feat, f\"q75_{group}\"] - df_stat.at[feat, f\"q25_{group}\"]\n",
    "    _, df_stat.at[feat, \"mw_pval\"] = mannwhitneyu(vals['Central'], vals['Yakutia'], alternative='two-sided')\n",
    "_, df_stat.loc[feats_slctd, \"mw_pval_fdr_bh\"], _, _ = multipletests(df_stat.loc[feats_slctd, \"mw_pval\"].values, 0.05, method='fdr_bh')\n",
    "_, df_stat.loc[feats_slctd, \"mw_pval_bonferroni\"], _, _ = multipletests(df_stat.loc[feats_slctd, \"mw_pval\"].values, 0.05, method='bonferroni')\n",
    "_, df_stat.loc[feats_slctd, \"mw_pval_simes-hochberg\"], _, _ = multipletests(df_stat.loc[feats_slctd, \"mw_pval\"].values, 0.05, method='simes-hochberg')\n",
    "df_stat.sort_values([f\"mw_pval_fdr_bh\"], ascending=[True], inplace=True)\n",
    "df_stat.to_excel(f\"{path_save}/region_specific/stat.xlsx\", index_label='Features')"
   ],
   "outputs": [],
   "execution_count": 7
  },
  {
   "metadata": {},
   "cell_type": "markdown",
   "source": "## Plot features p-values"
  },
  {
   "metadata": {
    "ExecuteTime": {
     "end_time": "2024-04-16T20:41:30.739514Z",
     "start_time": "2024-04-16T20:41:30.328716Z"
    }
   },
   "cell_type": "code",
   "source": [
    "df_fig = df_stat.loc[feats_slctd, :]\n",
    "df_fig.sort_values([f\"mw_pval_fdr_bh\"], ascending=[True], inplace=True)\n",
    "df_fig['mw_pval_fdr_bh_log'] = -np.log10(df_fig['mw_pval_fdr_bh'])\n",
    "df_fig['color'] = 'pink'\n",
    "df_fig.loc[df_fig['mw_pval_fdr_bh'] < 0.05, 'color'] = 'red'\n",
    "\n",
    "fig, ax = plt.subplots(figsize=(3, 12))\n",
    "sns.set_theme(style='whitegrid')\n",
    "barplot = sns.barplot(\n",
    "    data=df_fig,\n",
    "    y=df_fig.index.values,\n",
    "    x='mw_pval_fdr_bh_log',\n",
    "    edgecolor='black',\n",
    "    palette=df_fig['color'].values,\n",
    "    hue=df_fig.index.values,\n",
    "    ax=ax,\n",
    "    legend=False\n",
    ")\n",
    "ax.set_xlabel(r\"$-\\log_{10}(\\mathrm{p-value})$\", fontsize=18)\n",
    "ax.set_ylabel('', fontsize=20)\n",
    "ax.set_xticklabels([f\"{int(tick):d}\" for tick in ax.get_xticks()], fontsize=16)\n",
    "ax.set_yticklabels(ax.get_yticklabels(), fontsize = 16)\n",
    "plt.savefig(f\"{path_save}/region_specific/barplot.png\", bbox_inches='tight', dpi=200)\n",
    "plt.savefig(f\"{path_save}/region_specific/barplot.pdf\", bbox_inches='tight')\n",
    "plt.close(fig)"
   ],
   "outputs": [
    {
     "name": "stderr",
     "output_type": "stream",
     "text": [
      "C:\\Users\\user\\AppData\\Local\\Temp\\ipykernel_47684\\1871428994.py:9: UserWarning: Numpy array is not a supported type for `palette`. Please convert your palette to a list. This will become an error in v0.14\n",
      "  barplot = sns.barplot(\n",
      "C:\\Users\\user\\AppData\\Local\\Temp\\ipykernel_47684\\1871428994.py:21: UserWarning: set_ticklabels() should only be used with a fixed number of ticks, i.e. after set_ticks() or using a FixedLocator.\n",
      "  ax.set_xticklabels([f\"{int(tick):d}\" for tick in ax.get_xticks()], fontsize=16)\n",
      "C:\\Users\\user\\AppData\\Local\\Temp\\ipykernel_47684\\1871428994.py:22: UserWarning: set_ticklabels() should only be used with a fixed number of ticks, i.e. after set_ticks() or using a FixedLocator.\n",
      "  ax.set_yticklabels(ax.get_yticklabels(), fontsize = 16)\n"
     ]
    }
   ],
   "execution_count": 8
  },
  {
   "metadata": {
    "ExecuteTime": {
     "end_time": "2024-04-16T20:42:33.689080Z",
     "start_time": "2024-04-16T20:42:29.779565Z"
    }
   },
   "cell_type": "code",
   "source": [
    "n_rows = 4\n",
    "n_cols = 8\n",
    "fig_width = 15\n",
    "fig_height = 12\n",
    "\n",
    "fig, axs = plt.subplots(n_rows, n_cols, figsize=(fig_width, fig_height), gridspec_kw={})\n",
    "sns.set_theme(style='whitegrid')\n",
    "\n",
    "feats_sorted = df_stat.index[df_stat.index.isin(feats_slctd)].values\n",
    "\n",
    "for f_id, f in enumerate(feats_sorted):\n",
    "    row_id, col_id = divmod(f_id, n_cols)\n",
    "    \n",
    "    q01 = df[f].quantile(0.01)\n",
    "    q99 = df[f].quantile(0.99)\n",
    "    \n",
    "    sns.violinplot(\n",
    "        data=df.loc[(df[f] > q01) & (df[f] < q99), :],\n",
    "        x='Region',\n",
    "        y=f,\n",
    "        hue='Region',\n",
    "        palette=colors_region,\n",
    "        density_norm='width',\n",
    "        order=list(colors_region.keys()),\n",
    "        saturation=0.75,\n",
    "        cut=0,\n",
    "        linewidth=1.0,\n",
    "        ax=axs[row_id, col_id],\n",
    "        legend=False,\n",
    "    )\n",
    "    axs[row_id, col_id].set_ylabel(f)\n",
    "    axs[row_id, col_id].set_xlabel('')\n",
    "    axs[row_id, col_id].set(xticklabels=[]) \n",
    "    mw_pval = df_stat.at[f, \"mw_pval_fdr_bh\"]\n",
    "    axs[row_id, col_id].set_title(f'{mw_pval:.2e}')\n",
    "    \n",
    "legend_handles = [\n",
    "    mlines.Line2D([], [], marker='o', linestyle='None', markeredgecolor='k', markerfacecolor=colors_region['Central'], markersize=10, label='Central'),\n",
    "    mlines.Line2D([], [], marker='o', linestyle='None', markeredgecolor='k', markerfacecolor=colors_region['Yakutia'], markersize=10, label='Yakutia')\n",
    "]\n",
    "fig.legend(handles=legend_handles, bbox_to_anchor=(0.5, 1.0), loc=\"lower center\", ncol=2, frameon=False, fontsize='large')\n",
    "fig.tight_layout()    \n",
    "plt.savefig(f\"{path_save}/region_specific/feats.png\", bbox_inches='tight', dpi=200)\n",
    "plt.savefig(f\"{path_save}/region_specific/feats.pdf\", bbox_inches='tight')\n",
    "plt.close(fig)"
   ],
   "outputs": [],
   "execution_count": 9
  },
  {
   "metadata": {},
   "cell_type": "markdown",
   "source": "## SImAge analysis"
  },
  {
   "metadata": {
    "ExecuteTime": {
     "end_time": "2024-04-16T20:49:18.135953Z",
     "start_time": "2024-04-16T20:49:17.679653Z"
    }
   },
   "cell_type": "code",
   "source": [
    "df_fig = df.loc[:, ['Age', 'SImAge', 'SImAge acceleration', 'Region']].copy()\n",
    "df_fig.rename(columns={'Region': 'Cohort'}, inplace=True)\n",
    "fig, ax = plt.subplots(figsize=(4.5, 4))\n",
    "sns.set_theme(style='whitegrid')\n",
    "scatter = sns.scatterplot(\n",
    "    data=df_fig,\n",
    "    x=\"Age\",\n",
    "    y=\"SImAge\",\n",
    "    hue=\"Cohort\",\n",
    "    palette=colors_region,\n",
    "    linewidth=0.2,\n",
    "    alpha=0.75,\n",
    "    edgecolor=\"k\",\n",
    "    s=20,\n",
    "    hue_order=list(colors_region.keys()),\n",
    "    ax=ax\n",
    ")\n",
    "bisect = sns.lineplot(\n",
    "    x=[0, 120],\n",
    "    y=[0, 120],\n",
    "    linestyle='--',\n",
    "    color='black',\n",
    "    linewidth=1.0,\n",
    "    ax=ax\n",
    ")\n",
    "ax.set_xlabel(\"Age\")\n",
    "ax.set_ylabel(\"SImAge\")\n",
    "ax.set_xlim(0, 120)\n",
    "ax.set_ylim(0, 120)\n",
    "plt.gca().set_aspect('equal', adjustable='box')\n",
    "plt.savefig(f\"{path_save}/region_specific/SImAge_scatter.png\", bbox_inches='tight', dpi=200)\n",
    "plt.savefig(f\"{path_save}/region_specific/SImAge_scatter.pdf\", bbox_inches='tight')\n",
    "plt.close()\n",
    "\n",
    "plt.figure(figsize=(2.5, 4))\n",
    "sns.set_theme(style='whitegrid')\n",
    "violin = sns.violinplot(\n",
    "    data=df_fig,\n",
    "    x='Cohort',\n",
    "    y='SImAge acceleration',\n",
    "    palette=colors_region,\n",
    "    hue='Cohort',\n",
    "    density_norm='width',\n",
    "    order=list(colors_region.keys()),\n",
    "    saturation=0.75,\n",
    "    legend=False\n",
    ")\n",
    "violin.set_xlabel(f\"\")\n",
    "mw_pval = mannwhitneyu(\n",
    "    df_fig.loc[df_fig['Cohort'] == 'Central', 'SImAge acceleration'].values,\n",
    "    df_fig.loc[df_fig['Cohort'] == 'Yakutia', 'SImAge acceleration'].values,\n",
    "    alternative='two-sided').pvalue\n",
    "violin.set_title(f'{mw_pval:.2e}')\n",
    "plt.savefig(f\"{path_save}/region_specific/SImAge_acceleration.png\", bbox_inches='tight', dpi=200)\n",
    "plt.savefig(f\"{path_save}/region_specific/SImAge_acceleration.pdf\", bbox_inches='tight')\n",
    "plt.close()\n",
    "\n",
    "df_metrics = pd.DataFrame(\n",
    "    index=['Central', 'Yakutia'],\n",
    "    columns=['mean_absolute_error', 'pearson_corrcoef', 'mean_age_acc']\n",
    ")\n",
    "for cohort in ['Central', 'Yakutia']:\n",
    "    pred = torch.from_numpy(df_fig.loc[df_fig['Cohort'] == cohort, 'SImAge'].values)\n",
    "    real = torch.from_numpy(df_fig.loc[df_fig['Cohort'] == cohort, 'Age'].values)\n",
    "    df_metrics.at[cohort, 'mean_absolute_error'] = mean_absolute_error(pred, real).numpy()\n",
    "    df_metrics.at[cohort, 'pearson_corrcoef'] = pearson_corrcoef(pred, real).numpy()\n",
    "    df_metrics.at[cohort, 'mean_age_acc'] = np.mean(df_fig.loc[df_fig['Cohort'] == cohort, 'SImAge acceleration'].values)\n",
    "df_metrics.to_excel(f\"{path_save}/region_specific/SImAge_metrics.xlsx\", index_label=\"Metrics\")"
   ],
   "outputs": [],
   "execution_count": 12
  },
  {
   "metadata": {},
   "cell_type": "markdown",
   "source": "# Create data for ML"
  },
  {
   "metadata": {},
   "cell_type": "code",
   "source": [
    "df_stat.loc[:, ['mw_pval']].to_excel(f\"{path_save}/classification/feats.xlsx\", index_label='Features')\n",
    "cols = ['Subject ID', 'Time', 'Sex', 'Age', 'Region', 'SImAge', 'SImAge acceleration', '|SImAge acceleration|', 'PMC10485620 ID', 'PMC9135940 ID', 'PMC10699032 ID']\n",
    "df_ml = df.loc[:, cols + df_stat.index.values.tolist()]"
   ],
   "outputs": [],
   "execution_count": null
  },
  {
   "metadata": {},
   "cell_type": "markdown",
   "source": "## Stratification by regions (target) and age"
  },
  {
   "metadata": {},
   "cell_type": "code",
   "source": [
    "random_state = 1337\n",
    "n_splits = 5\n",
    "\n",
    "stratify_cat_parts = {\n",
    "    'Central': df_ml.index[df_ml['Region'] == 'Central'].values,\n",
    "    'Yakutia': df_ml.index[df_ml['Region'] == 'Yakutia'].values,\n",
    "}\n",
    "\n",
    "for part, ids in stratify_cat_parts.items():\n",
    "    print(f\"{part}: {len(ids)}\")\n",
    "    con = df_ml.loc[ids, 'Age'].values\n",
    "    ptp = np.ptp(con)\n",
    "    num_bins = 5\n",
    "    bins = np.linspace(np.min(con) - 0.1 * ptp, np.max(con) + 0.1 * ptp, num_bins + 1)\n",
    "    binned = np.digitize(con, bins) - 1\n",
    "    unique, counts = np.unique(binned, return_counts=True)\n",
    "    occ = dict(zip(unique, counts))\n",
    "    k_fold = RepeatedStratifiedKFold(\n",
    "        n_splits=n_splits,\n",
    "        n_repeats=1,\n",
    "        random_state=random_state\n",
    "    )\n",
    "    splits = k_fold.split(X=ids, y=binned, groups=binned)\n",
    "    \n",
    "    for split_id, (ids_trn_val, ids_tst) in enumerate(splits):\n",
    "        df_ml.loc[ids[ids_trn_val], f\"Split_{split_id}\"] = \"trn_val\"\n",
    "        df_ml.loc[ids[ids_tst], f\"Split_{split_id}\"] = \"tst\""
   ],
   "outputs": [],
   "execution_count": null
  },
  {
   "metadata": {},
   "cell_type": "markdown",
   "source": "## Save data for ML"
  },
  {
   "metadata": {},
   "cell_type": "code",
   "source": "df_ml.to_excel(f\"{path_save}/classification/data.xlsx\", index_label='Index')",
   "outputs": [],
   "execution_count": null
  }
 ],
 "metadata": {
  "kernelspec": {
   "name": "python3",
   "language": "python",
   "display_name": "Python 3 (ipykernel)"
  },
  "language_info": {
   "codemirror_mode": {
    "name": "ipython",
    "version": 2
   },
   "file_extension": ".py",
   "mimetype": "text/x-python",
   "name": "python",
   "nbconvert_exporter": "python",
   "pygments_lexer": "ipython2",
   "version": "2.7.6"
  }
 },
 "nbformat": 4,
 "nbformat_minor": 0
}
