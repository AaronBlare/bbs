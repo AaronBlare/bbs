{
 "cells": [
  {
   "cell_type": "markdown",
   "metadata": {
    "collapsed": false
   },
   "source": [
    "# Debugging autoreload"
   ]
  },
  {
   "cell_type": "code",
   "execution_count": null,
   "metadata": {
    "collapsed": false
   },
   "outputs": [],
   "source": [
    "%load_ext autoreload\n",
    "%autoreload 2"
   ]
  },
  {
   "cell_type": "markdown",
   "metadata": {
    "collapsed": false
   },
   "source": [
    "# Load packages"
   ]
  },
  {
   "cell_type": "code",
   "execution_count": null,
   "metadata": {
    "ExecuteTime": {
     "end_time": "2024-07-01T14:29:22.801727Z",
     "start_time": "2024-07-01T14:29:18.695223Z"
    },
    "collapsed": false
   },
   "outputs": [],
   "source": [
    "import pickle\n",
    "from scipy import stats\n",
    "from glob import glob\n",
    "import ast\n",
    "import matplotlib.pyplot as plt\n",
    "import seaborn as sns\n",
    "import copy\n",
    "import itertools\n",
    "import numpy as np\n",
    "import pandas as pd\n",
    "import warnings\n",
    "import pathlib\n",
    "from tqdm import tqdm\n",
    "import distinctipy\n",
    "import matplotlib.patheffects as pe\n",
    "import matplotlib.colors as mcolors\n",
    "from statannotations.Annotator import Annotator\n",
    "from scipy.stats import mannwhitneyu\n",
    "import optuna\n",
    "from matplotlib.colors import LinearSegmentedColormap\n",
    "import matplotlib.cm\n",
    "import matplotlib as mpl\n",
    "from statsmodels.stats.multitest import multipletests\n",
    "import re\n",
    "from itertools import chain\n",
    "from pathlib import Path\n",
    "import os\n",
    "import upsetplot\n",
    "from sklearn.decomposition import PCA\n",
    "from sklearn.random_projection import GaussianRandomProjection, SparseRandomProjection\n",
    "from sklearn.manifold import MDS, Isomap, TSNE\n",
    "import missingno as msno"
   ]
  },
  {
   "cell_type": "markdown",
   "metadata": {},
   "source": [
    "# Prepare data"
   ]
  },
  {
   "cell_type": "code",
   "execution_count": null,
   "metadata": {},
   "outputs": [],
   "source": [
    "path = 'E:/YandexDisk/Work/bbd/immunology'\n",
    "path_unn = f\"E:/YandexDisk/Work/pydnameth/datasets/GPL21145/GSEUNN\"\n",
    "\n",
    "df = pd.read_excel(f\"{path}/004_data_processing/data_GSEUNN_fmba_052025.xlsx\", index_col=0)\n",
    "\n",
    "feats = pd.read_excel(f\"{path_unn}/data/immuno/feats_con.xlsx\", index_col=0).index.to_list()\n",
    "feats_log = [f\"log({f})\" for f in feats]\n",
    "\n",
    "df = df.loc[\n",
    "    (df['Status'] == 'Control') & (df['Region'].isin(['Central', 'Yakutia'])) | \n",
    "    (df['Group detailed'] == 'New 2025 UNN')\n",
    "    ,\n",
    "    ['Age', 'Sex', 'Region', 'Status', 'Group detailed', 'SImAge'] + feats_log\n",
    "]\n",
    "\n",
    "df.to_excel(f\"{path}/005_immuno_clocks_log_and_new_data/data.xlsx\", index_label='ID')\n",
    "pd.DataFrame(index=feats_log).to_excel(f\"{path}/005_immuno_clocks_log_and_new_data/feats.xlsx\", index_label='Features')"
   ]
  }
 ],
 "metadata": {
  "kernelspec": {
   "display_name": "py312",
   "language": "python",
   "name": "python3"
  },
  "language_info": {
   "codemirror_mode": {
    "name": "ipython",
    "version": 3
   },
   "file_extension": ".py",
   "mimetype": "text/x-python",
   "name": "python",
   "nbconvert_exporter": "python",
   "pygments_lexer": "ipython3",
   "version": "3.12.9"
  }
 },
 "nbformat": 4,
 "nbformat_minor": 0
}
