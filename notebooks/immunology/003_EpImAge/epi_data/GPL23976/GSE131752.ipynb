{
 "cells": [
  {
   "cell_type": "code",
   "execution_count": null,
   "id": "9a3fe634d53eb9bd",
   "metadata": {
    "ExecuteTime": {
     "end_time": "2024-06-11T13:35:23.526016Z",
     "start_time": "2024-06-11T13:35:23.061257100Z"
    },
    "collapsed": true
   },
   "outputs": [],
   "source": [
    "import pandas as pd\n",
    "from src.dnam.download_from_GEO import download_betas_from_gsms"
   ]
  },
  {
   "cell_type": "code",
   "execution_count": null,
   "id": "initial_id",
   "metadata": {
    "ExecuteTime": {
     "end_time": "2024-06-11T13:35:37.816910Z",
     "start_time": "2024-06-11T13:35:37.424898900Z"
    },
    "collapsed": false
   },
   "outputs": [],
   "source": [
    "dataset = \"GSE131752\"\n",
    "path_data = f\"E:/YandexDisk/pydnameth/datasets/GPL23976/{dataset}\"\n",
    "df_pheno = pd.read_excel(f\"{path_data}/pheno.xlsx\", index_col=0)"
   ]
  },
  {
   "cell_type": "code",
   "execution_count": null,
   "id": "8dcf2ff4992eb66e",
   "metadata": {
    "ExecuteTime": {
     "end_time": "2024-06-11T13:44:53.405575600Z",
     "start_time": "2024-06-11T13:35:47.586903500Z"
    },
    "collapsed": false
   },
   "outputs": [],
   "source": [
    "df_betas = download_betas_from_gsms(df_pheno.index.values, f\"{path_data}/raw\")"
   ]
  },
  {
   "cell_type": "code",
   "execution_count": null,
   "id": "2a197b9cb7468f20",
   "metadata": {
    "ExecuteTime": {
     "end_time": "2024-06-11T13:46:15.389946100Z",
     "start_time": "2024-06-11T13:46:15.324945600Z"
    },
    "collapsed": false
   },
   "outputs": [],
   "source": [
    "df_betas = df_betas.T"
   ]
  },
  {
   "cell_type": "code",
   "execution_count": null,
   "id": "ad5010f8ce226a4",
   "metadata": {
    "ExecuteTime": {
     "end_time": "2024-06-11T13:46:20.078922500Z",
     "start_time": "2024-06-11T13:46:17.197375500Z"
    },
    "collapsed": false
   },
   "outputs": [],
   "source": [
    "df_betas.to_pickle(f\"{path_data}/betas.pkl\")"
   ]
  }
 ],
 "metadata": {
  "kernelspec": {
   "display_name": "Python 3",
   "language": "python",
   "name": "python3"
  },
  "language_info": {
   "codemirror_mode": {
    "name": "ipython",
    "version": 2
   },
   "file_extension": ".py",
   "mimetype": "text/x-python",
   "name": "python",
   "nbconvert_exporter": "python",
   "pygments_lexer": "ipython2",
   "version": "2.7.6"
  }
 },
 "nbformat": 4,
 "nbformat_minor": 5
}
