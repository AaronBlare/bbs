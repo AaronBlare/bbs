{
 "cells": [
  {
   "metadata": {},
   "cell_type": "markdown",
   "source": "",
   "id": "d4b9cf30b0c6614b"
  },
  {
   "metadata": {},
   "cell_type": "markdown",
   "source": "# Debugging autoreload",
   "id": "671036c13b008f79"
  },
  {
   "cell_type": "code",
   "id": "initial_id",
   "metadata": {
    "collapsed": true
   },
   "source": [
    "%load_ext autoreload\n",
    "%autoreload 2"
   ],
   "outputs": [],
   "execution_count": null
  },
  {
   "metadata": {},
   "cell_type": "markdown",
   "source": "# Load packages",
   "id": "4c670a3b9b17b681"
  },
  {
   "metadata": {},
   "cell_type": "code",
   "source": [
    "import pandas as pd\n",
    "import numpy as np\n",
    "from scipy import stats\n",
    "import seaborn as sns\n",
    "import plotly.express as px\n",
    "import statsmodels.formula.api as smf\n",
    "import plotly.graph_objects as go\n",
    "from statsmodels.stats.multitest import multipletests\n",
    "import itertools\n",
    "from scipy.stats import mannwhitneyu, median_test, kruskal, wilcoxon, friedmanchisquare\n",
    "import matplotlib.pyplot as plt\n",
    "import matplotlib\n",
    "import matplotlib.patheffects as path_effects\n",
    "import random\n",
    "import pathlib\n",
    "from tqdm import tqdm\n",
    "from sklearn.decomposition import PCA, IncrementalPCA, KernelPCA, TruncatedSVD\n",
    "from sklearn.decomposition import MiniBatchDictionaryLearning, FastICA\n",
    "from sklearn.random_projection import GaussianRandomProjection, SparseRandomProjection\n",
    "from sklearn.manifold import MDS, Isomap, TSNE, LocallyLinearEmbedding\n",
    "\n",
    "from itertools import chain\n",
    "from sklearn.metrics import mean_absolute_error\n",
    "import plotly\n",
    "from sklearn.model_selection import RepeatedStratifiedKFold\n",
    "from sklearn.impute import KNNImputer\n",
    "import functools"
   ],
   "id": "c762a145ebcd874f",
   "outputs": [],
   "execution_count": null
  },
  {
   "metadata": {},
   "cell_type": "markdown",
   "source": "# Setup variables",
   "id": "4c5424a372a127ca"
  },
  {
   "metadata": {},
   "cell_type": "code",
   "source": [
    "manifest = pd.read_pickle(\"D:/YandexDisk/Work/pydnameth/datasets/GPL21145/manifest/manifest.pkl\")\n",
    "path_epi = \"D:/YandexDisk/Work/bbd/immunology/003_EpImAge/epi\"\n",
    "df = pd.read_excel(f\"D:/YandexDisk/Work/bbd/immunology/003_EpImAge/imp_source(imm)_method(knn)_params(5)/df.xlsx\", index_col=0)"
   ],
   "id": "498049b3a826446b",
   "outputs": [],
   "execution_count": null
  },
  {
   "metadata": {},
   "cell_type": "markdown",
   "source": "# GSEUNN",
   "id": "18124a2f3cec23a"
  },
  {
   "metadata": {},
   "cell_type": "code",
   "source": [
    "df_epi = pd.read_csv(f\"{path_epi}/GSEUNN/no_harm/betas.csv\", index_col=0).transpose()\n",
    "df_epi = df_epi.loc[df['Sample_Name'].values, :]\n",
    "df_epi['Index'] = df.index.values\n",
    "df_epi.set_index('Index', inplace=True)\n",
    "df_epi.to_pickle(f\"{path_epi}/GSEUNN/no_harm/betas.pkl\")"
   ],
   "id": "5941b9f740d52643",
   "outputs": [],
   "execution_count": null
  },
  {
   "metadata": {},
   "cell_type": "markdown",
   "source": "# GSE55763",
   "id": "9042e2609417c0a1"
  },
  {
   "metadata": {},
   "cell_type": "code",
   "source": [
    "df_gse_epi = pd.read_pickle(f\"{path_epi}/GSE55763/betas.pkl\")\n",
    "df_gse_phn = pd.read_excel(f\"{path_epi}/GSE55763/pheno.xlsx\", index_col='gsm')\n",
    "df_gse_phn.insert(0, 'gsm', df_gse_phn.index.values)\n",
    "if not df_gse_epi.index.equals(df_gse_phn.index):\n",
    "    print(\"Indexes are not equal!\")\n",
    "else:\n",
    "    print(\"OK\")\n",
    "    df_gse_phn.to_excel(f\"{path_epi}/GSE55763/pheno.xlsx\")"
   ],
   "id": "525c1f050995de68",
   "outputs": [],
   "execution_count": null
  }
 ],
 "metadata": {
  "kernelspec": {
   "display_name": "Python 3",
   "language": "python",
   "name": "python3"
  },
  "language_info": {
   "codemirror_mode": {
    "name": "ipython",
    "version": 2
   },
   "file_extension": ".py",
   "mimetype": "text/x-python",
   "name": "python",
   "nbconvert_exporter": "python",
   "pygments_lexer": "ipython2",
   "version": "2.7.6"
  }
 },
 "nbformat": 4,
 "nbformat_minor": 5
}
