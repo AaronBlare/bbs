{
 "cells": [
  {
   "cell_type": "code",
   "outputs": [
    {
     "name": "stderr",
     "output_type": "stream",
     "text": [
      "C:\\Users\\alena\\AppData\\Local\\Temp\\ipykernel_50380\\2035458946.py:1: DeprecationWarning: \n",
      "Pyarrow will become a required dependency of pandas in the next major release of pandas (pandas 3.0),\n",
      "(to allow more performant data types, such as the Arrow string type, and better interoperability with other libraries)\n",
      "but was not found to be installed on your system.\n",
      "If this would cause problems for you,\n",
      "please provide us feedback at https://github.com/pandas-dev/pandas/issues/54466\n",
      "        \n",
      "  import pandas as pd\n"
     ]
    }
   ],
   "source": [
    "import pandas as pd"
   ],
   "metadata": {
    "collapsed": false,
    "ExecuteTime": {
     "end_time": "2024-06-11T20:35:48.079304900Z",
     "start_time": "2024-06-11T20:35:47.705305600Z"
    }
   },
   "id": "7546770ea9854de6",
   "execution_count": 1
  },
  {
   "cell_type": "code",
   "source": [
    "dataset = \"GSE182991\"\n",
    "path= f\"E:/YandexDisk/bbd/immunology/003_EpImAge/epi/GPL21145/{dataset}\"\n",
    "df_pheno = pd.read_csv(f\"{path}/pheno.csv\", encoding='unicode_escape', index_col=0)"
   ],
   "metadata": {
    "collapsed": false,
    "ExecuteTime": {
     "end_time": "2024-06-11T20:35:49.765467500Z",
     "start_time": "2024-06-11T20:35:49.741027Z"
    }
   },
   "id": "initial_id",
   "outputs": [],
   "execution_count": 2
  },
  {
   "cell_type": "code",
   "source": [
    "df_betas = pd.read_csv(f\"{path}/betas.csv\", index_col=0).transpose()"
   ],
   "metadata": {
    "collapsed": false,
    "ExecuteTime": {
     "end_time": "2024-06-11T20:35:55.463827700Z",
     "start_time": "2024-06-11T20:35:51.105539900Z"
    }
   },
   "id": "8dcf2ff4992eb66e",
   "outputs": [],
   "execution_count": 3
  },
  {
   "cell_type": "code",
   "source": [
    "df_betas = df_betas.loc[df_pheno.index.values, :]"
   ],
   "metadata": {
    "collapsed": false,
    "ExecuteTime": {
     "end_time": "2024-06-11T20:35:56.919829500Z",
     "start_time": "2024-06-11T20:35:56.834840400Z"
    }
   },
   "id": "2a197b9cb7468f20",
   "outputs": [],
   "execution_count": 4
  },
  {
   "cell_type": "code",
   "source": [
    "df_betas.to_pickle(f\"{path}/betas.pkl\")"
   ],
   "metadata": {
    "collapsed": false,
    "ExecuteTime": {
     "end_time": "2024-06-11T20:35:59.712100900Z",
     "start_time": "2024-06-11T20:35:57.945254400Z"
    }
   },
   "id": "ad5010f8ce226a4",
   "outputs": [],
   "execution_count": 5
  }
 ],
 "metadata": {
  "kernelspec": {
   "display_name": "Python 3",
   "language": "python",
   "name": "python3"
  },
  "language_info": {
   "codemirror_mode": {
    "name": "ipython",
    "version": 2
   },
   "file_extension": ".py",
   "mimetype": "text/x-python",
   "name": "python",
   "nbconvert_exporter": "python",
   "pygments_lexer": "ipython2",
   "version": "2.7.6"
  }
 },
 "nbformat": 4,
 "nbformat_minor": 5
}
