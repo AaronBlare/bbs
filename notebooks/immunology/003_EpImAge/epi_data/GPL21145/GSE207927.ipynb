{
 "cells": [
  {
   "cell_type": "code",
   "id": "9a3fe634d53eb9bd",
   "metadata": {
    "collapsed": true
   },
   "source": "import pandas as pd",
   "outputs": [],
   "execution_count": null
  },
  {
   "cell_type": "code",
   "source": [
    "dataset = \"GSE207927\"\n",
    "path_load = f\"D:/YandexDisk/Work/pydnameth/datasets/GPL21145/{dataset}\"\n",
    "path_save = f\"D:/YandexDisk/Work/bbd/immunology/003_EpImAge/epi/{dataset}\"\n",
    "df_pheno = pd.read_excel(f\"{path_load}/raw/controls.xlsx\", index_col=0)"
   ],
   "metadata": {
    "collapsed": false
   },
   "id": "initial_id",
   "outputs": [],
   "execution_count": null
  },
  {
   "metadata": {},
   "cell_type": "code",
   "source": [
    "df_pheno.insert(0, 'sentrix', df_pheno['title'].str.split(' ').str[1])\n",
    "df_pheno['sentrix'] = df_pheno['sentrix'].str.replace('[', '')\n",
    "df_pheno['sentrix'] = df_pheno['sentrix'].str.replace(']', '')\n",
    "df_pheno.insert(0, 'gsm', df_pheno.index)\n",
    "df_pheno.set_index('sentrix', inplace=True)"
   ],
   "id": "4d56fc672bb8c6bf",
   "outputs": [],
   "execution_count": null
  },
  {
   "metadata": {},
   "cell_type": "code",
   "source": "df_betas = pd.read_csv(f\"{path_load}/raw/GSE207927_Raw_Beta_Matrix.txt\", index_col=0, delimiter=\"\\t\").T",
   "id": "6777c1613482d83d",
   "outputs": [],
   "execution_count": null
  },
  {
   "metadata": {},
   "cell_type": "code",
   "source": "df_betas = df_betas.loc[df_pheno.index.values, :]",
   "id": "e2f57543b83d5099",
   "outputs": [],
   "execution_count": null
  },
  {
   "cell_type": "code",
   "source": [
    "df_betas.set_index(df_pheno['gsm'].values, inplace=True)\n",
    "df_pheno.set_index(df_pheno['gsm'].values, inplace=True)"
   ],
   "metadata": {
    "collapsed": false
   },
   "id": "2a197b9cb7468f20",
   "outputs": [],
   "execution_count": null
  },
  {
   "cell_type": "code",
   "source": "df_betas.T.to_pickle(f\"{path_save}/betas.pkl\")",
   "metadata": {
    "collapsed": false
   },
   "id": "ad5010f8ce226a4",
   "outputs": [],
   "execution_count": null
  },
  {
   "metadata": {},
   "cell_type": "code",
   "source": [
    "manifest = pd.read_pickle(\"D:/YandexDisk/Work/pydnameth/datasets/GPL13534/manifest/manifest.pkl\")\n",
    "common_cpgs = list(set.intersection(set(manifest.index.values), set(df_betas.columns.values)))\n",
    "df_betas = df_betas.loc[df_pheno.index.values, common_cpgs]"
   ],
   "id": "cd8c920707e48121",
   "outputs": [],
   "execution_count": null
  },
  {
   "metadata": {},
   "cell_type": "code",
   "source": "df_betas.to_pickle(f\"{path_save}/betas.pkl\")",
   "id": "1fc33cb06a5ca864",
   "outputs": [],
   "execution_count": null
  }
 ],
 "metadata": {
  "kernelspec": {
   "display_name": "Python 3",
   "language": "python",
   "name": "python3"
  },
  "language_info": {
   "codemirror_mode": {
    "name": "ipython",
    "version": 2
   },
   "file_extension": ".py",
   "mimetype": "text/x-python",
   "name": "python",
   "nbconvert_exporter": "python",
   "pygments_lexer": "ipython2",
   "version": "2.7.6"
  }
 },
 "nbformat": 4,
 "nbformat_minor": 5
}
