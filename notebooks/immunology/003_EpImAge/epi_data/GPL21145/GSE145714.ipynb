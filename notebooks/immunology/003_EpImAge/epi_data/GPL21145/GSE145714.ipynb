{
 "cells": [
  {
   "cell_type": "code",
   "execution_count": null,
   "id": "7546770ea9854de6",
   "metadata": {
    "collapsed": false
   },
   "outputs": [],
   "source": [
    "import pandas as pd"
   ]
  },
  {
   "cell_type": "code",
   "execution_count": null,
   "id": "initial_id",
   "metadata": {
    "ExecuteTime": {
     "end_time": "2024-06-11T17:23:43.375373700Z",
     "start_time": "2024-06-11T17:23:43.351377Z"
    },
    "collapsed": false
   },
   "outputs": [],
   "source": [
    "dataset = \"GSE145714\"\n",
    "path= f\"E:/YandexDisk/bbd/immunology/003_EpImAge/epi/GPL21145/{dataset}\"\n",
    "df_pheno = pd.read_csv(f\"{path}/pheno.csv\", encoding='unicode_escape', index_col=0)"
   ]
  },
  {
   "cell_type": "code",
   "execution_count": null,
   "id": "8dcf2ff4992eb66e",
   "metadata": {
    "ExecuteTime": {
     "end_time": "2024-06-11T17:24:04.449877200Z",
     "start_time": "2024-06-11T17:24:00.199603100Z"
    },
    "collapsed": false
   },
   "outputs": [],
   "source": [
    "df_betas = pd.read_csv(f\"{path}/betas.csv\", index_col=0).transpose()"
   ]
  },
  {
   "cell_type": "code",
   "execution_count": null,
   "id": "2a197b9cb7468f20",
   "metadata": {
    "ExecuteTime": {
     "end_time": "2024-06-11T17:24:05.968755400Z",
     "start_time": "2024-06-11T17:24:05.887757400Z"
    },
    "collapsed": false
   },
   "outputs": [],
   "source": [
    "df_betas = df_betas.loc[df_pheno.index.values, :]"
   ]
  },
  {
   "cell_type": "code",
   "execution_count": null,
   "id": "ad5010f8ce226a4",
   "metadata": {
    "ExecuteTime": {
     "end_time": "2024-06-11T17:24:15.223847400Z",
     "start_time": "2024-06-11T17:24:13.078212300Z"
    },
    "collapsed": false
   },
   "outputs": [],
   "source": [
    "df_betas.to_pickle(f\"{path}/betas.pkl\")"
   ]
  }
 ],
 "metadata": {
  "kernelspec": {
   "display_name": "Python 3",
   "language": "python",
   "name": "python3"
  },
  "language_info": {
   "codemirror_mode": {
    "name": "ipython",
    "version": 2
   },
   "file_extension": ".py",
   "mimetype": "text/x-python",
   "name": "python",
   "nbconvert_exporter": "python",
   "pygments_lexer": "ipython2",
   "version": "2.7.6"
  }
 },
 "nbformat": 4,
 "nbformat_minor": 5
}
