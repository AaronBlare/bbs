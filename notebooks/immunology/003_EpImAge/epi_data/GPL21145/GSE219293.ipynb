{
 "cells": [
  {
   "cell_type": "code",
   "execution_count": null,
   "id": "7546770ea9854de6",
   "metadata": {
    "ExecuteTime": {
     "end_time": "2024-06-13T13:22:36.401673500Z",
     "start_time": "2024-06-13T13:22:36.018264700Z"
    },
    "collapsed": false
   },
   "outputs": [],
   "source": [
    "import pandas as pd"
   ]
  },
  {
   "cell_type": "code",
   "execution_count": null,
   "id": "initial_id",
   "metadata": {
    "ExecuteTime": {
     "end_time": "2024-06-13T13:22:40.361552200Z",
     "start_time": "2024-06-13T13:22:40.333015300Z"
    },
    "collapsed": false
   },
   "outputs": [],
   "source": [
    "dataset = \"GSE219293\"\n",
    "path= f\"E:/YandexDisk/bbd/immunology/003_EpImAge/epi/GPL21145/{dataset}\"\n",
    "df_pheno = pd.read_csv(f\"{path}/pheno.csv\", encoding='unicode_escape', index_col=0)"
   ]
  },
  {
   "cell_type": "code",
   "execution_count": null,
   "id": "8dcf2ff4992eb66e",
   "metadata": {
    "ExecuteTime": {
     "end_time": "2024-06-13T13:22:48.254603100Z",
     "start_time": "2024-06-13T13:22:41.785730100Z"
    },
    "collapsed": false
   },
   "outputs": [],
   "source": [
    "df_betas = pd.read_csv(f\"{path}/betas.csv\", index_col=0).transpose()"
   ]
  },
  {
   "cell_type": "code",
   "execution_count": null,
   "id": "2a197b9cb7468f20",
   "metadata": {
    "ExecuteTime": {
     "end_time": "2024-06-13T13:22:50.103430500Z",
     "start_time": "2024-06-13T13:22:50.007420100Z"
    },
    "collapsed": false
   },
   "outputs": [],
   "source": [
    "df_betas = df_betas.loc[df_pheno.index.values, :]"
   ]
  },
  {
   "cell_type": "code",
   "execution_count": null,
   "id": "ad5010f8ce226a4",
   "metadata": {
    "ExecuteTime": {
     "end_time": "2024-06-13T13:22:54.223239500Z",
     "start_time": "2024-06-13T13:22:51.371491300Z"
    },
    "collapsed": false
   },
   "outputs": [],
   "source": [
    "df_betas.to_pickle(f\"{path}/betas.pkl\")"
   ]
  }
 ],
 "metadata": {
  "kernelspec": {
   "display_name": "Python 3",
   "language": "python",
   "name": "python3"
  },
  "language_info": {
   "codemirror_mode": {
    "name": "ipython",
    "version": 2
   },
   "file_extension": ".py",
   "mimetype": "text/x-python",
   "name": "python",
   "nbconvert_exporter": "python",
   "pygments_lexer": "ipython2",
   "version": "2.7.6"
  }
 },
 "nbformat": 4,
 "nbformat_minor": 5
}
