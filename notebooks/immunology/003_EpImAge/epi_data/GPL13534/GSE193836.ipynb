{
 "cells": [
  {
   "cell_type": "code",
   "id": "9a3fe634d53eb9bd",
   "metadata": {
    "collapsed": true,
    "ExecuteTime": {
     "end_time": "2024-06-13T12:48:13.321999900Z",
     "start_time": "2024-06-13T12:48:12.915260500Z"
    }
   },
   "source": [
    "import pandas as pd"
   ],
   "outputs": [
    {
     "name": "stderr",
     "output_type": "stream",
     "text": [
      "C:\\Users\\alena\\AppData\\Local\\Temp\\ipykernel_24668\\2035458946.py:1: DeprecationWarning: \n",
      "Pyarrow will become a required dependency of pandas in the next major release of pandas (pandas 3.0),\n",
      "(to allow more performant data types, such as the Arrow string type, and better interoperability with other libraries)\n",
      "but was not found to be installed on your system.\n",
      "If this would cause problems for you,\n",
      "please provide us feedback at https://github.com/pandas-dev/pandas/issues/54466\n",
      "        \n",
      "  import pandas as pd\n"
     ]
    }
   ],
   "execution_count": 1
  },
  {
   "cell_type": "code",
   "source": [
    "dataset = \"GSE193836\"\n",
    "path= f\"E:/YandexDisk/bbd/immunology/003_EpImAge/epi/GPL13534/{dataset}\"\n",
    "df_pheno = pd.read_csv(f\"{path}/pheno.csv\", index_col=0)"
   ],
   "metadata": {
    "collapsed": false,
    "ExecuteTime": {
     "end_time": "2024-06-13T12:48:16.428321800Z",
     "start_time": "2024-06-13T12:48:16.411318700Z"
    }
   },
   "id": "initial_id",
   "outputs": [],
   "execution_count": 2
  },
  {
   "cell_type": "code",
   "source": [
    "df_betas = pd.read_csv(f\"{path}/betas.csv\", index_col=0).transpose()"
   ],
   "metadata": {
    "collapsed": false,
    "ExecuteTime": {
     "end_time": "2024-06-13T12:48:19.410100400Z",
     "start_time": "2024-06-13T12:48:17.655674200Z"
    }
   },
   "id": "8dcf2ff4992eb66e",
   "outputs": [],
   "execution_count": 3
  },
  {
   "cell_type": "code",
   "source": [
    "df_betas = df_betas.loc[df_pheno.index.values, :]"
   ],
   "metadata": {
    "collapsed": false,
    "ExecuteTime": {
     "end_time": "2024-06-13T12:48:20.636229600Z",
     "start_time": "2024-06-13T12:48:20.586152200Z"
    }
   },
   "id": "2a197b9cb7468f20",
   "outputs": [],
   "execution_count": 4
  },
  {
   "cell_type": "code",
   "source": [
    "df_betas.to_pickle(f\"{path}/betas.pkl\")"
   ],
   "metadata": {
    "collapsed": false,
    "ExecuteTime": {
     "end_time": "2024-06-13T12:48:22.808016300Z",
     "start_time": "2024-06-13T12:48:22.137181900Z"
    }
   },
   "id": "ad5010f8ce226a4",
   "outputs": [],
   "execution_count": 5
  }
 ],
 "metadata": {
  "kernelspec": {
   "display_name": "Python 3",
   "language": "python",
   "name": "python3"
  },
  "language_info": {
   "codemirror_mode": {
    "name": "ipython",
    "version": 2
   },
   "file_extension": ".py",
   "mimetype": "text/x-python",
   "name": "python",
   "nbconvert_exporter": "python",
   "pygments_lexer": "ipython2",
   "version": "2.7.6"
  }
 },
 "nbformat": 4,
 "nbformat_minor": 5
}
