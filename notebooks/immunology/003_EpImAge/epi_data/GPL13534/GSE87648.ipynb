{
 "cells": [
  {
   "cell_type": "code",
   "id": "9a3fe634d53eb9bd",
   "metadata": {
    "collapsed": true,
    "ExecuteTime": {
     "end_time": "2024-05-24T19:06:24.365304Z",
     "start_time": "2024-05-24T19:06:23.955282Z"
    }
   },
   "source": "import pandas as pd",
   "outputs": [],
   "execution_count": 1
  },
  {
   "cell_type": "code",
   "source": [
    "dataset = \"GSE87648\"\n",
    "path= f\"D:/YandexDisk/Work/bbd/immunology/003_EpImAge/epi/{dataset}\"\n",
    "df_pheno = pd.read_csv(f\"{path}/pheno.csv\", index_col=0)"
   ],
   "metadata": {
    "collapsed": false,
    "ExecuteTime": {
     "end_time": "2024-05-24T19:06:52.867958Z",
     "start_time": "2024-05-24T19:06:52.854797Z"
    }
   },
   "id": "initial_id",
   "outputs": [],
   "execution_count": 2
  },
  {
   "cell_type": "code",
   "source": "df_betas = pd.read_csv(f\"{path}/betas.csv\", index_col=0).transpose()",
   "metadata": {
    "collapsed": false,
    "ExecuteTime": {
     "end_time": "2024-05-24T19:07:15.677020Z",
     "start_time": "2024-05-24T19:07:02.195666Z"
    }
   },
   "id": "8dcf2ff4992eb66e",
   "outputs": [],
   "execution_count": 3
  },
  {
   "cell_type": "code",
   "source": "df_betas = df_betas.loc[df_pheno.index.values, :]",
   "metadata": {
    "collapsed": false,
    "ExecuteTime": {
     "end_time": "2024-05-24T19:07:22.196904Z",
     "start_time": "2024-05-24T19:07:21.867793Z"
    }
   },
   "id": "2a197b9cb7468f20",
   "outputs": [],
   "execution_count": 4
  },
  {
   "cell_type": "code",
   "source": "df_betas.to_pickle(f\"{path}/betas.pkl\")",
   "metadata": {
    "collapsed": false,
    "ExecuteTime": {
     "end_time": "2024-05-24T19:07:28.715993Z",
     "start_time": "2024-05-24T19:07:25.252193Z"
    }
   },
   "id": "ad5010f8ce226a4",
   "outputs": [],
   "execution_count": 5
  }
 ],
 "metadata": {
  "kernelspec": {
   "display_name": "Python 3",
   "language": "python",
   "name": "python3"
  },
  "language_info": {
   "codemirror_mode": {
    "name": "ipython",
    "version": 2
   },
   "file_extension": ".py",
   "mimetype": "text/x-python",
   "name": "python",
   "nbconvert_exporter": "python",
   "pygments_lexer": "ipython2",
   "version": "2.7.6"
  }
 },
 "nbformat": 4,
 "nbformat_minor": 5
}
