{
 "cells": [
  {
   "cell_type": "code",
   "id": "9a3fe634d53eb9bd",
   "metadata": {
    "collapsed": true,
    "ExecuteTime": {
     "end_time": "2024-05-23T12:41:09.601024Z",
     "start_time": "2024-05-23T12:41:09.598521Z"
    }
   },
   "source": "import pandas as pd",
   "outputs": [],
   "execution_count": 2
  },
  {
   "cell_type": "code",
   "source": [
    "dataset = \"GSE125105\"\n",
    "path= f\"D:/YandexDisk/Work/bbd/immunology/003_EpImAge/epi/{dataset}\"\n",
    "df_pheno = pd.read_csv(f\"{path}/pheno.csv\", index_col=0)"
   ],
   "metadata": {
    "collapsed": false,
    "ExecuteTime": {
     "end_time": "2024-05-23T12:41:11.018228Z",
     "start_time": "2024-05-23T12:41:10.996503Z"
    }
   },
   "id": "initial_id",
   "outputs": [],
   "execution_count": 3
  },
  {
   "cell_type": "code",
   "source": "df_betas = pd.read_csv(f\"{path}/betas.csv\", index_col=0).transpose()",
   "metadata": {
    "collapsed": false,
    "ExecuteTime": {
     "end_time": "2024-05-23T12:41:50.159652Z",
     "start_time": "2024-05-23T12:41:22.648360Z"
    }
   },
   "id": "8dcf2ff4992eb66e",
   "outputs": [],
   "execution_count": 4
  },
  {
   "cell_type": "code",
   "source": "df_betas = df_betas.loc[df_pheno.index.values, :]",
   "metadata": {
    "collapsed": false,
    "ExecuteTime": {
     "end_time": "2024-05-23T12:42:53.163029Z",
     "start_time": "2024-05-23T12:42:52.251787Z"
    }
   },
   "id": "2a197b9cb7468f20",
   "outputs": [],
   "execution_count": 5
  },
  {
   "cell_type": "code",
   "source": "df_betas.to_pickle(f\"{path}/betas.pkl\")",
   "metadata": {
    "collapsed": false,
    "ExecuteTime": {
     "end_time": "2024-05-23T12:43:03.996217Z",
     "start_time": "2024-05-23T12:42:57.815776Z"
    }
   },
   "id": "ad5010f8ce226a4",
   "outputs": [],
   "execution_count": 6
  }
 ],
 "metadata": {
  "kernelspec": {
   "display_name": "Python 3",
   "language": "python",
   "name": "python3"
  },
  "language_info": {
   "codemirror_mode": {
    "name": "ipython",
    "version": 2
   },
   "file_extension": ".py",
   "mimetype": "text/x-python",
   "name": "python",
   "nbconvert_exporter": "python",
   "pygments_lexer": "ipython2",
   "version": "2.7.6"
  }
 },
 "nbformat": 4,
 "nbformat_minor": 5
}
