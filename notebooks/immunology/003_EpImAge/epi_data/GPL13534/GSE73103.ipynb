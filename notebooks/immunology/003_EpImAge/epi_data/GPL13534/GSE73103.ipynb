{
 "cells": [
  {
   "cell_type": "code",
   "id": "9a3fe634d53eb9bd",
   "metadata": {
    "collapsed": true
   },
   "source": "import pandas as pd",
   "outputs": [],
   "execution_count": null
  },
  {
   "cell_type": "code",
   "source": [
    "dataset = \"GSE73103\"\n",
    "path= f\"D:/YandexDisk/Work/bbd/immunology/003_EpImAge/epi/{dataset}\"\n",
    "df_pheno = pd.read_csv(f\"{path}/pheno.csv\", index_col=0)"
   ],
   "metadata": {
    "collapsed": false
   },
   "id": "initial_id",
   "outputs": [],
   "execution_count": null
  },
  {
   "cell_type": "code",
   "source": "df_betas = pd.read_csv(f\"{path}/betas.csv\", index_col=0).transpose()",
   "metadata": {
    "collapsed": false
   },
   "id": "8dcf2ff4992eb66e",
   "outputs": [],
   "execution_count": null
  },
  {
   "cell_type": "code",
   "source": "df_betas = df_betas.loc[df_pheno.index.values, :]",
   "metadata": {
    "collapsed": false
   },
   "id": "2a197b9cb7468f20",
   "outputs": [],
   "execution_count": null
  },
  {
   "cell_type": "code",
   "source": "df_betas.to_pickle(f\"{path}/betas.pkl\")",
   "metadata": {
    "collapsed": false
   },
   "id": "ad5010f8ce226a4",
   "outputs": [],
   "execution_count": null
  }
 ],
 "metadata": {
  "kernelspec": {
   "display_name": "Python 3",
   "language": "python",
   "name": "python3"
  },
  "language_info": {
   "codemirror_mode": {
    "name": "ipython",
    "version": 2
   },
   "file_extension": ".py",
   "mimetype": "text/x-python",
   "name": "python",
   "nbconvert_exporter": "python",
   "pygments_lexer": "ipython2",
   "version": "2.7.6"
  }
 },
 "nbformat": 4,
 "nbformat_minor": 5
}
