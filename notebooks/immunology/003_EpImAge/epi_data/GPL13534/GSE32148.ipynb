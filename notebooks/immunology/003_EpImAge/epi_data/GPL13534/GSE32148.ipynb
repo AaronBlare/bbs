{
 "cells": [
  {
   "cell_type": "code",
   "id": "9a3fe634d53eb9bd",
   "metadata": {
    "collapsed": true,
    "ExecuteTime": {
     "end_time": "2024-06-13T13:27:23.076876500Z",
     "start_time": "2024-06-13T13:27:22.552955600Z"
    }
   },
   "source": [
    "import pandas as pd\n",
    "from src.dnam.download_from_GEO import download_betas_from_gsms"
   ],
   "outputs": [
    {
     "name": "stderr",
     "output_type": "stream",
     "text": [
      "C:\\Users\\alena\\AppData\\Local\\Temp\\ipykernel_63408\\744332881.py:1: DeprecationWarning: \n",
      "Pyarrow will become a required dependency of pandas in the next major release of pandas (pandas 3.0),\n",
      "(to allow more performant data types, such as the Arrow string type, and better interoperability with other libraries)\n",
      "but was not found to be installed on your system.\n",
      "If this would cause problems for you,\n",
      "please provide us feedback at https://github.com/pandas-dev/pandas/issues/54466\n",
      "        \n",
      "  import pandas as pd\n"
     ]
    }
   ],
   "execution_count": 1
  },
  {
   "cell_type": "code",
   "source": [
    "dataset = \"GSE32148\"\n",
    "path_data = f\"E:/YandexDisk/pydnameth/datasets/GPL13534/{dataset}\"\n",
    "df_pheno = pd.read_excel(f\"{path_data}/pheno.xlsx\", index_col=0)"
   ],
   "metadata": {
    "collapsed": false,
    "ExecuteTime": {
     "end_time": "2024-06-13T13:27:25.487675300Z",
     "start_time": "2024-06-13T13:27:25.059675500Z"
    }
   },
   "id": "initial_id",
   "outputs": [],
   "execution_count": 2
  },
  {
   "cell_type": "code",
   "source": [
    "df_betas = download_betas_from_gsms(df_pheno.index.values, f\"{path_data}/raw\")"
   ],
   "metadata": {
    "collapsed": false,
    "ExecuteTime": {
     "end_time": "2024-06-13T13:30:49.173784100Z",
     "start_time": "2024-06-13T13:27:27.440314700Z"
    }
   },
   "id": "8dcf2ff4992eb66e",
   "outputs": [
    {
     "name": "stderr",
     "output_type": "stream",
     "text": [
      "46it [03:21,  4.38s/it]"
     ]
    },
    {
     "name": "stdout",
     "output_type": "stream",
     "text": [
      "Number of NaNs in betas: 22133\n"
     ]
    },
    {
     "name": "stderr",
     "output_type": "stream",
     "text": [
      "\n"
     ]
    }
   ],
   "execution_count": 3
  },
  {
   "cell_type": "code",
   "source": [
    "df_betas = df_betas.T"
   ],
   "metadata": {
    "collapsed": false,
    "ExecuteTime": {
     "end_time": "2024-06-13T13:36:09.266043300Z",
     "start_time": "2024-06-13T13:36:09.236043800Z"
    }
   },
   "id": "2a197b9cb7468f20",
   "outputs": [],
   "execution_count": 4
  },
  {
   "cell_type": "code",
   "source": [
    "df_betas.to_pickle(f\"{path_data}/betas.pkl\")"
   ],
   "metadata": {
    "collapsed": false,
    "ExecuteTime": {
     "end_time": "2024-06-13T13:36:50.731589100Z",
     "start_time": "2024-06-13T13:36:49.210598500Z"
    }
   },
   "id": "ad5010f8ce226a4",
   "outputs": [],
   "execution_count": 5
  }
 ],
 "metadata": {
  "kernelspec": {
   "display_name": "Python 3",
   "language": "python",
   "name": "python3"
  },
  "language_info": {
   "codemirror_mode": {
    "name": "ipython",
    "version": 2
   },
   "file_extension": ".py",
   "mimetype": "text/x-python",
   "name": "python",
   "nbconvert_exporter": "python",
   "pygments_lexer": "ipython2",
   "version": "2.7.6"
  }
 },
 "nbformat": 4,
 "nbformat_minor": 5
}
