{
 "cells": [
  {
   "cell_type": "code",
   "id": "9a3fe634d53eb9bd",
   "metadata": {
    "collapsed": true,
    "ExecuteTime": {
     "end_time": "2024-06-13T19:41:22.982599900Z",
     "start_time": "2024-06-13T19:41:22.631582100Z"
    }
   },
   "source": [
    "import pandas as pd"
   ],
   "outputs": [],
   "execution_count": 1
  },
  {
   "cell_type": "code",
   "source": [
    "dataset = \"GSE99624\"\n",
    "path= f\"E:/YandexDisk/bbd/immunology/003_EpImAge/epi/GPL13534/{dataset}\"\n",
    "df_pheno = pd.read_csv(f\"{path}/pheno.csv\", index_col=0)"
   ],
   "metadata": {
    "collapsed": false,
    "ExecuteTime": {
     "end_time": "2024-06-13T19:42:12.362146300Z",
     "start_time": "2024-06-13T19:42:12.346145500Z"
    }
   },
   "id": "initial_id",
   "outputs": [],
   "execution_count": 3
  },
  {
   "cell_type": "code",
   "source": [
    "df_betas = pd.read_csv(f\"{path}/betas.csv\", index_col=0).transpose()"
   ],
   "metadata": {
    "collapsed": false,
    "ExecuteTime": {
     "end_time": "2024-06-13T19:42:17.972847300Z",
     "start_time": "2024-06-13T19:42:14.430459500Z"
    }
   },
   "id": "8dcf2ff4992eb66e",
   "outputs": [],
   "execution_count": 4
  },
  {
   "cell_type": "code",
   "source": [
    "df_betas = df_betas.loc[df_pheno.index.values, :]"
   ],
   "metadata": {
    "collapsed": false,
    "ExecuteTime": {
     "end_time": "2024-06-13T19:42:21.381536800Z",
     "start_time": "2024-06-13T19:42:21.313534800Z"
    }
   },
   "id": "2a197b9cb7468f20",
   "outputs": [],
   "execution_count": 5
  },
  {
   "cell_type": "code",
   "source": [
    "df_betas.to_pickle(f\"{path}/betas.pkl\")"
   ],
   "metadata": {
    "collapsed": false,
    "ExecuteTime": {
     "end_time": "2024-06-13T19:42:24.958046800Z",
     "start_time": "2024-06-13T19:42:23.368129Z"
    }
   },
   "id": "ad5010f8ce226a4",
   "outputs": [],
   "execution_count": 6
  }
 ],
 "metadata": {
  "kernelspec": {
   "display_name": "Python 3",
   "language": "python",
   "name": "python3"
  },
  "language_info": {
   "codemirror_mode": {
    "name": "ipython",
    "version": 2
   },
   "file_extension": ".py",
   "mimetype": "text/x-python",
   "name": "python",
   "nbconvert_exporter": "python",
   "pygments_lexer": "ipython2",
   "version": "2.7.6"
  }
 },
 "nbformat": 4,
 "nbformat_minor": 5
}
