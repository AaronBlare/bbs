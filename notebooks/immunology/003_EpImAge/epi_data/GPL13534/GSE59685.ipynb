{
 "cells": [
  {
   "cell_type": "code",
   "id": "9a3fe634d53eb9bd",
   "metadata": {
    "collapsed": true,
    "ExecuteTime": {
     "end_time": "2024-06-13T15:16:31.467027900Z",
     "start_time": "2024-06-13T15:16:31.445021Z"
    }
   },
   "source": [
    "import pandas as pd"
   ],
   "outputs": [],
   "execution_count": 25
  },
  {
   "cell_type": "code",
   "source": [
    "dataset = \"GSE59685\"\n",
    "path_load = f\"E:/YandexDisk/pydnameth/datasets/GPL13534/{dataset}\"\n",
    "path_save = f\"E:/YandexDisk/bbd/immunology/003_EpImAge/epi/GPL13534/{dataset}\"\n",
    "df_pheno = pd.read_excel(f\"{path_load}/raw/pheno.xlsx\", index_col=0)"
   ],
   "metadata": {
    "collapsed": false,
    "ExecuteTime": {
     "end_time": "2024-06-13T15:16:32.710008800Z",
     "start_time": "2024-06-13T15:16:32.646786200Z"
    }
   },
   "id": "initial_id",
   "outputs": [],
   "execution_count": 26
  },
  {
   "cell_type": "code",
   "outputs": [],
   "source": [
    "df_pheno.insert(0, 'index', df_pheno['barcode'])"
   ],
   "metadata": {
    "collapsed": false,
    "ExecuteTime": {
     "end_time": "2024-06-13T15:16:34.053982500Z",
     "start_time": "2024-06-13T15:16:34.037983600Z"
    }
   },
   "id": "9f881cfa9f8af54a",
   "execution_count": 27
  },
  {
   "cell_type": "code",
   "outputs": [],
   "source": [
    "df_pheno.insert(0, 'gsm', df_pheno.index)"
   ],
   "metadata": {
    "collapsed": false,
    "ExecuteTime": {
     "end_time": "2024-06-13T15:16:35.138101100Z",
     "start_time": "2024-06-13T15:16:35.122998500Z"
    }
   },
   "id": "364c893381ca6d03",
   "execution_count": 28
  },
  {
   "cell_type": "code",
   "outputs": [],
   "source": [
    "df_pheno.set_index('index', inplace=True)"
   ],
   "metadata": {
    "collapsed": false,
    "ExecuteTime": {
     "end_time": "2024-06-13T15:16:36.283588400Z",
     "start_time": "2024-06-13T15:16:36.254650800Z"
    }
   },
   "id": "73edba5cbc09a447",
   "execution_count": 29
  },
  {
   "metadata": {
    "ExecuteTime": {
     "end_time": "2024-06-13T15:17:16.474406400Z",
     "start_time": "2024-06-13T15:16:37.950500Z"
    }
   },
   "cell_type": "code",
   "source": [
    "df_betas = pd.read_csv(f\"{path_load}/raw/GSE59685_betas.csv\", index_col=0, delimiter=\",\").T"
   ],
   "id": "6777c1613482d83d",
   "outputs": [],
   "execution_count": 30
  },
  {
   "metadata": {},
   "cell_type": "code",
   "source": [
    "df_betas = df_betas.iloc[2::, :]"
   ],
   "id": "739c2c561efc1409",
   "outputs": [],
   "execution_count": null
  },
  {
   "metadata": {
    "ExecuteTime": {
     "end_time": "2024-06-13T15:17:21.723975600Z",
     "start_time": "2024-06-13T15:17:21.481600300Z"
    }
   },
   "cell_type": "code",
   "source": [
    "df_betas = df_betas.loc[df_pheno.index.values, :]"
   ],
   "id": "e2f57543b83d5099",
   "outputs": [],
   "execution_count": 31
  },
  {
   "cell_type": "code",
   "source": [
    "df_betas.set_index(df_pheno['gsm'].values, inplace=True)\n",
    "df_pheno.set_index(df_pheno['gsm'].values, inplace=True)"
   ],
   "metadata": {
    "collapsed": false,
    "ExecuteTime": {
     "end_time": "2024-06-13T15:17:31.282430800Z",
     "start_time": "2024-06-13T15:17:31.266012500Z"
    }
   },
   "id": "2a197b9cb7468f20",
   "outputs": [],
   "execution_count": 32
  },
  {
   "cell_type": "code",
   "source": [
    "df_betas.T.to_pickle(f\"{path_save}/betas.pkl\")"
   ],
   "metadata": {
    "collapsed": false,
    "ExecuteTime": {
     "end_time": "2024-06-13T15:17:35.049041300Z",
     "start_time": "2024-06-13T15:17:33.038269200Z"
    }
   },
   "id": "ad5010f8ce226a4",
   "outputs": [],
   "execution_count": 33
  },
  {
   "metadata": {},
   "cell_type": "code",
   "source": [
    "df_betas.to_pickle(f\"{path_save}/betas.pkl\")"
   ],
   "id": "1fc33cb06a5ca864",
   "outputs": [],
   "execution_count": null
  }
 ],
 "metadata": {
  "kernelspec": {
   "display_name": "Python 3",
   "language": "python",
   "name": "python3"
  },
  "language_info": {
   "codemirror_mode": {
    "name": "ipython",
    "version": 2
   },
   "file_extension": ".py",
   "mimetype": "text/x-python",
   "name": "python",
   "nbconvert_exporter": "python",
   "pygments_lexer": "ipython2",
   "version": "2.7.6"
  }
 },
 "nbformat": 4,
 "nbformat_minor": 5
}
