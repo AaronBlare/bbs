{
 "cells": [
  {
   "cell_type": "code",
   "id": "9a3fe634d53eb9bd",
   "metadata": {
    "collapsed": true
   },
   "source": "import pandas as pd",
   "outputs": [],
   "execution_count": null
  },
  {
   "cell_type": "code",
   "source": [
    "dataset = \"GSE174422\"\n",
    "path_load = f\"D:/YandexDisk/Work/pydnameth/datasets/GPL13534/{dataset}\"\n",
    "path_save = f\"D:/YandexDisk/Work/bbd/immunology/003_EpImAge/epi/{dataset}\"\n",
    "df_pheno = pd.read_excel(f\"{path_load}/pheno.xlsx\", index_col='source_name_ch1')"
   ],
   "metadata": {
    "collapsed": false
   },
   "id": "initial_id",
   "outputs": [],
   "execution_count": null
  },
  {
   "metadata": {},
   "cell_type": "code",
   "source": [
    "orgns = set()\n",
    "dupls = set()\n",
    "for orgn, row in df_pheno.iterrows():\n",
    "    gsm_orgn = row['gsm']\n",
    "    gsm_dupl = df_pheno.at[row['duplicate_id'], 'gsm']\n",
    "    if gsm_orgn not in orgns and gsm_orgn not in dupls:\n",
    "        orgns.add(gsm_orgn)\n",
    "        dupls.add(gsm_dupl)\n",
    "df_pheno.insert(0, 'source_name_ch1', df_pheno.index)\n",
    "df_pheno.set_index('gsm', inplace=True)\n",
    "df_pheno.loc[list(orgns), 'duplicate_order'] = 1\n",
    "df_pheno.loc[list(dupls), 'duplicate_order'] = 2\n",
    "df_pheno.to_excel(f\"{path_load}/pheno1.xlsx\", index_label='gsm')"
   ],
   "id": "b2db4988a70e668c",
   "outputs": [],
   "execution_count": null
  },
  {
   "metadata": {},
   "cell_type": "code",
   "source": [
    "dataset = \"GSE174422\"\n",
    "path = f\"D:/YandexDisk/Work/bbd/immunology/003_EpImAge/epi/{dataset}\"\n",
    "df_pheno = pd.read_csv(f\"{path}/pheno.csv\", index_col=0)\n",
    "df_betas = pd.read_csv(f\"{path}/betas.csv\", index_col=0).transpose()\n",
    "df_betas = df_betas.loc[df_pheno.index.values, :]\n",
    "df_betas.to_pickle(f\"{path}/betas.pkl\")"
   ],
   "id": "cb4efba623dbdd8f",
   "outputs": [],
   "execution_count": null
  }
 ],
 "metadata": {
  "kernelspec": {
   "display_name": "Python 3",
   "language": "python",
   "name": "python3"
  },
  "language_info": {
   "codemirror_mode": {
    "name": "ipython",
    "version": 2
   },
   "file_extension": ".py",
   "mimetype": "text/x-python",
   "name": "python",
   "nbconvert_exporter": "python",
   "pygments_lexer": "ipython2",
   "version": "2.7.6"
  }
 },
 "nbformat": 4,
 "nbformat_minor": 5
}
