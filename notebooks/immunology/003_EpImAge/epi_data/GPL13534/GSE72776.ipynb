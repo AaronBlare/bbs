{
 "cells": [
  {
   "cell_type": "code",
   "id": "9a3fe634d53eb9bd",
   "metadata": {
    "collapsed": true,
    "ExecuteTime": {
     "end_time": "2024-06-13T17:51:16.760681100Z",
     "start_time": "2024-06-13T17:51:16.741173900Z"
    }
   },
   "source": [
    "import pandas as pd"
   ],
   "outputs": [],
   "execution_count": 9
  },
  {
   "cell_type": "code",
   "source": [
    "dataset = \"GSE72776\"\n",
    "path_load = f\"E:/YandexDisk/pydnameth/datasets/GPL13534/{dataset}\"\n",
    "path_save = f\"E:/YandexDisk/bbd/immunology/003_EpImAge/epi/GPL13534/{dataset}\"\n",
    "df_pheno = pd.read_excel(f\"{path_load}/raw/pheno.xlsx\", index_col=0)"
   ],
   "metadata": {
    "collapsed": false,
    "ExecuteTime": {
     "end_time": "2024-06-13T17:51:18.019031600Z",
     "start_time": "2024-06-13T17:51:17.934870600Z"
    }
   },
   "id": "initial_id",
   "outputs": [],
   "execution_count": 10
  },
  {
   "cell_type": "code",
   "outputs": [],
   "source": [
    "df_pheno.insert(0, 'index', df_pheno['title'].str.split('subject ').str[1])"
   ],
   "metadata": {
    "collapsed": false,
    "ExecuteTime": {
     "end_time": "2024-06-13T17:51:18.984749600Z",
     "start_time": "2024-06-13T17:51:18.962750400Z"
    }
   },
   "id": "9f881cfa9f8af54a",
   "execution_count": 11
  },
  {
   "cell_type": "code",
   "outputs": [],
   "source": [
    "df_pheno.insert(0, 'gsm', df_pheno.index)"
   ],
   "metadata": {
    "collapsed": false,
    "ExecuteTime": {
     "end_time": "2024-06-13T17:51:19.876192400Z",
     "start_time": "2024-06-13T17:51:19.858163300Z"
    }
   },
   "id": "364c893381ca6d03",
   "execution_count": 12
  },
  {
   "cell_type": "code",
   "outputs": [],
   "source": [
    "df_pheno.set_index('index', inplace=True)"
   ],
   "metadata": {
    "collapsed": false,
    "ExecuteTime": {
     "end_time": "2024-06-13T17:51:21.069445300Z",
     "start_time": "2024-06-13T17:51:21.050446200Z"
    }
   },
   "id": "73edba5cbc09a447",
   "execution_count": 13
  },
  {
   "metadata": {
    "ExecuteTime": {
     "end_time": "2024-06-13T17:51:28.425501900Z",
     "start_time": "2024-06-13T17:51:22.451572Z"
    }
   },
   "cell_type": "code",
   "source": [
    "df_betas = pd.read_csv(f\"{path_load}/raw/GSE72776_datBetaNormalized.csv\", index_col=0, delimiter=\",\").T"
   ],
   "id": "6777c1613482d83d",
   "outputs": [],
   "execution_count": 14
  },
  {
   "metadata": {
    "ExecuteTime": {
     "end_time": "2024-06-13T17:51:29.842532700Z",
     "start_time": "2024-06-13T17:51:29.735495700Z"
    }
   },
   "cell_type": "code",
   "source": [
    "df_betas = df_betas.loc[df_pheno.index.values, :]"
   ],
   "id": "e2f57543b83d5099",
   "outputs": [],
   "execution_count": 15
  },
  {
   "cell_type": "code",
   "source": [
    "df_betas.set_index(df_pheno['gsm'].values, inplace=True)\n",
    "df_pheno.set_index(df_pheno['gsm'].values, inplace=True)"
   ],
   "metadata": {
    "collapsed": false,
    "ExecuteTime": {
     "end_time": "2024-06-13T17:51:31.151547Z",
     "start_time": "2024-06-13T17:51:31.140545700Z"
    }
   },
   "id": "2a197b9cb7468f20",
   "outputs": [],
   "execution_count": 16
  },
  {
   "cell_type": "code",
   "source": [
    "df_betas.T.to_pickle(f\"{path_save}/betas.pkl\")"
   ],
   "metadata": {
    "collapsed": false,
    "ExecuteTime": {
     "end_time": "2024-06-13T17:51:51.629103300Z",
     "start_time": "2024-06-13T17:51:48.840919100Z"
    }
   },
   "id": "ad5010f8ce226a4",
   "outputs": [],
   "execution_count": 18
  },
  {
   "metadata": {
    "ExecuteTime": {
     "end_time": "2024-06-13T17:53:33.031309Z",
     "start_time": "2024-06-13T17:53:30.247972200Z"
    }
   },
   "cell_type": "code",
   "source": [
    "df_betas.to_pickle(f\"{path_save}/betas.pkl\")"
   ],
   "id": "1fc33cb06a5ca864",
   "outputs": [],
   "execution_count": 19
  }
 ],
 "metadata": {
  "kernelspec": {
   "display_name": "Python 3",
   "language": "python",
   "name": "python3"
  },
  "language_info": {
   "codemirror_mode": {
    "name": "ipython",
    "version": 2
   },
   "file_extension": ".py",
   "mimetype": "text/x-python",
   "name": "python",
   "nbconvert_exporter": "python",
   "pygments_lexer": "ipython2",
   "version": "2.7.6"
  }
 },
 "nbformat": 4,
 "nbformat_minor": 5
}
