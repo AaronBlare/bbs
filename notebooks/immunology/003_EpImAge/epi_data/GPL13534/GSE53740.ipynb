{
 "cells": [
  {
   "cell_type": "code",
   "id": "9a3fe634d53eb9bd",
   "metadata": {
    "collapsed": true
   },
   "source": [
    "import pandas as pd\n",
    "from src.dnam.download_from_GEO import download_betas_and_pvals_from_gsms"
   ],
   "outputs": [],
   "execution_count": null
  },
  {
   "cell_type": "code",
   "source": [
    "dataset = \"GSE53740\"\n",
    "path_load = f\"D:/YandexDisk/Work/pydnameth/datasets/GPL13534/{dataset}\"\n",
    "path_save = f\"D:/YandexDisk/Work/bbd/immunology/003_EpImAge/epi/{dataset}\"\n",
    "df_pheno = pd.read_excel(f\"{path_load}/raw/pheno.xlsx\", index_col=0)"
   ],
   "metadata": {
    "collapsed": false
   },
   "id": "initial_id",
   "outputs": [],
   "execution_count": null
  },
  {
   "metadata": {},
   "cell_type": "code",
   "source": "df_betas, df_pvals = download_betas_and_pvals_from_gsms(df_pheno.index.values, f\"{path_load}/raw\")",
   "id": "6777c1613482d83d",
   "outputs": [],
   "execution_count": null
  },
  {
   "metadata": {},
   "cell_type": "code",
   "source": "df_betas = df_betas.loc[df_pheno.index.values, :]",
   "id": "7661e986235d98cd",
   "outputs": [],
   "execution_count": null
  },
  {
   "cell_type": "code",
   "source": "df_betas.T.to_pickle(f\"{path_save}/betas.pkl\")",
   "metadata": {
    "collapsed": false
   },
   "id": "ad5010f8ce226a4",
   "outputs": [],
   "execution_count": null
  },
  {
   "metadata": {},
   "cell_type": "code",
   "source": "df_betas.to_pickle(f\"{path_save}/betas.pkl\")",
   "id": "1fc33cb06a5ca864",
   "outputs": [],
   "execution_count": null
  }
 ],
 "metadata": {
  "kernelspec": {
   "display_name": "Python 3",
   "language": "python",
   "name": "python3"
  },
  "language_info": {
   "codemirror_mode": {
    "name": "ipython",
    "version": 2
   },
   "file_extension": ".py",
   "mimetype": "text/x-python",
   "name": "python",
   "nbconvert_exporter": "python",
   "pygments_lexer": "ipython2",
   "version": "2.7.6"
  }
 },
 "nbformat": 4,
 "nbformat_minor": 5
}
