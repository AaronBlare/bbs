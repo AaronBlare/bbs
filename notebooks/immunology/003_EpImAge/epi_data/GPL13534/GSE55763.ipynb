{
 "cells": [
  {
   "cell_type": "code",
   "id": "9a3fe634d53eb9bd",
   "metadata": {
    "collapsed": true
   },
   "source": "import pandas as pd",
   "outputs": [],
   "execution_count": null
  },
  {
   "cell_type": "code",
   "source": [
    "dataset = \"GSE55763\"\n",
    "path_data = f\"D:/YandexDisk/Work/pydnameth/datasets/GPL13534/GSE55763\"\n",
    "path_save = f\"D:/YandexDisk/Work/bbd/immunology/003_EpImAge/epi/GSE55763\"\n",
    "df_pheno = pd.read_excel(f\"{path_save}/pheno.xlsx\", index_col=0)\n",
    "df_pheno.insert(0, 'Sentrix', df_pheno.index.values)"
   ],
   "metadata": {
    "collapsed": false
   },
   "id": "initial_id",
   "outputs": [],
   "execution_count": null
  },
  {
   "cell_type": "code",
   "source": "df_betas = pd.read_pickle(f\"{path_data}/raw/betas.pkl\").T",
   "metadata": {
    "collapsed": false
   },
   "id": "8dcf2ff4992eb66e",
   "outputs": [],
   "execution_count": null
  },
  {
   "cell_type": "code",
   "source": "df_betas = df_betas.loc[df_pheno.index.values, :]",
   "metadata": {
    "collapsed": false
   },
   "id": "2a197b9cb7468f20",
   "outputs": [],
   "execution_count": null
  },
  {
   "metadata": {},
   "cell_type": "code",
   "source": [
    "df_betas.set_index(df_pheno['gsm'].values, inplace=True)\n",
    "df_pheno.set_index(df_pheno['gsm'].values, inplace=True)"
   ],
   "id": "3cd8e62a26505560",
   "outputs": [],
   "execution_count": null
  },
  {
   "cell_type": "code",
   "source": "df_betas.to_pickle(f\"{path_save}/betas.pkl\")",
   "metadata": {
    "collapsed": false
   },
   "id": "ad5010f8ce226a4",
   "outputs": [],
   "execution_count": null
  }
 ],
 "metadata": {
  "kernelspec": {
   "display_name": "Python 3",
   "language": "python",
   "name": "python3"
  },
  "language_info": {
   "codemirror_mode": {
    "name": "ipython",
    "version": 2
   },
   "file_extension": ".py",
   "mimetype": "text/x-python",
   "name": "python",
   "nbconvert_exporter": "python",
   "pygments_lexer": "ipython2",
   "version": "2.7.6"
  }
 },
 "nbformat": 4,
 "nbformat_minor": 5
}
