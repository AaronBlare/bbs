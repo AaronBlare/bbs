{
 "cells": [
  {
   "cell_type": "code",
   "id": "9a3fe634d53eb9bd",
   "metadata": {
    "collapsed": true
   },
   "source": "import pandas as pd",
   "outputs": [],
   "execution_count": null
  },
  {
   "cell_type": "code",
   "source": [
    "dataset = \"GSE157131\"\n",
    "path_load = f\"D:/YandexDisk/Work/pydnameth/datasets/GPL13534/{dataset}\"\n",
    "path_save = f\"D:/YandexDisk/Work/bbd/immunology/003_EpImAge/epi/{dataset}\"\n",
    "df_pheno = pd.read_excel(f\"{path_load}/raw/controls.xlsx\", index_col=0)"
   ],
   "metadata": {
    "collapsed": false
   },
   "id": "initial_id",
   "outputs": [],
   "execution_count": null
  },
  {
   "metadata": {},
   "cell_type": "code",
   "outputs": [],
   "execution_count": null,
   "source": [
    "df_pheno.insert(0, 'index', df_pheno['description'])\n",
    "df_pheno.insert(0, 'gsm', df_pheno.index)"
   ],
   "id": "7e1adf70f43d45c2"
  },
  {
   "metadata": {},
   "cell_type": "code",
   "source": "df_pheno.set_index('index', inplace=True)",
   "id": "e0f24f1d2836aca7",
   "outputs": [],
   "execution_count": null
  },
  {
   "metadata": {},
   "cell_type": "code",
   "source": "df_raw = pd.read_csv(f\"{path_load}/raw/GSE157131_Matrix_raw_data_450K_08252020.txt\", index_col=0, delimiter=\" \").T",
   "id": "6777c1613482d83d",
   "outputs": [],
   "execution_count": null
  },
  {
   "metadata": {},
   "cell_type": "code",
   "source": [
    "dt_meth = df_raw.iloc[::3, :]\n",
    "dt_meth.set_index(dt_meth.index.str.split('.').str[0], inplace = True)\n",
    "dt_unmeth = df_raw.iloc[1::3, :]\n",
    "dt_unmeth.set_index(dt_meth.index.str.split('.').str[0], inplace = True)"
   ],
   "id": "1f97586e1f2f2e51",
   "outputs": [],
   "execution_count": null
  },
  {
   "metadata": {},
   "cell_type": "code",
   "source": "df_betas = dt_meth / (dt_meth + dt_unmeth + 100.0)",
   "id": "65495070ca335cee",
   "outputs": [],
   "execution_count": null
  },
  {
   "metadata": {},
   "cell_type": "code",
   "source": "df_betas = df_betas.loc[df_pheno.index.values, :]",
   "id": "e2f57543b83d5099",
   "outputs": [],
   "execution_count": null
  },
  {
   "cell_type": "code",
   "source": [
    "df_betas.set_index(df_pheno['gsm'].values, inplace=True)\n",
    "df_pheno.set_index(df_pheno['gsm'].values, inplace=True)"
   ],
   "metadata": {
    "collapsed": false
   },
   "id": "2a197b9cb7468f20",
   "outputs": [],
   "execution_count": null
  },
  {
   "metadata": {},
   "cell_type": "code",
   "source": "df_betas = df_betas.apply(pd.to_numeric)",
   "id": "43e7095971cdba34",
   "outputs": [],
   "execution_count": null
  },
  {
   "cell_type": "code",
   "source": "df_betas.T.to_pickle(f\"{path_save}/betas.pkl\")",
   "metadata": {
    "collapsed": false
   },
   "id": "ad5010f8ce226a4",
   "outputs": [],
   "execution_count": null
  },
  {
   "metadata": {},
   "cell_type": "code",
   "source": "df_betas.to_pickle(f\"{path_save}/betas.pkl\")",
   "id": "1fc33cb06a5ca864",
   "outputs": [],
   "execution_count": null
  }
 ],
 "metadata": {
  "kernelspec": {
   "display_name": "Python 3",
   "language": "python",
   "name": "python3"
  },
  "language_info": {
   "codemirror_mode": {
    "name": "ipython",
    "version": 2
   },
   "file_extension": ".py",
   "mimetype": "text/x-python",
   "name": "python",
   "nbconvert_exporter": "python",
   "pygments_lexer": "ipython2",
   "version": "2.7.6"
  }
 },
 "nbformat": 4,
 "nbformat_minor": 5
}
