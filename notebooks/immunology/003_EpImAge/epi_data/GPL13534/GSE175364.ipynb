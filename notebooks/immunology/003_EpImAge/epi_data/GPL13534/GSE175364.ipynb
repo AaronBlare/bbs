{
 "cells": [
  {
   "cell_type": "code",
   "execution_count": null,
   "id": "9a3fe634d53eb9bd",
   "metadata": {
    "ExecuteTime": {
     "end_time": "2024-06-11T19:31:37.760224100Z",
     "start_time": "2024-06-11T19:31:37.394189600Z"
    },
    "collapsed": true
   },
   "outputs": [],
   "source": [
    "import pandas as pd"
   ]
  },
  {
   "cell_type": "code",
   "execution_count": null,
   "id": "initial_id",
   "metadata": {
    "ExecuteTime": {
     "end_time": "2024-06-11T19:31:40.899288200Z",
     "start_time": "2024-06-11T19:31:40.872288300Z"
    },
    "collapsed": false
   },
   "outputs": [],
   "source": [
    "dataset = \"GSE175364\"\n",
    "path= f\"E:/YandexDisk/bbd/immunology/003_EpImAge/epi/GPL13534/{dataset}\"\n",
    "df_pheno = pd.read_csv(f\"{path}/pheno.csv\", index_col=0)"
   ]
  },
  {
   "cell_type": "code",
   "execution_count": null,
   "id": "8dcf2ff4992eb66e",
   "metadata": {
    "ExecuteTime": {
     "end_time": "2024-06-11T19:31:48.472374800Z",
     "start_time": "2024-06-11T19:31:42.688302200Z"
    },
    "collapsed": false
   },
   "outputs": [],
   "source": [
    "df_betas = pd.read_csv(f\"{path}/betas.csv\", index_col=0).transpose()"
   ]
  },
  {
   "cell_type": "code",
   "execution_count": null,
   "id": "2a197b9cb7468f20",
   "metadata": {
    "ExecuteTime": {
     "end_time": "2024-06-11T19:31:49.866331200Z",
     "start_time": "2024-06-11T19:31:49.785803900Z"
    },
    "collapsed": false
   },
   "outputs": [],
   "source": [
    "df_betas = df_betas.loc[df_pheno.index.values, :]"
   ]
  },
  {
   "cell_type": "code",
   "execution_count": null,
   "id": "ad5010f8ce226a4",
   "metadata": {
    "ExecuteTime": {
     "end_time": "2024-06-11T19:31:54.563279900Z",
     "start_time": "2024-06-11T19:31:51.010738800Z"
    },
    "collapsed": false
   },
   "outputs": [],
   "source": [
    "df_betas.to_pickle(f\"{path}/betas.pkl\")"
   ]
  }
 ],
 "metadata": {
  "kernelspec": {
   "display_name": "Python 3",
   "language": "python",
   "name": "python3"
  },
  "language_info": {
   "codemirror_mode": {
    "name": "ipython",
    "version": 2
   },
   "file_extension": ".py",
   "mimetype": "text/x-python",
   "name": "python",
   "nbconvert_exporter": "python",
   "pygments_lexer": "ipython2",
   "version": "2.7.6"
  }
 },
 "nbformat": 4,
 "nbformat_minor": 5
}
