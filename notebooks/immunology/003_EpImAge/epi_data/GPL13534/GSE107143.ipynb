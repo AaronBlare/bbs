{
 "cells": [
  {
   "cell_type": "code",
   "id": "9a3fe634d53eb9bd",
   "metadata": {
    "collapsed": true,
    "ExecuteTime": {
     "end_time": "2024-06-08T19:02:17.680993300Z",
     "start_time": "2024-06-08T19:02:17.673994200Z"
    }
   },
   "source": [
    "import pandas as pd\n",
    "import os"
   ],
   "outputs": [],
   "execution_count": 14
  },
  {
   "cell_type": "code",
   "source": [
    "dataset = \"GSE107143\"\n",
    "path_load = f\"E:/YandexDisk/pydnameth/datasets/GPL13534/{dataset}\"\n",
    "path_save = f\"E:/YandexDisk/bbd/immunology/003_EpImAge/epi/GPL13534/{dataset}\"\n",
    "if not os.path.exists(path_save):\n",
    "    os.makedirs(path_save)\n",
    "df_pheno = pd.read_excel(f\"{path_load}/raw/pheno.xlsx\", index_col=0)"
   ],
   "metadata": {
    "collapsed": false,
    "ExecuteTime": {
     "end_time": "2024-06-08T19:02:19.086022400Z",
     "start_time": "2024-06-08T19:02:19.029996500Z"
    }
   },
   "id": "initial_id",
   "outputs": [],
   "execution_count": 15
  },
  {
   "metadata": {
    "ExecuteTime": {
     "end_time": "2024-06-08T19:02:20.261994Z",
     "start_time": "2024-06-08T19:02:20.241994300Z"
    }
   },
   "cell_type": "code",
   "source": [
    "df_pheno.insert(0, 'index', df_pheno['title'].str.split(': ').str[0])"
   ],
   "id": "f491943002d8eba",
   "outputs": [],
   "execution_count": 16
  },
  {
   "metadata": {
    "ExecuteTime": {
     "end_time": "2024-06-08T19:02:22.116107700Z",
     "start_time": "2024-06-08T19:02:22.091135800Z"
    }
   },
   "cell_type": "code",
   "source": [
    "df_pheno.insert(0, 'gsm', df_pheno.index)"
   ],
   "id": "7e1adf70f43d45c2",
   "outputs": [],
   "execution_count": 17
  },
  {
   "metadata": {
    "ExecuteTime": {
     "end_time": "2024-06-08T19:02:22.978147600Z",
     "start_time": "2024-06-08T19:02:22.958147300Z"
    }
   },
   "cell_type": "code",
   "source": [
    "df_pheno.set_index('index', inplace=True)"
   ],
   "id": "e0f24f1d2836aca7",
   "outputs": [],
   "execution_count": 18
  },
  {
   "metadata": {
    "ExecuteTime": {
     "end_time": "2024-06-08T19:02:25.359147500Z",
     "start_time": "2024-06-08T19:02:24.090147200Z"
    }
   },
   "cell_type": "code",
   "source": [
    "df_betas = pd.read_csv(f\"{path_load}/raw/GSE107143_matrix_processed.csv\", index_col=0).T"
   ],
   "id": "6777c1613482d83d",
   "outputs": [],
   "execution_count": 19
  },
  {
   "metadata": {
    "ExecuteTime": {
     "end_time": "2024-06-08T19:02:26.234182900Z",
     "start_time": "2024-06-08T19:02:26.220183800Z"
    }
   },
   "cell_type": "code",
   "source": [
    "df_betas = df_betas.iloc[::2, :]"
   ],
   "id": "aa11ec2fd1da98a0",
   "outputs": [],
   "execution_count": 20
  },
  {
   "metadata": {
    "ExecuteTime": {
     "end_time": "2024-06-08T19:02:27.842183800Z",
     "start_time": "2024-06-08T19:02:27.803186Z"
    }
   },
   "cell_type": "code",
   "source": [
    "df_betas = df_betas.loc[df_pheno.index.values, :]"
   ],
   "id": "e2f57543b83d5099",
   "outputs": [],
   "execution_count": 21
  },
  {
   "cell_type": "code",
   "source": [
    "df_betas.set_index(df_pheno['gsm'].values, inplace=True)\n",
    "df_pheno.set_index(df_pheno['gsm'].values, inplace=True)"
   ],
   "metadata": {
    "collapsed": false,
    "ExecuteTime": {
     "end_time": "2024-06-08T19:02:29.490966Z",
     "start_time": "2024-06-08T19:02:29.475184700Z"
    }
   },
   "id": "2a197b9cb7468f20",
   "outputs": [],
   "execution_count": 22
  },
  {
   "cell_type": "code",
   "source": [
    "df_betas.T.to_pickle(f\"{path_save}/betas.pkl\")"
   ],
   "metadata": {
    "collapsed": false,
    "ExecuteTime": {
     "end_time": "2024-06-08T19:02:31.495937900Z",
     "start_time": "2024-06-08T19:02:30.960939500Z"
    }
   },
   "id": "ad5010f8ce226a4",
   "outputs": [],
   "execution_count": 23
  },
  {
   "metadata": {
    "ExecuteTime": {
     "end_time": "2024-06-08T19:23:32.330089500Z",
     "start_time": "2024-06-08T19:23:31.817869600Z"
    }
   },
   "cell_type": "code",
   "source": [
    "df_betas.to_pickle(f\"{path_save}/betas.pkl\")"
   ],
   "id": "1fc33cb06a5ca864",
   "outputs": [],
   "execution_count": 24
  }
 ],
 "metadata": {
  "kernelspec": {
   "display_name": "Python 3",
   "language": "python",
   "name": "python3"
  },
  "language_info": {
   "codemirror_mode": {
    "name": "ipython",
    "version": 2
   },
   "file_extension": ".py",
   "mimetype": "text/x-python",
   "name": "python",
   "nbconvert_exporter": "python",
   "pygments_lexer": "ipython2",
   "version": "2.7.6"
  }
 },
 "nbformat": 4,
 "nbformat_minor": 5
}
