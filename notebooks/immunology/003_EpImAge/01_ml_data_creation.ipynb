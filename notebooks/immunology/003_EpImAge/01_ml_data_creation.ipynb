{
 "cells": [
  {
   "cell_type": "markdown",
   "source": [
    "# Debugging autoreload"
   ],
   "metadata": {
    "collapsed": false
   }
  },
  {
   "cell_type": "code",
   "source": [
    "%load_ext autoreload\n",
    "%autoreload 2"
   ],
   "metadata": {
    "collapsed": false
   },
   "outputs": [],
   "execution_count": null
  },
  {
   "cell_type": "markdown",
   "source": [
    "# Load packages"
   ],
   "metadata": {
    "collapsed": false
   }
  },
  {
   "cell_type": "code",
   "source": [
    "import pandas as pd\n",
    "import numpy as np\n",
    "import seaborn as sns\n",
    "import statsmodels.formula.api as smf\n",
    "from statsmodels.stats.multitest import multipletests\n",
    "from scipy import stats\n",
    "from sklearn.feature_selection import f_regression\n",
    "import itertools\n",
    "from scipy.stats import mannwhitneyu, median_test, kruskal, wilcoxon, friedmanchisquare\n",
    "import matplotlib.pyplot as plt\n",
    "import matplotlib\n",
    "import matplotlib.patheffects as path_effects\n",
    "import random\n",
    "import pathlib\n",
    "from tqdm import tqdm\n",
    "from sklearn.decomposition import PCA, IncrementalPCA, KernelPCA, TruncatedSVD\n",
    "from sklearn.decomposition import MiniBatchDictionaryLearning, FastICA\n",
    "from sklearn.random_projection import GaussianRandomProjection, SparseRandomProjection\n",
    "from sklearn.manifold import MDS, Isomap, TSNE, LocallyLinearEmbedding\n",
    "from itertools import chain\n",
    "from sklearn.metrics import mean_absolute_error\n",
    "from sklearn.model_selection import RepeatedStratifiedKFold\n",
    "from sklearn.impute import KNNImputer\n",
    "import functools\n",
    "import matplotlib.lines as mlines"
   ],
   "metadata": {
    "collapsed": false
   },
   "outputs": [],
   "execution_count": null
  },
  {
   "cell_type": "markdown",
   "source": [
    "# Load data"
   ],
   "metadata": {
    "collapsed": false
   }
  },
  {
   "cell_type": "code",
   "source": [
    "path = \"D:/YandexDisk/Work/pydnameth/datasets/GPL21145/GSEUNN\"\n",
    "path_load = \"D:/YandexDisk/Work/pydnameth/datasets/GPL21145/GSEUNN/special/060_EpiSImAge\"\n",
    "path_save = \"D:/YandexDisk/Work/bbd/immunology/003_EpImAge\"\n",
    "pathlib.Path(path_save).mkdir(parents=True, exist_ok=True)"
   ],
   "metadata": {
    "collapsed": false
   },
   "outputs": [],
   "execution_count": null
  },
  {
   "cell_type": "markdown",
   "source": [
    "## Immunology"
   ],
   "metadata": {
    "collapsed": false
   }
  },
  {
   "cell_type": "code",
   "source": [
    "df = pd.read_excel(f\"{path_load}/df.xlsx\", index_col=0)\n",
    "\n",
    "feats_imm = pd.read_excel(f\"{path}/data/immuno/feats_con.xlsx\", index_col=0).index.values\n",
    "feats_imm_fimmu = pd.read_excel(f\"{path}/data/immuno/models/SImAge/feats_con_top10.xlsx\", index_col=0).index.values\n",
    "feats_imm_slctd = pd.read_excel(f\"{path}/special/059_imm_data_selection/feats_selected.xlsx\", index_col=0).index.values\n",
    "\n",
    "feats_global = [\n",
    "    'Subject ID', 'Time', 'Status', 'Sex', 'Age', 'Region', 'SImAge', 'SImAge acceleration', '|SImAge acceleration|', 'Dialysis (months)',\n",
    "    'PMC10485620 ID', 'PMC9135940 ID', 'COVID', 'GSM', 'PMC10699032 ID', 'Residence', 'Nationality', 'Sample_Name', 'Sentrix_ID', 'Sentrix_Position'\n",
    "]\n",
    "\n",
    "for f in feats_imm_slctd:\n",
    "    df[f\"{f}_log\"] = np.log(df[f\"{f}\"])"
   ],
   "metadata": {
    "collapsed": false
   },
   "outputs": [],
   "execution_count": null
  },
  {
   "metadata": {},
   "cell_type": "markdown",
   "source": "### Plot histogram for status"
  },
  {
   "metadata": {},
   "cell_type": "code",
   "source": [
    "hist_bins = np.linspace(5, 115, 23)\n",
    "sns.set_theme(style='whitegrid')\n",
    "fig, ax = plt.subplots()\n",
    "histplot = sns.histplot(\n",
    "    data=df,\n",
    "    bins=hist_bins,\n",
    "    edgecolor='k',\n",
    "    linewidth=1,\n",
    "    x=\"Age\",\n",
    "    hue='Status',\n",
    "    palette={'ESRD': 'crimson', 'Control': 'dodgerblue'},\n",
    "    hue_order=['Control', 'ESRD'],\n",
    "    ax=ax\n",
    ")\n",
    "histplot.set(xlim=(0, 120))\n",
    "plt.savefig(f\"{path_save}/hist_status.png\", bbox_inches='tight', dpi=200)\n",
    "plt.savefig(f\"{path_save}/hist_status.pdf\", bbox_inches='tight')\n",
    "plt.close(fig)"
   ],
   "outputs": [],
   "execution_count": null
  },
  {
   "metadata": {},
   "cell_type": "markdown",
   "source": "### Stratify immunological data by age and groups"
  },
  {
   "cell_type": "code",
   "source": [
    "random_state = 1337\n",
    "n_splits = 5\n",
    "\n",
    "stratify_cat_parts = {\n",
    "    'ctrl_central': df.index[(df['Status'] == 'Control') & (df['Region'] == 'Central')].values,\n",
    "    'ctrl_yakutia': df.index[(df['Status'] == 'Control') & (df['Region'] == 'Yakutia')].values,\n",
    "    'esrd': df.index[(df['Status'] == 'ESRD')].values,\n",
    "}\n",
    "\n",
    "for part, ids in stratify_cat_parts.items():\n",
    "    print(f\"{part}: {len(ids)}\")\n",
    "    trgt = df.loc[ids, 'Age'].values\n",
    "    ptp = np.ptp(trgt)\n",
    "    num_bins = 10\n",
    "    bins = np.linspace(np.min(trgt) - 0.1 * ptp, np.max(trgt) + 0.1 * ptp, num_bins + 1)\n",
    "    binned = np.digitize(trgt, bins) - 1\n",
    "    unique, counts = np.unique(binned, return_counts=True)\n",
    "    occ = dict(zip(unique, counts))\n",
    "    k_fold = RepeatedStratifiedKFold(\n",
    "        n_splits=n_splits,\n",
    "        n_repeats=1,\n",
    "        random_state=random_state\n",
    "    )\n",
    "    splits = k_fold.split(X=ids, y=binned, groups=binned)\n",
    "    \n",
    "    for split_id, (ids_trn, ids_val) in enumerate(splits):\n",
    "        df.loc[ids[ids_trn], f\"Split_{split_id}\"] = \"trn_val\"\n",
    "        df.loc[ids[ids_val], f\"Split_{split_id}\"] = \"tst\""
   ],
   "metadata": {
    "collapsed": false
   },
   "outputs": [],
   "execution_count": null
  },
  {
   "cell_type": "markdown",
   "source": [
    "## Epigenetics"
   ],
   "metadata": {
    "collapsed": false
   }
  },
  {
   "cell_type": "code",
   "source": [
    "feats_epi = {}\n",
    "epi_data_type = 'no_harm'\n",
    "manifest = pd.read_pickle(\"D:/YandexDisk/Work/pydnameth/datasets/GPL21145/manifest/manifest.pkl\")\n",
    "pathlib.Path(f\"{path_save}/{epi_data_type}\").mkdir(parents=True, exist_ok=True)"
   ],
   "metadata": {
    "collapsed": false
   },
   "outputs": [],
   "execution_count": null
  },
  {
   "cell_type": "markdown",
   "source": "### GSEUNN dataset",
   "metadata": {
    "collapsed": false
   }
  },
  {
   "cell_type": "code",
   "source": [
    "df_epi = pd.read_pickle(f\"{path_load}/GSEUNN/{epi_data_type}/betas.pkl\")\n",
    "df = pd.merge(df, df_epi, left_index=True, right_index=True)"
   ],
   "metadata": {
    "collapsed": false
   },
   "outputs": [],
   "execution_count": null
  },
  {
   "metadata": {},
   "cell_type": "markdown",
   "source": "#### Features update"
  },
  {
   "metadata": {},
   "cell_type": "code",
   "source": "feats_epi['GSEUNN'] = df_epi.columns.values",
   "outputs": [],
   "execution_count": null
  },
  {
   "cell_type": "markdown",
   "source": [
    "### Test datasets"
   ],
   "metadata": {
    "collapsed": false
   }
  },
  {
   "metadata": {},
   "cell_type": "code",
   "source": [
    "tst_gses = [\n",
    "    'GSE87571',\n",
    "    'GSE40279',\n",
    "    'GSE179325',\n",
    "    'GSE217633',\n",
    "    'GSE118144',\n",
    "    'GSE42861',\n",
    "    'GSE106648',\n",
    "    'GSE67530',\n",
    "]\n",
    "\n",
    "for gse in tst_gses:\n",
    "    feats_epi_cmn = list(set.intersection(*[set(x) for x in feats_epi.values()]))\n",
    "    print(f\"Number of CpGs before {gse}: {len(feats_epi_cmn)}\")\n",
    "    df_gse_epi = pd.read_pickle(f\"{path_load}/GSE40279/betas.pkl\")\n",
    "    feats_epi['GSE40279'] = df_gse_epi.columns.values\n",
    "    feats_epi_cmn = list(set.intersection(*[set(x) for x in feats_epi.values()]))\n",
    "    print(f\"Number of CpGs after {gse}: {len(feats_epi_cmn)}\")"
   ],
   "outputs": [],
   "execution_count": null
  },
  {
   "metadata": {},
   "cell_type": "markdown",
   "source": "### Epigenetic features"
  },
  {
   "metadata": {},
   "cell_type": "code",
   "source": [
    "feats_epi_cmn = list(set.intersection(*[set(x) for x in feats_epi.values()]))\n",
    "print(f\"Number of CpGs: {len(feats_epi_cmn)}\")"
   ],
   "outputs": [],
   "execution_count": null
  },
  {
   "cell_type": "markdown",
   "source": [
    "# Features selection"
   ],
   "metadata": {
    "collapsed": false
   }
  },
  {
   "cell_type": "markdown",
   "source": "## Immunological features: original or logarithmic?",
   "metadata": {
    "collapsed": false
   }
  },
  {
   "cell_type": "code",
   "source": [
    "n_rows = 8\n",
    "n_cols = 4\n",
    "fig_height = 20\n",
    "fig_width = 12\n",
    "\n",
    "colors_feats_type = {\n",
    "    '': 'red',\n",
    "    '_log': 'blue'\n",
    "}\n",
    "\n",
    "for suffix in colors_feats_type:\n",
    "    sns.set_theme(style='whitegrid')\n",
    "    fig, axs = plt.subplots(n_rows, n_cols, figsize=(fig_width, fig_height), gridspec_kw={}, sharey=False, sharex=False)\n",
    "    for feat_id, feat in enumerate(feats_imm_slctd):\n",
    "        row_id, col_id = divmod(feat_id, n_cols)\n",
    "        sns.kdeplot(\n",
    "            data=df,\n",
    "            x=f\"{feat}{suffix}\",\n",
    "            color=colors_feats_type[suffix],\n",
    "            linewidth=2,\n",
    "            cut=0,\n",
    "            fill=True,\n",
    "            ax=axs[row_id, col_id],\n",
    "        )\n",
    "        axs[row_id, col_id].ticklabel_format(style='scientific', scilimits=(-1, 1), axis='y', useOffset=True)\n",
    "        if suffix == '_log':\n",
    "            axs[row_id, col_id].set_xlabel(fr\"$\\log(\\mathrm{{{feat}}})$\")\n",
    "    fig.tight_layout()    \n",
    "    fig.savefig(f\"{path_save}/immuno_features{suffix}.png\", bbox_inches='tight', dpi=200)\n",
    "    fig.savefig(f\"{path_save}/immuno_features{suffix}.pdf\", bbox_inches='tight')\n",
    "    plt.close(fig)\n"
   ],
   "metadata": {
    "collapsed": false
   },
   "outputs": [],
   "execution_count": null
  },
  {
   "cell_type": "markdown",
   "source": [
    "## Generate table of features"
   ],
   "metadata": {
    "collapsed": false
   }
  },
  {
   "metadata": {},
   "cell_type": "markdown",
   "source": "### Spearman correlation"
  },
  {
   "cell_type": "code",
   "source": [
    "n_feats = 100\n",
    "\n",
    "with pd.ExcelWriter(f\"{path_save}/{epi_data_type}/spearman_{n_feats}.xlsx\", engine='xlsxwriter') as writer:\n",
    "    for imm in feats_imm_slctd:\n",
    "        df_stat = pd.DataFrame(\n",
    "            index=feats_epi_cmn,\n",
    "            columns=['Gene'] + [f\"{imm}_stat\", f\"{imm}_pval\", f\"{imm}_pval_fdr\"]\n",
    "        )\n",
    "        for cpg in tqdm(feats_epi_cmn, desc=f'{imm} CpG processing', total=len(feats_epi_cmn)):\n",
    "            df_stat.at[cpg, 'Gene'] = manifest.at[cpg, 'Gene']\n",
    "            res = stats.spearmanr(df[f\"{imm}_log\"], df[cpg], alternative='two-sided')\n",
    "            df_stat.at[cpg, f\"{imm}_stat\"] = res.statistic\n",
    "            df_stat.at[cpg, f\"{imm}_pval\"] = res.pvalue\n",
    "        _, df_stat[f\"{imm}_pval_fdr\"], _, _ = multipletests(df_stat[f\"{imm}_pval\"], 0.05, method='fdr_bh')\n",
    "        df_stat.sort_values([f\"{imm}_pval\"], ascending=[True], inplace=True)\n",
    "        df_stat.head(n_feats).to_excel(writer, sheet_name=imm)"
   ],
   "metadata": {
    "collapsed": false
   },
   "outputs": [],
   "execution_count": null
  },
  {
   "metadata": {},
   "cell_type": "markdown",
   "source": "### f_regression"
  },
  {
   "metadata": {},
   "cell_type": "code",
   "source": [
    "n_feats = 100\n",
    "\n",
    "with pd.ExcelWriter(f\"{path_save}/{epi_data_type}/f_regression_{n_feats}.xlsx\", engine='xlsxwriter') as writer:\n",
    "    for imm in feats_imm_slctd:\n",
    "        df_stat = pd.DataFrame(\n",
    "            index=feats_epi_cmn,\n",
    "            columns=['Gene'] + [f\"{imm}_stat\", f\"{imm}_pval\", f\"{imm}_pval_fdr\"]\n",
    "        )\n",
    "        df_stat.loc[feats_epi_cmn, 'Gene'] = manifest.loc[feats_epi_cmn, 'Gene']\n",
    "        df_stat[f\"{imm}_stat\"], df_stat[f\"{imm}_pval\"] = f_regression(df.loc[:, feats_epi_cmn].values, df.loc[:, imm].values)\n",
    "        _, df_stat[f\"{imm}_pval_fdr\"], _, _ = multipletests(df_stat[f\"{imm}_pval\"], 0.05, method='fdr_bh')\n",
    "        df_stat.sort_values([f\"{imm}_pval\"], ascending=[True], inplace=True)\n",
    "        df_stat.head(n_feats).to_excel(writer, sheet_name=imm)"
   ],
   "outputs": [],
   "execution_count": null
  },
  {
   "cell_type": "markdown",
   "source": "## Load table of features and create data",
   "metadata": {
    "collapsed": false
   }
  },
  {
   "cell_type": "code",
   "source": [
    "method = 'spearman'\n",
    "n_feats = 100\n",
    "for imm in feats_imm_slctd:\n",
    "    df_stat = pd.read_excel(f\"{path_save}/{epi_data_type}/{method}_{n_feats}.xlsx\", index_col=0, sheet_name=imm)\n",
    "    pathlib.Path(f\"{path_save}/{epi_data_type}/{method}_{n_feats}/{imm}\").mkdir(parents=True, exist_ok=True)\n",
    "    df_stat.to_excel(f\"{path_save}/{epi_data_type}/{method}_{n_feats}/{imm}/feats_con.xlsx\", index_label='CpG')\n",
    "    df_stat.to_pickle(f\"{path_save}/{epi_data_type}/{method}_{n_feats}/{imm}/feats_con.pkl\")\n",
    "    df_data_imm = df.loc[:, feats_global + [f\"Split_{split_id}\" for split_id in range(5)] + [imm, f'{imm}_log'] + list(df_stat.index.values)]\n",
    "    df_data_imm['Index'] = df_data_imm.index.values\n",
    "    df_data_imm.to_excel(f\"{path_save}/{epi_data_type}/{method}_{n_feats}/{imm}/data.xlsx\")\n",
    "    df_data_imm.to_pickle(f\"{path_save}/{epi_data_type}/{method}_{n_feats}/{imm}/data.pkl\")"
   ],
   "metadata": {
    "collapsed": false
   },
   "outputs": [],
   "execution_count": null
  }
 ],
 "metadata": {
  "kernelspec": {
   "name": "python3",
   "language": "python",
   "display_name": "Python 3 (ipykernel)"
  },
  "language_info": {
   "codemirror_mode": {
    "name": "ipython",
    "version": 2
   },
   "file_extension": ".py",
   "mimetype": "text/x-python",
   "name": "python",
   "nbconvert_exporter": "python",
   "pygments_lexer": "ipython2",
   "version": "2.7.6"
  }
 },
 "nbformat": 4,
 "nbformat_minor": 0
}
