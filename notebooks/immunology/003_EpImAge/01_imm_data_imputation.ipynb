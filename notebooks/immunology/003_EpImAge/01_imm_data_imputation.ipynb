{
 "cells": [
  {
   "cell_type": "markdown",
   "source": [
    "# Debugging autoreload"
   ],
   "metadata": {
    "collapsed": false
   }
  },
  {
   "cell_type": "code",
   "source": [
    "%load_ext autoreload\n",
    "%autoreload 2"
   ],
   "metadata": {
    "collapsed": false
   },
   "outputs": [],
   "execution_count": null
  },
  {
   "cell_type": "markdown",
   "source": [
    "# Load packages"
   ],
   "metadata": {
    "collapsed": false
   }
  },
  {
   "cell_type": "code",
   "source": [
    "import pandas as pd\n",
    "import numpy as np\n",
    "import seaborn as sns\n",
    "import statsmodels.formula.api as smf\n",
    "from statsmodels.stats.multitest import multipletests\n",
    "from scipy import stats\n",
    "from sklearn.feature_selection import f_regression\n",
    "import itertools\n",
    "from scipy.stats import mannwhitneyu, median_test, kruskal, wilcoxon, friedmanchisquare\n",
    "import matplotlib.pyplot as plt\n",
    "import matplotlib\n",
    "import matplotlib.patheffects as path_effects\n",
    "import random\n",
    "import pathlib\n",
    "from tqdm import tqdm\n",
    "from sklearn.decomposition import PCA, IncrementalPCA, KernelPCA, TruncatedSVD\n",
    "from sklearn.decomposition import MiniBatchDictionaryLearning, FastICA\n",
    "from sklearn.random_projection import GaussianRandomProjection, SparseRandomProjection\n",
    "from sklearn.manifold import MDS, Isomap, TSNE, LocallyLinearEmbedding\n",
    "from itertools import chain\n",
    "from sklearn.metrics import mean_absolute_error\n",
    "from sklearn.model_selection import RepeatedStratifiedKFold\n",
    "from sklearn.impute import KNNImputer\n",
    "import functools\n",
    "import matplotlib.lines as mlines\n",
    "import miceforest as mf"
   ],
   "metadata": {
    "collapsed": false
   },
   "outputs": [],
   "execution_count": null
  },
  {
   "cell_type": "markdown",
   "source": "# Imputation (logarithmic) using all suitable immuno data",
   "metadata": {
    "collapsed": false
   }
  },
  {
   "metadata": {},
   "cell_type": "markdown",
   "source": "## Prepare data"
  },
  {
   "cell_type": "code",
   "source": [
    "path = \"D:/YandexDisk/Work/pydnameth/datasets/GPL21145/GSEUNN\"\n",
    "path_load = \"D:/YandexDisk/Work/pydnameth/datasets/GPL21145/GSEUNN/special/060_EpiSImAge\""
   ],
   "metadata": {
    "collapsed": false
   },
   "outputs": [],
   "execution_count": null
  },
  {
   "cell_type": "code",
   "source": [
    "df = pd.read_excel(f\"{path_load}/df.xlsx\", index_col=0)\n",
    "df_imm = pd.read_excel(f\"{path_load}/df_imm.xlsx\", index_col=0)\n",
    "df_all = pd.read_excel(f\"{path}/data/immuno/data.xlsx\", index_col=0)\n",
    "df_all_w_nans = pd.read_excel(f\"{path}/data/immuno/data_with_nans.xlsx\", index_col=0)\n",
    "\n",
    "feats_imm = pd.read_excel(f\"{path}/data/immuno/feats_con.xlsx\", index_col=0).index.values\n",
    "feats_imm_fimmu = pd.read_excel(f\"{path}/data/immuno/models/SImAge/feats_con_top10.xlsx\", index_col=0).index.values\n",
    "feats_imm_slctd = pd.read_excel(f\"{path}/special/059_imm_data_selection/feats_selected.xlsx\", index_col=0).index.values\n",
    "\n",
    "feats_global = [\n",
    "    'Subject ID', 'Time', 'Status', 'Sex', 'Age', 'Region', 'SImAge', 'SImAge acceleration', '|SImAge acceleration|', 'Dialysis (months)',\n",
    "    'PMC10485620 ID', 'PMC9135940 ID', 'COVID', 'GSM', 'PMC10699032 ID', 'Residence', 'Nationality', 'Sample_Name', 'Sentrix_ID', 'Sentrix_Position'\n",
    "]\n",
    "feats_add_for_imp = ['Age', 'Sex', 'Region', 'Status']"
   ],
   "metadata": {
    "collapsed": false
   },
   "outputs": [],
   "execution_count": null
  },
  {
   "metadata": {},
   "cell_type": "code",
   "source": [
    "df_for_imp = df_all_w_nans.loc[df_imm.index.values, feats_imm_slctd]\n",
    "df_for_imp.loc[df_for_imp.index.values, feats_add_for_imp] = df_imm.loc[df_for_imp.index.values, feats_add_for_imp]\n",
    "for f in ['Sex', 'Region', 'Status']:\n",
    "    df_for_imp[f] = df_for_imp[f].astype('category')\n",
    "\n",
    "feats_imm_slctd_log = []\n",
    "for f in feats_imm_slctd:\n",
    "    df_for_imp[f\"{f}_log\"] = np.log(df_for_imp[f\"{f}\"])\n",
    "    feats_imm_slctd_log.append(f\"{f}_log\")\n",
    "\n",
    "df_nan_feats = df_for_imp.loc[:, feats_imm_slctd_log].isna().sum(axis=0).to_frame(name=\"Number of NaNs\")\n",
    "df_nan_feats[\"% of NaNs\"] = df_nan_feats[\"Number of NaNs\"] / df_for_imp.shape[0] * 100\n",
    "df_nan_feats[\"Number of not-NaNs\"] = df_for_imp.loc[:, feats_imm_slctd_log].notna().sum(axis=0)\n",
    "df_nan_feats.sort_values([\"% of NaNs\"], ascending=[False], inplace=True)\n",
    "sns.set_theme(style='whitegrid')\n",
    "fig = plt.figure(figsize=(14, 4))\n",
    "plt.xticks(rotation=90)\n",
    "barplot = sns.barplot(\n",
    "    data=df_nan_feats,\n",
    "    x=df_nan_feats.index,\n",
    "    y=f\"% of NaNs\",\n",
    "    edgecolor='black',\n",
    "    dodge=False,\n",
    ")\n",
    "barplot.set_xlabel(\"\")\n",
    "plt.show()\n",
    "plt.close(fig)"
   ],
   "outputs": [],
   "execution_count": null
  },
  {
   "metadata": {},
   "cell_type": "markdown",
   "source": "## KNN Imputation"
  },
  {
   "metadata": {},
   "cell_type": "code",
   "source": [
    "n_neighbors = 5\n",
    "path_save = f\"D:/YandexDisk/Work/bbd/immunology/003_EpImAge/imp_source(imm)_method(knn)_params({n_neighbors})\"\n",
    "pathlib.Path(path_save).mkdir(parents=True, exist_ok=True)\n",
    "\n",
    "X = df_for_imp.loc[:, feats_imm_slctd_log + ['Age']].values\n",
    "print(f'Missing before imputation: {np.isnan(X).sum()}')\n",
    "imputer = KNNImputer(n_neighbors=n_neighbors)\n",
    "X_imptd = imputer.fit_transform(X)\n",
    "print(f'Missing after imputation: {np.isnan(X_imptd).sum()}')\n",
    "\n",
    "df_imp = df_for_imp.copy()\n",
    "df_imp.loc[:, feats_imm_slctd_log + ['Age']] = X_imptd\n",
    "\n",
    "# Strong outliers imputation\n",
    "print('Strong outliers:')\n",
    "for f in feats_imm_slctd_log:\n",
    "    q1 = df_imp[f].quantile(0.25)\n",
    "    q3 = df_imp[f].quantile(0.75)\n",
    "    iqr = q3 - q1\n",
    "    df_imp.loc[(df_imp[f] < q1 - 3.0 * iqr) | (df_imp[f] > q3 + 3.0 * iqr), f] = np.nan\n",
    "    print(f\"{f}: {df_imp.loc[:, f].isna().sum()}\")\n",
    "X = df_imp.loc[:, feats_imm_slctd_log + ['Age']].values\n",
    "imputer = KNNImputer(n_neighbors=n_neighbors)\n",
    "X_imptd = imputer.fit_transform(X)\n",
    "df_imp.loc[:, feats_imm_slctd_log + ['Age']] = X_imptd\n",
    "\n",
    "for f in feats_imm_slctd:\n",
    "    df_imp[f\"{f}\"] = np.exp(df_imp[f\"{f}_log\"])\n",
    "\n",
    "df_imm_new = df_imm.copy()\n",
    "df_imm_new.loc[df_imm_new.index.values, feats_imm_slctd_log] = df_imp.loc[df_imm_new.index.values, feats_imm_slctd_log]\n",
    "df_imm_new.loc[df_imm_new.index.values, feats_imm_slctd] = df_imp.loc[df_imm_new.index.values, feats_imm_slctd]\n",
    "df_imm_new.to_excel(f\"{path_save}/df_imm.xlsx\")\n",
    "\n",
    "df_new = df.copy()\n",
    "df_new.loc[df_new.index.values, feats_imm_slctd_log] = df_imp.loc[df_new.index.values, feats_imm_slctd_log]\n",
    "df_new.loc[df_new.index.values, feats_imm_slctd] = df_imp.loc[df_new.index.values, feats_imm_slctd]\n",
    "df_new.to_excel(f\"{path_save}/df.xlsx\")"
   ],
   "outputs": [],
   "execution_count": null
  },
  {
   "metadata": {},
   "cell_type": "markdown",
   "source": "## miceforest imputation"
  },
  {
   "metadata": {},
   "cell_type": "code",
   "source": [
    "iterations = 2\n",
    "path_save = f\"D:/YandexDisk/Work/bbd/immunology/003_EpImAge/imp_source(imm)_method(miceforest)_params({iterations})\"\n",
    "pathlib.Path(path_save).mkdir(parents=True, exist_ok=True)\n",
    "\n",
    "print(f'Missing before imputation: {df_for_imp.loc[:, feats_imm_slctd_log + feats_add_for_imp].isna().sum().sum()}')\n",
    "kds = mf.ImputationKernel(\n",
    "  data=df_for_imp.loc[:, feats_imm_slctd_log + feats_add_for_imp],\n",
    "  save_all_iterations=True,\n",
    "  random_state=42\n",
    ")\n",
    "kds.mice(iterations=iterations)\n",
    "df_kds = kds.complete_data()\n",
    "print(f'Missing after imputation: {df_kds.isna().sum().sum()}')\n",
    "\n",
    "df_imp = df_for_imp.copy()\n",
    "df_imp.loc[df_imp.index.values, feats_imm_slctd_log] = df_kds.loc[df_imp.index.values, feats_imm_slctd_log]\n",
    "\n",
    "# Strong outliers imputation\n",
    "print('Strong outliers:')\n",
    "for f in feats_imm_slctd_log:\n",
    "    q1 = df_imp[f].quantile(0.25)\n",
    "    q3 = df_imp[f].quantile(0.75)\n",
    "    iqr = q3 - q1\n",
    "    df_imp.loc[(df_imp[f] < q1 - 3.0 * iqr) | (df_imp[f] > q3 + 3.0 * iqr), f] = np.nan\n",
    "    print(f\"{f}: {df_imp.loc[:, f].isna().sum()}\")\n",
    "    \n",
    "kds = mf.ImputationKernel(\n",
    "  data=df_imp.loc[:, feats_imm_slctd_log + feats_add_for_imp],\n",
    "  save_all_iterations=True,\n",
    "  random_state=42\n",
    ")\n",
    "kds.mice(iterations=iterations)\n",
    "df_kds = kds.complete_data()\n",
    "df_imp.loc[df_imp.index.values, feats_imm_slctd_log] = df_kds.loc[df_imp.index.values, feats_imm_slctd_log]\n",
    "\n",
    "for f in feats_imm_slctd:\n",
    "    df_imp[f\"{f}\"] = np.exp(df_imp[f\"{f}_log\"])\n",
    "    \n",
    "df_imm_new = df_imm.copy()\n",
    "df_imm_new.loc[df_imm_new.index.values, feats_imm_slctd_log] = df_imp.loc[df_imm_new.index.values, feats_imm_slctd_log]\n",
    "df_imm_new.loc[df_imm_new.index.values, feats_imm_slctd] = df_imp.loc[df_imm_new.index.values, feats_imm_slctd]\n",
    "df_imm_new.to_excel(f\"{path_save}/df_imm.xlsx\")\n",
    "\n",
    "df_new = df.copy()\n",
    "df_new.loc[df_new.index.values, feats_imm_slctd_log] = df_imp.loc[df_new.index.values, feats_imm_slctd_log]\n",
    "df_new.loc[df_new.index.values, feats_imm_slctd] = df_imp.loc[df_new.index.values, feats_imm_slctd]\n",
    "df_new.to_excel(f\"{path_save}/df.xlsx\")"
   ],
   "outputs": [],
   "execution_count": null
  }
 ],
 "metadata": {
  "kernelspec": {
   "name": "python3",
   "language": "python",
   "display_name": "Python 3 (ipykernel)"
  },
  "language_info": {
   "codemirror_mode": {
    "name": "ipython",
    "version": 2
   },
   "file_extension": ".py",
   "mimetype": "text/x-python",
   "name": "python",
   "nbconvert_exporter": "python",
   "pygments_lexer": "ipython2",
   "version": "2.7.6"
  }
 },
 "nbformat": 4,
 "nbformat_minor": 0
}
