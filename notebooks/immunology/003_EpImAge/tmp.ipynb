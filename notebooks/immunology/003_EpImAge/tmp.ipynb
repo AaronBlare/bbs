{
 "cells": [
  {
   "cell_type": "code",
   "id": "initial_id",
   "metadata": {
    "collapsed": true
   },
   "source": "",
   "outputs": [],
   "execution_count": null
  },
  {
   "metadata": {},
   "cell_type": "code",
   "source": [
    "import matplotlib.colors as mcolors\n",
    "import distinctipy"
   ],
   "id": "75329ff7ec566622",
   "outputs": [],
   "execution_count": null
  },
  {
   "metadata": {},
   "cell_type": "code",
   "source": [
    "input_colors = [mcolors.hex2color(mcolors.CSS4_COLORS['dodgerblue'])]\n",
    "output_colors = distinctipy.get_colors(5, input_colors)\n",
    "distinctipy.color_swatch(output_colors)"
   ],
   "id": "e07a75e7c00db869",
   "outputs": [],
   "execution_count": null
  }
 ],
 "metadata": {
  "kernelspec": {
   "display_name": "Python 3",
   "language": "python",
   "name": "python3"
  },
  "language_info": {
   "codemirror_mode": {
    "name": "ipython",
    "version": 2
   },
   "file_extension": ".py",
   "mimetype": "text/x-python",
   "name": "python",
   "nbconvert_exporter": "python",
   "pygments_lexer": "ipython2",
   "version": "2.7.6"
  }
 },
 "nbformat": 4,
 "nbformat_minor": 5
}
