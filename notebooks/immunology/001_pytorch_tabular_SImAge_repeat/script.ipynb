{
 "cells": [
  {
   "cell_type": "markdown",
   "source": [
    "# Debugging autoreload"
   ],
   "metadata": {
    "collapsed": false
   }
  },
  {
   "cell_type": "code",
   "outputs": [],
   "source": [
    "%load_ext autoreload\n",
    "%autoreload 2"
   ],
   "metadata": {
    "collapsed": false
   }
  },
  {
   "cell_type": "markdown",
   "source": [
    "# Load packages"
   ],
   "metadata": {
    "collapsed": false
   }
  },
  {
   "cell_type": "code",
   "execution_count": null,
   "outputs": [],
   "source": [
    "from pytorch_tabular.utils import load_covertype_dataset\n",
    "from rich.pretty import pprint\n",
    "from glob import glob\n",
    "import copy\n",
    "from sklearn.model_selection import train_test_split\n",
    "import numpy as np\n",
    "from pytorch_tabular.utils import make_mixed_dataset, print_metrics\n",
    "from pytorch_tabular import available_models\n",
    "from pytorch_tabular import TabularModel\n",
    "from pytorch_tabular.models import CategoryEmbeddingModelConfig, GANDALFConfig, TabNetModelConfig, FTTransformerConfig\n",
    "from pytorch_tabular.config import DataConfig, OptimizerConfig, TrainerConfig\n",
    "from pytorch_tabular.models.common.heads import LinearHeadConfig\n",
    "from pytorch_tabular.tabular_model_tuner import TabularModelTuner\n",
    "from pytorch_tabular import MODEL_SWEEP_PRESETS\n",
    "import pandas as pd\n",
    "from pytorch_tabular import model_sweep\n",
    "import warnings\n",
    "from src.utils.configs import read_parse_config\n",
    "from src.utils.hash import dict_hash\n"
   ],
   "metadata": {
    "collapsed": false
   }
  },
  {
   "cell_type": "markdown",
   "source": [
    "# Load data"
   ],
   "metadata": {
    "collapsed": false
   }
  },
  {
   "cell_type": "code",
   "outputs": [],
   "source": [
    "path_data = \"D:/YandexDisk/Work/pydnameth/datasets/GPL21145/GSEUNN/special/060_EpiSImAge/SImAge_repeat\"\n",
    "path_configs = \"D:/Work/bbs/notebooks/immunology/001_pytorch_tabular_SImAge_log\"\n",
    "data = pd.read_excel(f\"{path_data}/data.xlsx\", index_col=1)\n",
    "feats = pd.read_excel(f\"{path_data}/feats_con10.xlsx\", index_col=0).index.values.tolist()\n",
    "cv_df = pd.read_excel(f\"{path_data}/cv_ids.xlsx\", index_col=0)\n",
    "cv_df = cv_df.loc[data.index, :]\n",
    "train_only = data.loc[cv_df.index[cv_df['fold_0002'] == 'trn'].values, feats + ['Age']]\n",
    "validation_only = data.loc[cv_df.index[cv_df['fold_0002'] == 'val'].values, feats + ['Age']]\n",
    "train_validation = data.loc[data[\"Dataset\"] == \"Train/Validation\", feats + ['Age']]\n",
    "test = data.loc[data[\"Dataset\"] == \"Test Controls\", feats + ['Age']]\n",
    "cv_indexes = [\n",
    "    (\n",
    "        np.where(train_validation.index.isin(cv_df.index[cv_df[f\"fold_{i:04d}\"] == 'trn']))[0],\n",
    "        np.where(train_validation.index.isin(cv_df.index[cv_df[f\"fold_{i:04d}\"] == 'val']))[0],\n",
    "    ) \n",
    "    for i in range(5)\n",
    "]"
   ],
   "metadata": {
    "collapsed": false
   },
   "execution_count": null
  },
  {
   "cell_type": "markdown",
   "source": [
    "# GANDALF Search Space"
   ],
   "metadata": {
    "collapsed": false
   }
  },
  {
   "cell_type": "code",
   "outputs": [],
   "source": [
    "search_space = {\n",
    "    \"model_config__gflu_stages\": [10, 15, 20, 25],\n",
    "    \"model_config__gflu_dropout\": [0.1, 0.2],\n",
    "    \"model_config__gflu_feature_init_sparsity\": [0.2, 0.3, 0.4],\n",
    "    \"model_config.head_config__dropout\": [0.1, 0.2],\n",
    "    \"model_config__seed\": [42, 1337, 666, 777, 16022008, 26111993, 28042020, 16, 7, 456456456],\n",
    "}\n",
    "model_config = read_parse_config(f\"{path_configs}/GANDALFConfig.yaml\", GANDALFConfig)"
   ],
   "metadata": {
    "collapsed": false
   },
   "execution_count": null
  },
  {
   "cell_type": "markdown",
   "source": [
    "# CategoryEmbeddingModel Search Space"
   ],
   "metadata": {
    "collapsed": false
   }
  },
  {
   "cell_type": "code",
   "outputs": [],
   "source": [
    "search_space = {\n",
    "    \"model_config__layers\": [\"256-128-64\", \"512-256-256\", \"32-16\", \"32-32-16\", \"16-8\", \"32-16-8\", \"128-64\", \"128-128\", \"10-10\"],\n",
    "    \"model_config.head_config__dropout\": [0.05, 0.1, 0.15, 0.2, 0.25],\n",
    "    \"model_config__seed\": [42, 1337, 666, 777, 16022008, 26111993, 28042020, 16, 7, 456456456],\n",
    "}\n",
    "model_config = read_parse_config(f\"{path_configs}/CategoryEmbeddingModelConfig.yaml\", CategoryEmbeddingModelConfig)"
   ],
   "metadata": {
    "collapsed": false
   },
   "execution_count": null
  },
  {
   "cell_type": "markdown",
   "source": [
    "# TabNetModel Search Space"
   ],
   "metadata": {
    "collapsed": false
   }
  },
  {
   "cell_type": "code",
   "outputs": [],
   "source": [
    "search_space = {\n",
    "    \"model_config__n_d\": [16, 32],\n",
    "    \"model_config__n_a\": [16, 32],\n",
    "    \"model_config__n_steps\": [3, 6],\n",
    "    \"model_config__gamma\": [1.3, 1.5],\n",
    "    \"model_config__n_independent\": [2, 3],\n",
    "    \"model_config__n_shared\": [2, 3],\n",
    "    \"model_config__mask_type\": [\"sparsemax\", \"entmax\"],\n",
    "    \"model_config.head_config__dropout\": [0.1, 0.2],\n",
    "    \"model_config__seed\": [42, 1337, 666, 777, 16022008, 26111993, 28042020, 16, 7, 456456456],\n",
    "}\n",
    "model_config = read_parse_config(f\"{path_configs}/TabNetModelConfig.yaml\", TabNetModelConfig)"
   ],
   "metadata": {
    "collapsed": false
   },
   "execution_count": null
  },
  {
   "cell_type": "markdown",
   "source": [
    "# Grid Search and Random Search"
   ],
   "metadata": {
    "collapsed": false
   }
  },
  {
   "cell_type": "code",
   "outputs": [],
   "source": [
    "strategy = 'grid_search'\n",
    "seed = 456456456\n",
    "n_random_trials = 100\n",
    "is_cross_validation = False\n",
    "\n",
    "data_config = read_parse_config(f\"{path_configs}/DataConfig.yaml\", DataConfig)\n",
    "trainer_config = read_parse_config(f\"{path_configs}/TrainerConfig.yaml\", TrainerConfig)\n",
    "trainer_config['checkpoints'] = None\n",
    "trainer_config['load_best'] = False\n",
    "optimizer_config = read_parse_config(f\"{path_configs}/OptimizerConfig.yaml\", OptimizerConfig)\n",
    "\n",
    "tuner = TabularModelTuner(\n",
    "    data_config=data_config,\n",
    "    model_config=model_config,\n",
    "    optimizer_config=optimizer_config,\n",
    "    trainer_config=trainer_config,\n",
    "    suppress_lightning_logger=True,\n",
    ")\n",
    "\n",
    "with warnings.catch_warnings():\n",
    "    warnings.simplefilter(\"ignore\")\n",
    "    if is_cross_validation:\n",
    "        result = tuner.tune(\n",
    "        train=train_validation,\n",
    "        validation=None,\n",
    "        search_space=search_space,\n",
    "        metric=\"mean_absolute_error\",\n",
    "        mode=\"min\",\n",
    "        strategy=strategy,\n",
    "        n_trials=n_random_trials,\n",
    "        cv=cv_indexes,\n",
    "        return_best_model=True,\n",
    "        verbose=False,\n",
    "        progress_bar=False,\n",
    "        random_state=seed,\n",
    "    )\n",
    "    else:\n",
    "        result = tuner.tune(\n",
    "            train=train_only,\n",
    "            validation=validation_only,\n",
    "            search_space=search_space,\n",
    "            metric=\"mean_absolute_error\",\n",
    "            mode=\"min\",\n",
    "            strategy=strategy,\n",
    "            n_trials=n_random_trials,\n",
    "            cv=None,\n",
    "            return_best_model=True,\n",
    "            verbose=False,\n",
    "            progress_bar=False,\n",
    "            random_state=seed,\n",
    "        )\n",
    "\n",
    "result.trials_df.to_excel(f\"{trainer_config['checkpoints_path']}/trials/{model_config['_model_name']}_{strategy}_{seed}_{dict_hash(search_space)[:10]}.xlsx\")"
   ],
   "metadata": {
    "collapsed": false
   },
   "execution_count": null
  },
  {
   "cell_type": "markdown",
   "source": [
    "# FTTransformer Greed Search"
   ],
   "metadata": {
    "collapsed": false
   }
  },
  {
   "cell_type": "code",
   "outputs": [],
   "source": [
    "seed = 42\n",
    "n_trials = 100\n",
    "\n",
    "search_space = {\n",
    "    \"model_config__num_heads\": [2, 4, 8, 16, 32],\n",
    "    \"model_config__num_attn_blocks\": [4, 6, 8, 10, 12],\n",
    "    \"model_config__attn_dropout\": [0.05, 0.1, 0.15, 0.2],\n",
    "    \"model_config__add_norm_dropout\": [0.05, 0.1, 0.15, 0.2],\n",
    "    \"model_config__ff_dropout\": [0.05, 0.1, 0.15, 0.2],\n",
    "    \"model_config.head_config__dropout\": [0.01, 0.025, 0.05, 0.1, 0.15, 0.2, 0.25, 0.3],\n",
    "}\n",
    "\n",
    "data_config = read_parse_config(f\"{path_configs}/DataConfig.yaml\", DataConfig)\n",
    "model_config = read_parse_config(f\"{path_configs}/FTTransformerConfig.yaml\", FTTransformerConfig)\n",
    "trainer_config = read_parse_config(f\"{path_configs}/TrainerConfig.yaml\", TrainerConfig)\n",
    "trainer_config['checkpoints'] = None\n",
    "trainer_config['load_best'] = False\n",
    "optimizer_config = read_parse_config(f\"{path_configs}/OptimizerConfig.yaml\", OptimizerConfig)\n",
    "\n",
    "tuner = TabularModelTuner(\n",
    "    data_config=data_config,\n",
    "    model_config=model_config,\n",
    "    optimizer_config=optimizer_config,\n",
    "    trainer_config=trainer_config,\n",
    "    suppress_lightning_logger=True,\n",
    ")\n",
    "\n",
    "with warnings.catch_warnings():\n",
    "    warnings.simplefilter(\"ignore\")\n",
    "    result = tuner.tune(\n",
    "        train=train,\n",
    "        validation=None,\n",
    "        search_space=search_space,\n",
    "        metric=\"mean_absolute_error\",\n",
    "        mode=\"min\",\n",
    "        strategy=\"random_search\",\n",
    "        n_trials=n_trials,\n",
    "        cv=5,\n",
    "        return_best_model=True,\n",
    "        verbose=False,\n",
    "        progress_bar=False,\n",
    "        random_state=seed,\n",
    "    )\n",
    "result.trials_df.to_excel(f\"{trainer_config['checkpoints_path']}/trials/FTTransformer_{seed}_{n_trials}_{dict_hash(search_space)[:10]}.xlsx\")"
   ],
   "metadata": {
    "collapsed": false
   },
   "execution_count": null
  },
  {
   "cell_type": "markdown",
   "source": [
    "# TabNetModel Greed Search"
   ],
   "metadata": {
    "collapsed": false
   }
  },
  {
   "cell_type": "code",
   "outputs": [],
   "source": [
    "seed = 42\n",
    "n_trials = 100\n",
    "\n",
    "# search_space = {\n",
    "#     \"model_config__n_d\": [4, 8, 12, 16, 24, 32, 48],\n",
    "#     \"model_config__n_a\": [4, 8, 12, 16, 24, 32, 48],\n",
    "#     \"model_config__n_steps\": [3, 5, 7],\n",
    "#     \"model_config__gamma\": [1.1, 1.3, 1.5, 1.7, 1.9],\n",
    "#     \"model_config__n_independent\": [1, 2, 3],\n",
    "#     \"model_config__n_shared\": [1, 2, 3],\n",
    "#     \"model_config__mask_type\": [\"sparsemax\", \"entmax\"],\n",
    "#     \"model_config.head_config__dropout\": [0.01, 0.025, 0.05, 0.1, 0.15, 0.2, 0.25, 0.3],\n",
    "# }\n",
    "\n",
    "search_space = {\n",
    "    \"model_config__n_d\": [16, 32],\n",
    "    \"model_config__n_a\": [16, 32],\n",
    "    \"model_config__n_steps\": [3, 5],\n",
    "    \"model_config__gamma\": [1.3, 1.9],\n",
    "    \"model_config__n_independent\": [1, 2, 3],\n",
    "    \"model_config__n_shared\": [1, 2, 3],\n",
    "    \"model_config__mask_type\": [\"sparsemax\"],\n",
    "    \"model_config.head_config__dropout\": [0.1, 0.2],\n",
    "}\n",
    "\n",
    "data_config = read_parse_config(f\"{path_configs}/DataConfig.yaml\", DataConfig)\n",
    "model_config = read_parse_config(f\"{path_configs}/TabNetModelConfig.yaml\", TabNetModelConfig)\n",
    "trainer_config = read_parse_config(f\"{path_configs}/TrainerConfig.yaml\", TrainerConfig)\n",
    "trainer_config['checkpoints'] = None\n",
    "trainer_config['load_best'] = False\n",
    "optimizer_config = read_parse_config(f\"{path_configs}/OptimizerConfig.yaml\", OptimizerConfig)\n",
    "\n",
    "tuner = TabularModelTuner(\n",
    "    data_config=data_config,\n",
    "    model_config=model_config,\n",
    "    optimizer_config=optimizer_config,\n",
    "    trainer_config=trainer_config,\n",
    "    suppress_lightning_logger=True,\n",
    ")\n",
    "\n",
    "with warnings.catch_warnings():\n",
    "    warnings.simplefilter(\"ignore\")\n",
    "    result = tuner.tune(\n",
    "        train=train,\n",
    "        validation=None,\n",
    "        search_space=search_space,\n",
    "        metric=\"mean_absolute_error\",\n",
    "        mode=\"min\",\n",
    "        strategy=\"random_search\",\n",
    "        n_trials=n_trials,\n",
    "        cv=5,\n",
    "        return_best_model=True,\n",
    "        verbose=False,\n",
    "        progress_bar=False,\n",
    "        random_state=seed,\n",
    "    )\n",
    "result.trials_df.to_excel(f\"{trainer_config['checkpoints_path']}/trials/TabNetModel_{seed}_{n_trials}_{dict_hash(search_space)[:10]}.xlsx\")"
   ],
   "metadata": {
    "collapsed": false
   },
   "execution_count": null
  },
  {
   "cell_type": "markdown",
   "source": [
    "# Model Sweep training"
   ],
   "metadata": {
    "collapsed": false
   }
  },
  {
   "cell_type": "code",
   "outputs": [],
   "source": [
    "print(list(MODEL_SWEEP_PRESETS.keys()))\n",
    "print(list(MODEL_SWEEP_PRESETS[\"standard\"]))"
   ],
   "metadata": {
    "collapsed": false
   },
   "execution_count": null
  },
  {
   "cell_type": "code",
   "outputs": [],
   "source": [
    "seed = 22222\n",
    "n_top_trials = 10\n",
    "\n",
    "target_models_types = [\n",
    "    'CategoryEmbeddingModel',\n",
    "    'GANDALF',\n",
    "    'TabNetModel'\n",
    "]\n",
    "\n",
    "data_config = read_parse_config(f\"{path_configs}/DataConfig.yaml\", DataConfig)\n",
    "optimizer_config = read_parse_config(f\"{path_configs}/OptimizerConfig.yaml\", OptimizerConfig)\n",
    "trainer_config = read_parse_config(f\"{path_configs}/TrainerConfig.yaml\", TrainerConfig)\n",
    "trainer_config['seed'] = seed\n",
    "\n",
    "common_params = {\n",
    "    \"task\": \"regression\",\n",
    "}\n",
    "\n",
    "head_config = LinearHeadConfig(\n",
    "    layers=\"\",\n",
    "    activation='ReLU',\n",
    "    dropout=0.1,\n",
    "    use_batch_norm=False,\n",
    "    initialization=\"kaiming\"\n",
    ").__dict__\n",
    "\n",
    "model_list = []\n",
    "for model_type in target_models_types:\n",
    "    trials_files = glob(f\"{trainer_config['checkpoints_path']}/trials/{model_type}_*.xlsx\")\n",
    "    for trials_file in trials_files:\n",
    "        df_trials = pd.read_excel(trials_file, index_col=0)\n",
    "        df_trials.sort_values(['mean_absolute_error'], ascending=[True], inplace=True)\n",
    "        df_trials = df_trials.head(n_top_trials)\n",
    "        for _, row in df_trials.iterrows():\n",
    "            head_config_tmp = copy.deepcopy(head_config)\n",
    "            head_config_tmp['dropout'] = row['model_config.head_config__dropout']\n",
    "            if model_type == 'CategoryEmbeddingModel':\n",
    "                model_config = read_parse_config(f\"{path_configs}/{model_type}Config.yaml\", CategoryEmbeddingModelConfig)\n",
    "                model_config['layers'] = row['model_config__layers']\n",
    "                model_config['head_config'] = head_config_tmp\n",
    "                model_list.append(CategoryEmbeddingModelConfig(**model_config))\n",
    "            elif model_type == 'GANDALF':\n",
    "                model_config = read_parse_config(f\"{path_configs}/{model_type}Config.yaml\", GANDALFConfig)\n",
    "                model_config['gflu_stages'] = row['model_config__gflu_stages']\n",
    "                model_config['gflu_feature_init_sparsity'] = row['model_config__gflu_feature_init_sparsity']\n",
    "                model_config['gflu_dropout'] = row['model_config__gflu_dropout']\n",
    "                model_config['head_config'] = head_config_tmp\n",
    "                model_list.append(GANDALFConfig(**model_config))\n",
    "            elif model_type == 'TabNetModel':\n",
    "                model_config = read_parse_config(f\"{path_configs}/{model_type}Config.yaml\", TabNetModelConfig)\n",
    "                model_config['n_steps'] = row['model_config__n_steps']\n",
    "                model_config['n_shared'] = row['model_config__n_shared']\n",
    "                model_config['n_independent'] = row['model_config__n_independent']\n",
    "                model_config['n_d'] = row['model_config__n_d']\n",
    "                model_config['n_a'] = row['model_config__n_a']\n",
    "                model_config['mask_type'] = row['model_config__mask_type']\n",
    "                model_config['gamma'] = row['model_config__gamma']\n",
    "                model_config['head_config'] = head_config_tmp\n",
    "                model_list.append(TabNetModelConfig(**model_config))\n",
    "print(len(model_list))"
   ],
   "metadata": {
    "collapsed": false
   },
   "execution_count": null
  },
  {
   "cell_type": "code",
   "outputs": [],
   "source": [
    "              \n",
    "with warnings.catch_warnings():\n",
    "    warnings.simplefilter(\"ignore\")\n",
    "    sweep_df, best_model = model_sweep(\n",
    "        task=\"regression\",\n",
    "        train=train,\n",
    "        validation=None,\n",
    "        test=test,\n",
    "        data_config=data_config,\n",
    "        optimizer_config=optimizer_config,\n",
    "        trainer_config=trainer_config,\n",
    "        model_list=model_list,\n",
    "        common_model_args=common_params,\n",
    "        metrics=[\"mean_absolute_error\", \"pearson_corrcoef\"],\n",
    "        metrics_params=[{}, {}],\n",
    "        metrics_prob_input=[False, False],\n",
    "        rank_metric=(\"mean_absolute_error\", \"lower_is_better\"),\n",
    "        return_best_model=True,\n",
    "        seed=seed,\n",
    "        progress_bar=False,\n",
    "        verbose=False,\n",
    "        suppress_lightning_logger=True,\n",
    "    )\n",
    "sweep_df.style.background_gradient(\n",
    "    subset=[\"test_mean_absolute_error\", \"time_taken\", \"time_taken_per_epoch\"], cmap=\"RdYlGn_r\"\n",
    ").background_gradient(\n",
    "    subset=[\"test_pearson_corrcoef\"], cmap=\"RdYlGn\"\n",
    ").to_excel(f\"{trainer_config['checkpoints_path']}/sweep_{seed}.xlsx\")"
   ],
   "metadata": {
    "collapsed": false
   },
   "execution_count": null
  },
  {
   "cell_type": "code",
   "outputs": [],
   "source": [
    "best_model.trainer.checkpoint_callback.best_model_path\n",
    "best_model.summary()"
   ],
   "metadata": {
    "collapsed": false
   },
   "execution_count": null
  },
  {
   "cell_type": "markdown",
   "source": [
    "# TabularModel training"
   ],
   "metadata": {
    "collapsed": false
   }
  },
  {
   "cell_type": "code",
   "outputs": [],
   "source": [
    "tabular_model = TabularModel(\n",
    "    data_config=f\"{path_configs}/DataConfig.yaml\",\n",
    "    model_config=f\"{path_configs}/CategoryEmbeddingModelConfig.yaml\",\n",
    "    optimizer_config=f\"{path_configs}/OptimizerConfig.yaml\",\n",
    "    trainer_config=f\"{path_configs}/TrainerConfig.yaml\",\n",
    "    verbose=True,\n",
    "    suppress_lightning_logger=False\n",
    ")\n",
    "\n",
    "tabular_model.fit(\n",
    "    train=train,\n",
    "    validation=None,\n",
    "    # target_transform=[np.log, np.exp],\n",
    "    # callbacks=[DeviceStatsMonitor()],\n",
    ")"
   ],
   "metadata": {
    "collapsed": false
   },
   "execution_count": null
  },
  {
   "cell_type": "code",
   "outputs": [],
   "source": [
    "prediction = tabular_model.predict(test, progress_bar='rich')"
   ],
   "metadata": {
    "collapsed": false
   },
   "execution_count": null
  },
  {
   "cell_type": "code",
   "outputs": [],
   "source": [
    "tabular_model.evaluate(test, verbose=True, ckpt_path=\"best\")"
   ],
   "metadata": {
    "collapsed": false
   },
   "execution_count": null
  },
  {
   "cell_type": "code",
   "outputs": [],
   "source": [
    "tabular_model.trainer.checkpoint_callback.best_model_path"
   ],
   "metadata": {
    "collapsed": false
   },
   "execution_count": null
  },
  {
   "cell_type": "code",
   "outputs": [],
   "source": [
    "tabular_model.summary()"
   ],
   "metadata": {
    "collapsed": false
   },
   "execution_count": null
  },
  {
   "cell_type": "code",
   "outputs": [],
   "source": [
    "tabular_model.save_model(tabular_model.config['checkpoints_path'])"
   ],
   "metadata": {
    "collapsed": false
   },
   "execution_count": null
  },
  {
   "cell_type": "code",
   "outputs": [],
   "source": [
    "tabular_model.save_config(tabular_model.config['checkpoints_path'])"
   ],
   "metadata": {
    "collapsed": false
   },
   "execution_count": null
  },
  {
   "cell_type": "code",
   "outputs": [],
   "source": [
    "model = TabularModel.load_model(f\"{path_data}/pytorch_tabular\")"
   ],
   "metadata": {
    "collapsed": false
   },
   "execution_count": null
  }
 ],
 "metadata": {
  "kernelspec": {
   "name": "python3",
   "language": "python",
   "display_name": "Python 3 (ipykernel)"
  },
  "language_info": {
   "codemirror_mode": {
    "name": "ipython",
    "version": 2
   },
   "file_extension": ".py",
   "mimetype": "text/x-python",
   "name": "python",
   "nbconvert_exporter": "python",
   "pygments_lexer": "ipython2",
   "version": "2.7.6"
  }
 },
 "nbformat": 4,
 "nbformat_minor": 0
}
